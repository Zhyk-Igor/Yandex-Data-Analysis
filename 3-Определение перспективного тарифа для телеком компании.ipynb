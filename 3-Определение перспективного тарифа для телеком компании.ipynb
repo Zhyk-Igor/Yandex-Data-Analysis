{
 "cells": [
  {
   "cell_type": "code",
   "execution_count": 1,
   "metadata": {},
   "outputs": [],
   "source": [
    "import pandas as pd\n",
    "import numpy as np\n",
    "import matplotlib.pyplot as plt\n",
    "from scipy import stats as st"
   ]
  },
  {
   "cell_type": "markdown",
   "metadata": {},
   "source": [
    "## 1. Ознакомление с данными "
   ]
  },
  {
   "cell_type": "markdown",
   "metadata": {},
   "source": [
    "Загружаем данные:"
   ]
  },
  {
   "cell_type": "code",
   "execution_count": 2,
   "metadata": {},
   "outputs": [],
   "source": [
    "users = pd.read_csv('/datasets/users.csv')\n",
    "calls = pd.read_csv('/datasets/calls.csv')\n",
    "messages = pd.read_csv('/datasets/messages.csv')\n",
    "internet = pd.read_csv('/datasets/internet.csv')\n",
    "tariffs = pd.read_csv('/datasets/tariffs.csv')"
   ]
  },
  {
   "cell_type": "markdown",
   "metadata": {},
   "source": [
    "### 1.1. Смотрим общую информацию и чистим данные."
   ]
  },
  {
   "cell_type": "markdown",
   "metadata": {},
   "source": [
    "Начинаем с пользователей тарифных планов"
   ]
  },
  {
   "cell_type": "code",
   "execution_count": 3,
   "metadata": {},
   "outputs": [
    {
     "data": {
      "text/html": [
       "<div>\n",
       "<style scoped>\n",
       "    .dataframe tbody tr th:only-of-type {\n",
       "        vertical-align: middle;\n",
       "    }\n",
       "\n",
       "    .dataframe tbody tr th {\n",
       "        vertical-align: top;\n",
       "    }\n",
       "\n",
       "    .dataframe thead th {\n",
       "        text-align: right;\n",
       "    }\n",
       "</style>\n",
       "<table border=\"1\" class=\"dataframe\">\n",
       "  <thead>\n",
       "    <tr style=\"text-align: right;\">\n",
       "      <th></th>\n",
       "      <th>user_id</th>\n",
       "      <th>age</th>\n",
       "      <th>churn_date</th>\n",
       "      <th>city</th>\n",
       "      <th>first_name</th>\n",
       "      <th>last_name</th>\n",
       "      <th>reg_date</th>\n",
       "      <th>tariff</th>\n",
       "    </tr>\n",
       "  </thead>\n",
       "  <tbody>\n",
       "    <tr>\n",
       "      <td>0</td>\n",
       "      <td>1000</td>\n",
       "      <td>52</td>\n",
       "      <td>NaN</td>\n",
       "      <td>Краснодар</td>\n",
       "      <td>Рафаил</td>\n",
       "      <td>Верещагин</td>\n",
       "      <td>2018-05-25</td>\n",
       "      <td>ultra</td>\n",
       "    </tr>\n",
       "    <tr>\n",
       "      <td>1</td>\n",
       "      <td>1001</td>\n",
       "      <td>41</td>\n",
       "      <td>NaN</td>\n",
       "      <td>Москва</td>\n",
       "      <td>Иван</td>\n",
       "      <td>Ежов</td>\n",
       "      <td>2018-11-01</td>\n",
       "      <td>smart</td>\n",
       "    </tr>\n",
       "    <tr>\n",
       "      <td>2</td>\n",
       "      <td>1002</td>\n",
       "      <td>59</td>\n",
       "      <td>NaN</td>\n",
       "      <td>Стерлитамак</td>\n",
       "      <td>Евгений</td>\n",
       "      <td>Абрамович</td>\n",
       "      <td>2018-06-17</td>\n",
       "      <td>smart</td>\n",
       "    </tr>\n",
       "    <tr>\n",
       "      <td>3</td>\n",
       "      <td>1003</td>\n",
       "      <td>23</td>\n",
       "      <td>NaN</td>\n",
       "      <td>Москва</td>\n",
       "      <td>Белла</td>\n",
       "      <td>Белякова</td>\n",
       "      <td>2018-08-17</td>\n",
       "      <td>ultra</td>\n",
       "    </tr>\n",
       "    <tr>\n",
       "      <td>4</td>\n",
       "      <td>1004</td>\n",
       "      <td>68</td>\n",
       "      <td>NaN</td>\n",
       "      <td>Новокузнецк</td>\n",
       "      <td>Татьяна</td>\n",
       "      <td>Авдеенко</td>\n",
       "      <td>2018-05-14</td>\n",
       "      <td>ultra</td>\n",
       "    </tr>\n",
       "  </tbody>\n",
       "</table>\n",
       "</div>"
      ],
      "text/plain": [
       "   user_id  age churn_date         city first_name  last_name    reg_date  \\\n",
       "0     1000   52        NaN    Краснодар     Рафаил  Верещагин  2018-05-25   \n",
       "1     1001   41        NaN       Москва       Иван       Ежов  2018-11-01   \n",
       "2     1002   59        NaN  Стерлитамак    Евгений  Абрамович  2018-06-17   \n",
       "3     1003   23        NaN       Москва      Белла   Белякова  2018-08-17   \n",
       "4     1004   68        NaN  Новокузнецк    Татьяна   Авдеенко  2018-05-14   \n",
       "\n",
       "  tariff  \n",
       "0  ultra  \n",
       "1  smart  \n",
       "2  smart  \n",
       "3  ultra  \n",
       "4  ultra  "
      ]
     },
     "execution_count": 3,
     "metadata": {},
     "output_type": "execute_result"
    }
   ],
   "source": [
    "users.head()"
   ]
  },
  {
   "cell_type": "code",
   "execution_count": 4,
   "metadata": {},
   "outputs": [
    {
     "name": "stdout",
     "output_type": "stream",
     "text": [
      "Число строк в датафрейме users: 500\n",
      "Число уникальных пользователей: 500\n",
      "Число дубликатов: 0\n"
     ]
    }
   ],
   "source": [
    "print(\"Число строк в датафрейме users:\", users.shape[0])\n",
    "print(\"Число уникальных пользователей:\", users['user_id'].count())\n",
    "print(\"Число дубликатов:\", users.duplicated().sum())"
   ]
  },
  {
   "cell_type": "markdown",
   "metadata": {},
   "source": [
    "Все пользователи уникальные, дубликатов нет.\n",
    "Посмотрим на пропуски:"
   ]
  },
  {
   "cell_type": "code",
   "execution_count": 5,
   "metadata": {},
   "outputs": [
    {
     "name": "stdout",
     "output_type": "stream",
     "text": [
      "<class 'pandas.core.frame.DataFrame'>\n",
      "RangeIndex: 500 entries, 0 to 499\n",
      "Data columns (total 8 columns):\n",
      "user_id       500 non-null int64\n",
      "age           500 non-null int64\n",
      "churn_date    38 non-null object\n",
      "city          500 non-null object\n",
      "first_name    500 non-null object\n",
      "last_name     500 non-null object\n",
      "reg_date      500 non-null object\n",
      "tariff        500 non-null object\n",
      "dtypes: int64(2), object(6)\n",
      "memory usage: 31.4+ KB\n"
     ]
    }
   ],
   "source": [
    "users.info()"
   ]
  },
  {
   "cell_type": "code",
   "execution_count": 6,
   "metadata": {},
   "outputs": [
    {
     "data": {
      "text/html": [
       "<div>\n",
       "<style scoped>\n",
       "    .dataframe tbody tr th:only-of-type {\n",
       "        vertical-align: middle;\n",
       "    }\n",
       "\n",
       "    .dataframe tbody tr th {\n",
       "        vertical-align: top;\n",
       "    }\n",
       "\n",
       "    .dataframe thead th {\n",
       "        text-align: right;\n",
       "    }\n",
       "</style>\n",
       "<table border=\"1\" class=\"dataframe\">\n",
       "  <thead>\n",
       "    <tr style=\"text-align: right;\">\n",
       "      <th></th>\n",
       "      <th>reg_date</th>\n",
       "      <th>churn_date</th>\n",
       "    </tr>\n",
       "  </thead>\n",
       "  <tbody>\n",
       "    <tr>\n",
       "      <td>count</td>\n",
       "      <td>500</td>\n",
       "      <td>38</td>\n",
       "    </tr>\n",
       "    <tr>\n",
       "      <td>unique</td>\n",
       "      <td>270</td>\n",
       "      <td>33</td>\n",
       "    </tr>\n",
       "    <tr>\n",
       "      <td>top</td>\n",
       "      <td>2018-05-28</td>\n",
       "      <td>2018-12-03</td>\n",
       "    </tr>\n",
       "    <tr>\n",
       "      <td>freq</td>\n",
       "      <td>8</td>\n",
       "      <td>2</td>\n",
       "    </tr>\n",
       "  </tbody>\n",
       "</table>\n",
       "</div>"
      ],
      "text/plain": [
       "          reg_date  churn_date\n",
       "count          500          38\n",
       "unique         270          33\n",
       "top     2018-05-28  2018-12-03\n",
       "freq             8           2"
      ]
     },
     "execution_count": 6,
     "metadata": {},
     "output_type": "execute_result"
    }
   ],
   "source": [
    "users[['reg_date', 'churn_date']].describe()"
   ]
  },
  {
   "cell_type": "markdown",
   "metadata": {},
   "source": [
    "Пропуски только в столбце churn_date, причем их довольно много. Смотрим описание задачи - там сказано:\n",
    "churn_date дата прекращения пользования тарифом (если значение пропущено, то тариф ещё действовал на момент выгрузки данных)\".\n",
    "Вот и хорошо, оставим данные в этом столбце как есть - для решения поставленной задачи они нам не нужны. \n",
    "Так последняя дата прекращения пользования была на 09.12.2018г оцениваем анализ в рамках 2018 года."
   ]
  },
  {
   "cell_type": "markdown",
   "metadata": {},
   "source": [
    "reg_date в последующем поменяем на datatime"
   ]
  },
  {
   "cell_type": "markdown",
   "metadata": {},
   "source": [
    "Посмотрим таблицу calls:"
   ]
  },
  {
   "cell_type": "code",
   "execution_count": 7,
   "metadata": {},
   "outputs": [
    {
     "data": {
      "text/html": [
       "<div>\n",
       "<style scoped>\n",
       "    .dataframe tbody tr th:only-of-type {\n",
       "        vertical-align: middle;\n",
       "    }\n",
       "\n",
       "    .dataframe tbody tr th {\n",
       "        vertical-align: top;\n",
       "    }\n",
       "\n",
       "    .dataframe thead th {\n",
       "        text-align: right;\n",
       "    }\n",
       "</style>\n",
       "<table border=\"1\" class=\"dataframe\">\n",
       "  <thead>\n",
       "    <tr style=\"text-align: right;\">\n",
       "      <th></th>\n",
       "      <th>id</th>\n",
       "      <th>call_date</th>\n",
       "      <th>duration</th>\n",
       "      <th>user_id</th>\n",
       "    </tr>\n",
       "  </thead>\n",
       "  <tbody>\n",
       "    <tr>\n",
       "      <td>0</td>\n",
       "      <td>1000_0</td>\n",
       "      <td>2018-07-25</td>\n",
       "      <td>0.00</td>\n",
       "      <td>1000</td>\n",
       "    </tr>\n",
       "    <tr>\n",
       "      <td>1</td>\n",
       "      <td>1000_1</td>\n",
       "      <td>2018-08-17</td>\n",
       "      <td>0.00</td>\n",
       "      <td>1000</td>\n",
       "    </tr>\n",
       "    <tr>\n",
       "      <td>2</td>\n",
       "      <td>1000_2</td>\n",
       "      <td>2018-06-11</td>\n",
       "      <td>2.85</td>\n",
       "      <td>1000</td>\n",
       "    </tr>\n",
       "    <tr>\n",
       "      <td>3</td>\n",
       "      <td>1000_3</td>\n",
       "      <td>2018-09-21</td>\n",
       "      <td>13.80</td>\n",
       "      <td>1000</td>\n",
       "    </tr>\n",
       "    <tr>\n",
       "      <td>4</td>\n",
       "      <td>1000_4</td>\n",
       "      <td>2018-12-15</td>\n",
       "      <td>5.18</td>\n",
       "      <td>1000</td>\n",
       "    </tr>\n",
       "  </tbody>\n",
       "</table>\n",
       "</div>"
      ],
      "text/plain": [
       "       id   call_date  duration  user_id\n",
       "0  1000_0  2018-07-25      0.00     1000\n",
       "1  1000_1  2018-08-17      0.00     1000\n",
       "2  1000_2  2018-06-11      2.85     1000\n",
       "3  1000_3  2018-09-21     13.80     1000\n",
       "4  1000_4  2018-12-15      5.18     1000"
      ]
     },
     "execution_count": 7,
     "metadata": {},
     "output_type": "execute_result"
    }
   ],
   "source": [
    "calls.head()"
   ]
  },
  {
   "cell_type": "code",
   "execution_count": 8,
   "metadata": {},
   "outputs": [
    {
     "name": "stdout",
     "output_type": "stream",
     "text": [
      "<class 'pandas.core.frame.DataFrame'>\n",
      "RangeIndex: 202607 entries, 0 to 202606\n",
      "Data columns (total 4 columns):\n",
      "id           202607 non-null object\n",
      "call_date    202607 non-null object\n",
      "duration     202607 non-null float64\n",
      "user_id      202607 non-null int64\n",
      "dtypes: float64(1), int64(1), object(2)\n",
      "memory usage: 6.2+ MB\n"
     ]
    }
   ],
   "source": [
    "calls.info()"
   ]
  },
  {
   "cell_type": "markdown",
   "metadata": {},
   "source": [
    "Данные полные, без пропусков."
   ]
  },
  {
   "cell_type": "markdown",
   "metadata": {},
   "source": [
    "Построим гистограмму распределения звонков"
   ]
  },
  {
   "cell_type": "code",
   "execution_count": 9,
   "metadata": {},
   "outputs": [
    {
     "data": {
      "text/plain": [
       "<matplotlib.axes._subplots.AxesSubplot at 0x7fae37c8cad0>"
      ]
     },
     "execution_count": 9,
     "metadata": {},
     "output_type": "execute_result"
    },
    {
     "data": {
      "image/png": "[encoded data removed]",
      "text/plain": [
       "<Figure size 432x288 with 1 Axes>"
      ]
     },
     "metadata": {
      "needs_background": "light"
     },
     "output_type": "display_data"
    }
   ],
   "source": [
    "plt.style.use('seaborn-pastel')\n",
    "calls['duration'].plot(kind='hist', ec='black', bins=50)"
   ]
  },
  {
   "cell_type": "markdown",
   "metadata": {},
   "source": [
    "Можем быть, все звонки длительностью до 1 минуты, имеют длительность \"0\"? Проверяем:"
   ]
  },
  {
   "cell_type": "code",
   "execution_count": 10,
   "metadata": {},
   "outputs": [
    {
     "data": {
      "text/html": [
       "<div>\n",
       "<style scoped>\n",
       "    .dataframe tbody tr th:only-of-type {\n",
       "        vertical-align: middle;\n",
       "    }\n",
       "\n",
       "    .dataframe tbody tr th {\n",
       "        vertical-align: top;\n",
       "    }\n",
       "\n",
       "    .dataframe thead th {\n",
       "        text-align: right;\n",
       "    }\n",
       "</style>\n",
       "<table border=\"1\" class=\"dataframe\">\n",
       "  <thead>\n",
       "    <tr style=\"text-align: right;\">\n",
       "      <th></th>\n",
       "      <th>id</th>\n",
       "      <th>call_date</th>\n",
       "      <th>duration</th>\n",
       "      <th>user_id</th>\n",
       "    </tr>\n",
       "  </thead>\n",
       "  <tbody>\n",
       "    <tr>\n",
       "      <td>0</td>\n",
       "      <td>1000_0</td>\n",
       "      <td>2018-07-25</td>\n",
       "      <td>0.0</td>\n",
       "      <td>1000</td>\n",
       "    </tr>\n",
       "    <tr>\n",
       "      <td>1</td>\n",
       "      <td>1000_1</td>\n",
       "      <td>2018-08-17</td>\n",
       "      <td>0.0</td>\n",
       "      <td>1000</td>\n",
       "    </tr>\n",
       "    <tr>\n",
       "      <td>5</td>\n",
       "      <td>1000_5</td>\n",
       "      <td>2018-11-02</td>\n",
       "      <td>0.0</td>\n",
       "      <td>1000</td>\n",
       "    </tr>\n",
       "    <tr>\n",
       "      <td>6</td>\n",
       "      <td>1000_6</td>\n",
       "      <td>2018-10-18</td>\n",
       "      <td>0.0</td>\n",
       "      <td>1000</td>\n",
       "    </tr>\n",
       "    <tr>\n",
       "      <td>9</td>\n",
       "      <td>1000_9</td>\n",
       "      <td>2018-08-15</td>\n",
       "      <td>0.0</td>\n",
       "      <td>1000</td>\n",
       "    </tr>\n",
       "    <tr>\n",
       "      <td>...</td>\n",
       "      <td>...</td>\n",
       "      <td>...</td>\n",
       "      <td>...</td>\n",
       "      <td>...</td>\n",
       "    </tr>\n",
       "    <tr>\n",
       "      <td>202590</td>\n",
       "      <td>1499_203</td>\n",
       "      <td>2018-12-03</td>\n",
       "      <td>0.0</td>\n",
       "      <td>1499</td>\n",
       "    </tr>\n",
       "    <tr>\n",
       "      <td>202592</td>\n",
       "      <td>1499_205</td>\n",
       "      <td>2018-10-13</td>\n",
       "      <td>0.0</td>\n",
       "      <td>1499</td>\n",
       "    </tr>\n",
       "    <tr>\n",
       "      <td>202593</td>\n",
       "      <td>1499_206</td>\n",
       "      <td>2018-12-26</td>\n",
       "      <td>0.0</td>\n",
       "      <td>1499</td>\n",
       "    </tr>\n",
       "    <tr>\n",
       "      <td>202594</td>\n",
       "      <td>1499_207</td>\n",
       "      <td>2018-10-28</td>\n",
       "      <td>0.0</td>\n",
       "      <td>1499</td>\n",
       "    </tr>\n",
       "    <tr>\n",
       "      <td>202596</td>\n",
       "      <td>1499_209</td>\n",
       "      <td>2018-12-16</td>\n",
       "      <td>0.0</td>\n",
       "      <td>1499</td>\n",
       "    </tr>\n",
       "  </tbody>\n",
       "</table>\n",
       "<p>39613 rows × 4 columns</p>\n",
       "</div>"
      ],
      "text/plain": [
       "              id   call_date  duration  user_id\n",
       "0         1000_0  2018-07-25       0.0     1000\n",
       "1         1000_1  2018-08-17       0.0     1000\n",
       "5         1000_5  2018-11-02       0.0     1000\n",
       "6         1000_6  2018-10-18       0.0     1000\n",
       "9         1000_9  2018-08-15       0.0     1000\n",
       "...          ...         ...       ...      ...\n",
       "202590  1499_203  2018-12-03       0.0     1499\n",
       "202592  1499_205  2018-10-13       0.0     1499\n",
       "202593  1499_206  2018-12-26       0.0     1499\n",
       "202594  1499_207  2018-10-28       0.0     1499\n",
       "202596  1499_209  2018-12-16       0.0     1499\n",
       "\n",
       "[39613 rows x 4 columns]"
      ]
     },
     "execution_count": 10,
     "metadata": {},
     "output_type": "execute_result"
    }
   ],
   "source": [
    "calls.query('duration == 0')"
   ]
  },
  {
   "cell_type": "markdown",
   "metadata": {},
   "source": [
    "Проверим к одному ли тарифу они относятся. "
   ]
  },
  {
   "cell_type": "code",
   "execution_count": 11,
   "metadata": {},
   "outputs": [
    {
     "data": {
      "text/plain": [
       "smart    130315\n",
       "ultra     72292\n",
       "Name: Тариф, dtype: int64"
      ]
     },
     "execution_count": 11,
     "metadata": {},
     "output_type": "execute_result"
    }
   ],
   "source": [
    "map_to_fill_tariff = dict(pd.Series(users['tariff'].values, index=users['user_id']))\n",
    "calls['Тариф'] = calls['user_id'].map(map_to_fill_tariff)\n",
    "calls['Тариф'].value_counts()"
   ]
  },
  {
   "cell_type": "markdown",
   "metadata": {},
   "source": [
    "В каждом из тарифов есть нулевые звонки. Похоже это звонки не соотоявшиеся (был абонент занят или не доступен). Т.к. они не участвуют в тарификации звонко, то мы их удаляем."
   ]
  },
  {
   "cell_type": "code",
   "execution_count": 12,
   "metadata": {},
   "outputs": [],
   "source": [
    "calls['duration'] = calls['duration'].replace(0, np.NaN)\n",
    "calls = calls.dropna()"
   ]
  },
  {
   "cell_type": "markdown",
   "metadata": {},
   "source": [
    "Т.к. тарификация по минутная, то округляем в большую сторону. Приводим продлжительность звонков до целых минут. И посмотрим результат."
   ]
  },
  {
   "cell_type": "code",
   "execution_count": 13,
   "metadata": {},
   "outputs": [
    {
     "data": {
      "text/html": [
       "<div>\n",
       "<style scoped>\n",
       "    .dataframe tbody tr th:only-of-type {\n",
       "        vertical-align: middle;\n",
       "    }\n",
       "\n",
       "    .dataframe tbody tr th {\n",
       "        vertical-align: top;\n",
       "    }\n",
       "\n",
       "    .dataframe thead th {\n",
       "        text-align: right;\n",
       "    }\n",
       "</style>\n",
       "<table border=\"1\" class=\"dataframe\">\n",
       "  <thead>\n",
       "    <tr style=\"text-align: right;\">\n",
       "      <th></th>\n",
       "      <th>id</th>\n",
       "      <th>call_date</th>\n",
       "      <th>duration</th>\n",
       "      <th>user_id</th>\n",
       "      <th>Тариф</th>\n",
       "    </tr>\n",
       "  </thead>\n",
       "  <tbody>\n",
       "    <tr>\n",
       "      <td>2</td>\n",
       "      <td>1000_2</td>\n",
       "      <td>2018-06-11</td>\n",
       "      <td>3.0</td>\n",
       "      <td>1000</td>\n",
       "      <td>ultra</td>\n",
       "    </tr>\n",
       "    <tr>\n",
       "      <td>3</td>\n",
       "      <td>1000_3</td>\n",
       "      <td>2018-09-21</td>\n",
       "      <td>14.0</td>\n",
       "      <td>1000</td>\n",
       "      <td>ultra</td>\n",
       "    </tr>\n",
       "    <tr>\n",
       "      <td>4</td>\n",
       "      <td>1000_4</td>\n",
       "      <td>2018-12-15</td>\n",
       "      <td>6.0</td>\n",
       "      <td>1000</td>\n",
       "      <td>ultra</td>\n",
       "    </tr>\n",
       "    <tr>\n",
       "      <td>7</td>\n",
       "      <td>1000_7</td>\n",
       "      <td>2018-08-22</td>\n",
       "      <td>19.0</td>\n",
       "      <td>1000</td>\n",
       "      <td>ultra</td>\n",
       "    </tr>\n",
       "    <tr>\n",
       "      <td>8</td>\n",
       "      <td>1000_8</td>\n",
       "      <td>2018-09-15</td>\n",
       "      <td>19.0</td>\n",
       "      <td>1000</td>\n",
       "      <td>ultra</td>\n",
       "    </tr>\n",
       "  </tbody>\n",
       "</table>\n",
       "</div>"
      ],
      "text/plain": [
       "       id   call_date  duration  user_id  Тариф\n",
       "2  1000_2  2018-06-11       3.0     1000  ultra\n",
       "3  1000_3  2018-09-21      14.0     1000  ultra\n",
       "4  1000_4  2018-12-15       6.0     1000  ultra\n",
       "7  1000_7  2018-08-22      19.0     1000  ultra\n",
       "8  1000_8  2018-09-15      19.0     1000  ultra"
      ]
     },
     "execution_count": 13,
     "metadata": {},
     "output_type": "execute_result"
    }
   ],
   "source": [
    "calls['duration'] = calls['duration'].apply(np.ceil)\n",
    "calls.head()"
   ]
  },
  {
   "cell_type": "markdown",
   "metadata": {},
   "source": [
    "Построим заново гистограмму"
   ]
  },
  {
   "cell_type": "code",
   "execution_count": 14,
   "metadata": {},
   "outputs": [
    {
     "data": {
      "text/plain": [
       "<matplotlib.axes._subplots.AxesSubplot at 0x7fae37075210>"
      ]
     },
     "execution_count": 14,
     "metadata": {},
     "output_type": "execute_result"
    },
    {
     "data": {
      "image/png": "[encoded data removed]",
      "text/plain": [
       "<Figure size 432x288 with 1 Axes>"
      ]
     },
     "metadata": {
      "needs_background": "light"
     },
     "output_type": "display_data"
    }
   ],
   "source": [
    "calls['duration'].plot(kind='hist', ec='black', bins=50)"
   ]
  },
  {
   "cell_type": "markdown",
   "metadata": {},
   "source": [
    "Посмотрим таблицу internet:"
   ]
  },
  {
   "cell_type": "code",
   "execution_count": 15,
   "metadata": {},
   "outputs": [
    {
     "data": {
      "text/html": [
       "<div>\n",
       "<style scoped>\n",
       "    .dataframe tbody tr th:only-of-type {\n",
       "        vertical-align: middle;\n",
       "    }\n",
       "\n",
       "    .dataframe tbody tr th {\n",
       "        vertical-align: top;\n",
       "    }\n",
       "\n",
       "    .dataframe thead th {\n",
       "        text-align: right;\n",
       "    }\n",
       "</style>\n",
       "<table border=\"1\" class=\"dataframe\">\n",
       "  <thead>\n",
       "    <tr style=\"text-align: right;\">\n",
       "      <th></th>\n",
       "      <th>Unnamed: 0</th>\n",
       "      <th>id</th>\n",
       "      <th>mb_used</th>\n",
       "      <th>session_date</th>\n",
       "      <th>user_id</th>\n",
       "    </tr>\n",
       "  </thead>\n",
       "  <tbody>\n",
       "    <tr>\n",
       "      <td>0</td>\n",
       "      <td>0</td>\n",
       "      <td>1000_0</td>\n",
       "      <td>112.95</td>\n",
       "      <td>2018-11-25</td>\n",
       "      <td>1000</td>\n",
       "    </tr>\n",
       "    <tr>\n",
       "      <td>1</td>\n",
       "      <td>1</td>\n",
       "      <td>1000_1</td>\n",
       "      <td>1052.81</td>\n",
       "      <td>2018-09-07</td>\n",
       "      <td>1000</td>\n",
       "    </tr>\n",
       "    <tr>\n",
       "      <td>2</td>\n",
       "      <td>2</td>\n",
       "      <td>1000_2</td>\n",
       "      <td>1197.26</td>\n",
       "      <td>2018-06-25</td>\n",
       "      <td>1000</td>\n",
       "    </tr>\n",
       "    <tr>\n",
       "      <td>3</td>\n",
       "      <td>3</td>\n",
       "      <td>1000_3</td>\n",
       "      <td>550.27</td>\n",
       "      <td>2018-08-22</td>\n",
       "      <td>1000</td>\n",
       "    </tr>\n",
       "    <tr>\n",
       "      <td>4</td>\n",
       "      <td>4</td>\n",
       "      <td>1000_4</td>\n",
       "      <td>302.56</td>\n",
       "      <td>2018-09-24</td>\n",
       "      <td>1000</td>\n",
       "    </tr>\n",
       "  </tbody>\n",
       "</table>\n",
       "</div>"
      ],
      "text/plain": [
       "   Unnamed: 0      id  mb_used session_date  user_id\n",
       "0           0  1000_0   112.95   2018-11-25     1000\n",
       "1           1  1000_1  1052.81   2018-09-07     1000\n",
       "2           2  1000_2  1197.26   2018-06-25     1000\n",
       "3           3  1000_3   550.27   2018-08-22     1000\n",
       "4           4  1000_4   302.56   2018-09-24     1000"
      ]
     },
     "execution_count": 15,
     "metadata": {},
     "output_type": "execute_result"
    }
   ],
   "source": [
    "internet.head()"
   ]
  },
  {
   "cell_type": "code",
   "execution_count": 16,
   "metadata": {},
   "outputs": [
    {
     "name": "stdout",
     "output_type": "stream",
     "text": [
      "<class 'pandas.core.frame.DataFrame'>\n",
      "RangeIndex: 149396 entries, 0 to 149395\n",
      "Data columns (total 5 columns):\n",
      "Unnamed: 0      149396 non-null int64\n",
      "id              149396 non-null object\n",
      "mb_used         149396 non-null float64\n",
      "session_date    149396 non-null object\n",
      "user_id         149396 non-null int64\n",
      "dtypes: float64(1), int64(2), object(2)\n",
      "memory usage: 5.7+ MB\n"
     ]
    }
   ],
   "source": [
    "internet.info()"
   ]
  },
  {
   "cell_type": "markdown",
   "metadata": {},
   "source": [
    "Данные полные, без пропусков."
   ]
  },
  {
   "cell_type": "code",
   "execution_count": 17,
   "metadata": {},
   "outputs": [
    {
     "data": {
      "text/plain": [
       "<matplotlib.axes._subplots.AxesSubplot at 0x7fae36fd6550>"
      ]
     },
     "execution_count": 17,
     "metadata": {},
     "output_type": "execute_result"
    },
    {
     "data": {
      "image/png": "[encoded data removed]",
      "text/plain": [
       "<Figure size 432x288 with 1 Axes>"
      ]
     },
     "metadata": {
      "needs_background": "light"
     },
     "output_type": "display_data"
    }
   ],
   "source": [
    "internet['mb_used'].plot(kind='hist', ec='black', bins=50)"
   ]
  },
  {
   "cell_type": "code",
   "execution_count": 18,
   "metadata": {},
   "outputs": [
    {
     "data": {
      "text/html": [
       "<div>\n",
       "<style scoped>\n",
       "    .dataframe tbody tr th:only-of-type {\n",
       "        vertical-align: middle;\n",
       "    }\n",
       "\n",
       "    .dataframe tbody tr th {\n",
       "        vertical-align: top;\n",
       "    }\n",
       "\n",
       "    .dataframe thead th {\n",
       "        text-align: right;\n",
       "    }\n",
       "</style>\n",
       "<table border=\"1\" class=\"dataframe\">\n",
       "  <thead>\n",
       "    <tr style=\"text-align: right;\">\n",
       "      <th></th>\n",
       "      <th>Unnamed: 0</th>\n",
       "      <th>id</th>\n",
       "      <th>mb_used</th>\n",
       "      <th>session_date</th>\n",
       "      <th>user_id</th>\n",
       "    </tr>\n",
       "  </thead>\n",
       "  <tbody>\n",
       "    <tr>\n",
       "      <td>11</td>\n",
       "      <td>11</td>\n",
       "      <td>1000_11</td>\n",
       "      <td>0.0</td>\n",
       "      <td>2018-08-28</td>\n",
       "      <td>1000</td>\n",
       "    </tr>\n",
       "    <tr>\n",
       "      <td>38</td>\n",
       "      <td>38</td>\n",
       "      <td>1000_38</td>\n",
       "      <td>0.0</td>\n",
       "      <td>2018-11-27</td>\n",
       "      <td>1000</td>\n",
       "    </tr>\n",
       "    <tr>\n",
       "      <td>46</td>\n",
       "      <td>46</td>\n",
       "      <td>1000_46</td>\n",
       "      <td>0.0</td>\n",
       "      <td>2018-06-30</td>\n",
       "      <td>1000</td>\n",
       "    </tr>\n",
       "    <tr>\n",
       "      <td>67</td>\n",
       "      <td>67</td>\n",
       "      <td>1000_67</td>\n",
       "      <td>0.0</td>\n",
       "      <td>2018-06-16</td>\n",
       "      <td>1000</td>\n",
       "    </tr>\n",
       "    <tr>\n",
       "      <td>72</td>\n",
       "      <td>72</td>\n",
       "      <td>1000_72</td>\n",
       "      <td>0.0</td>\n",
       "      <td>2018-06-15</td>\n",
       "      <td>1000</td>\n",
       "    </tr>\n",
       "    <tr>\n",
       "      <td>...</td>\n",
       "      <td>...</td>\n",
       "      <td>...</td>\n",
       "      <td>...</td>\n",
       "      <td>...</td>\n",
       "      <td>...</td>\n",
       "    </tr>\n",
       "    <tr>\n",
       "      <td>149380</td>\n",
       "      <td>149380</td>\n",
       "      <td>1499_141</td>\n",
       "      <td>0.0</td>\n",
       "      <td>2018-12-11</td>\n",
       "      <td>1499</td>\n",
       "    </tr>\n",
       "    <tr>\n",
       "      <td>149381</td>\n",
       "      <td>149381</td>\n",
       "      <td>1499_142</td>\n",
       "      <td>0.0</td>\n",
       "      <td>2018-11-01</td>\n",
       "      <td>1499</td>\n",
       "    </tr>\n",
       "    <tr>\n",
       "      <td>149383</td>\n",
       "      <td>149383</td>\n",
       "      <td>1499_144</td>\n",
       "      <td>0.0</td>\n",
       "      <td>2018-11-27</td>\n",
       "      <td>1499</td>\n",
       "    </tr>\n",
       "    <tr>\n",
       "      <td>149386</td>\n",
       "      <td>149386</td>\n",
       "      <td>1499_147</td>\n",
       "      <td>0.0</td>\n",
       "      <td>2018-10-21</td>\n",
       "      <td>1499</td>\n",
       "    </tr>\n",
       "    <tr>\n",
       "      <td>149393</td>\n",
       "      <td>149393</td>\n",
       "      <td>1499_154</td>\n",
       "      <td>0.0</td>\n",
       "      <td>2018-10-27</td>\n",
       "      <td>1499</td>\n",
       "    </tr>\n",
       "  </tbody>\n",
       "</table>\n",
       "<p>19598 rows × 5 columns</p>\n",
       "</div>"
      ],
      "text/plain": [
       "        Unnamed: 0        id  mb_used session_date  user_id\n",
       "11              11   1000_11      0.0   2018-08-28     1000\n",
       "38              38   1000_38      0.0   2018-11-27     1000\n",
       "46              46   1000_46      0.0   2018-06-30     1000\n",
       "67              67   1000_67      0.0   2018-06-16     1000\n",
       "72              72   1000_72      0.0   2018-06-15     1000\n",
       "...            ...       ...      ...          ...      ...\n",
       "149380      149380  1499_141      0.0   2018-12-11     1499\n",
       "149381      149381  1499_142      0.0   2018-11-01     1499\n",
       "149383      149383  1499_144      0.0   2018-11-27     1499\n",
       "149386      149386  1499_147      0.0   2018-10-21     1499\n",
       "149393      149393  1499_154      0.0   2018-10-27     1499\n",
       "\n",
       "[19598 rows x 5 columns]"
      ]
     },
     "execution_count": 18,
     "metadata": {},
     "output_type": "execute_result"
    }
   ],
   "source": [
    "internet.query('mb_used == 0')"
   ]
  },
  {
   "cell_type": "markdown",
   "metadata": {},
   "source": [
    "Строки с нулевыми значениями так же сключаем. Интернет соединение не было осуществленно."
   ]
  },
  {
   "cell_type": "code",
   "execution_count": 19,
   "metadata": {},
   "outputs": [],
   "source": [
    "internet['mb_used'] = internet['mb_used'].replace(0, np.NaN)\n",
    "internet = internet.dropna()"
   ]
  },
  {
   "cell_type": "code",
   "execution_count": 20,
   "metadata": {},
   "outputs": [
    {
     "data": {
      "text/plain": [
       "<matplotlib.axes._subplots.AxesSubplot at 0x7fae36508310>"
      ]
     },
     "execution_count": 20,
     "metadata": {},
     "output_type": "execute_result"
    },
    {
     "data": {
      "image/png": "[encoded data removed]",
      "text/plain": [
       "<Figure size 432x288 with 1 Axes>"
      ]
     },
     "metadata": {
      "needs_background": "light"
     },
     "output_type": "display_data"
    }
   ],
   "source": [
    "internet['mb_used'].plot(kind='hist', ec='black', bins=50)"
   ]
  },
  {
   "cell_type": "markdown",
   "metadata": {},
   "source": [
    "Посмотрим таблицу tariffs:"
   ]
  },
  {
   "cell_type": "code",
   "execution_count": 21,
   "metadata": {},
   "outputs": [
    {
     "data": {
      "text/html": [
       "<div>\n",
       "<style scoped>\n",
       "    .dataframe tbody tr th:only-of-type {\n",
       "        vertical-align: middle;\n",
       "    }\n",
       "\n",
       "    .dataframe tbody tr th {\n",
       "        vertical-align: top;\n",
       "    }\n",
       "\n",
       "    .dataframe thead th {\n",
       "        text-align: right;\n",
       "    }\n",
       "</style>\n",
       "<table border=\"1\" class=\"dataframe\">\n",
       "  <thead>\n",
       "    <tr style=\"text-align: right;\">\n",
       "      <th></th>\n",
       "      <th>messages_included</th>\n",
       "      <th>mb_per_month_included</th>\n",
       "      <th>minutes_included</th>\n",
       "      <th>rub_monthly_fee</th>\n",
       "      <th>rub_per_gb</th>\n",
       "      <th>rub_per_message</th>\n",
       "      <th>rub_per_minute</th>\n",
       "      <th>tariff_name</th>\n",
       "    </tr>\n",
       "  </thead>\n",
       "  <tbody>\n",
       "    <tr>\n",
       "      <td>0</td>\n",
       "      <td>50</td>\n",
       "      <td>15360</td>\n",
       "      <td>500</td>\n",
       "      <td>550</td>\n",
       "      <td>200</td>\n",
       "      <td>3</td>\n",
       "      <td>3</td>\n",
       "      <td>smart</td>\n",
       "    </tr>\n",
       "    <tr>\n",
       "      <td>1</td>\n",
       "      <td>1000</td>\n",
       "      <td>30720</td>\n",
       "      <td>3000</td>\n",
       "      <td>1950</td>\n",
       "      <td>150</td>\n",
       "      <td>1</td>\n",
       "      <td>1</td>\n",
       "      <td>ultra</td>\n",
       "    </tr>\n",
       "  </tbody>\n",
       "</table>\n",
       "</div>"
      ],
      "text/plain": [
       "   messages_included  mb_per_month_included  minutes_included  \\\n",
       "0                 50                  15360               500   \n",
       "1               1000                  30720              3000   \n",
       "\n",
       "   rub_monthly_fee  rub_per_gb  rub_per_message  rub_per_minute tariff_name  \n",
       "0              550         200                3               3       smart  \n",
       "1             1950         150                1               1       ultra  "
      ]
     },
     "execution_count": 21,
     "metadata": {},
     "output_type": "execute_result"
    }
   ],
   "source": [
    "tariffs.head()"
   ]
  },
  {
   "cell_type": "markdown",
   "metadata": {},
   "source": [
    "Это справочная информация и данные по ней полностью заполнены."
   ]
  },
  {
   "cell_type": "markdown",
   "metadata": {},
   "source": [
    "### 1.2. Самые популярные города клиентов."
   ]
  },
  {
   "cell_type": "markdown",
   "metadata": {},
   "source": [
    "Посмотрим, какие города представлены в этом датафрейме и в каком процентном соотношении:"
   ]
  },
  {
   "cell_type": "code",
   "execution_count": 22,
   "metadata": {},
   "outputs": [
    {
     "data": {
      "image/png": "[encoded data removed]",
      "text/plain": [
       "<Figure size 1080x720 with 1 Axes>"
      ]
     },
     "metadata": {
      "needs_background": "light"
     },
     "output_type": "display_data"
    }
   ],
   "source": [
    "all_users = len(users)\n",
    "df_sity_top = users.groupby('city').size()/all_users\n",
    "df_sity_top_filter = df_sity_top[df_sity_top > 0.015].sort_values()\n",
    "ax = df_sity_top_filter.plot(kind='barh', color='#48D1CC', figsize=(15,10))\n",
    "for i, v in enumerate(df_sity_top_filter):\n",
    "    ax.text(v + 0.001, i, \"{:.1%}\".format(v), color='black')\n",
    "\n",
    "#labels = dict(df_sity_top_filter)\n",
    "#labels"
   ]
  },
  {
   "cell_type": "markdown",
   "metadata": {},
   "source": [
    "Больше всего клиентов в этом датафрейме из Москвы (почти 20%) и из Питера (7,8%).\n",
    "Представителей остальных городов от 3,2% и меньше (условно их назовем - Регионы)."
   ]
  },
  {
   "cell_type": "markdown",
   "metadata": {},
   "source": [
    "Изменения формата столбца на datetime и добавление столбцов \"месяц\" и \"время года\":"
   ]
  },
  {
   "cell_type": "code",
   "execution_count": 23,
   "metadata": {},
   "outputs": [],
   "source": [
    "# функция определения времени года\n",
    "def season(date):\n",
    "    if date.month in [1, 2, 12]:\n",
    "        return 'зима'\n",
    "    elif date.month in [3, 4, 5]:\n",
    "        return 'весна'\n",
    "    elif date.month in [6, 7, 8]:\n",
    "        return 'лето'\n",
    "    else:\n",
    "        return 'осень'\n",
    "\n",
    "    \n",
    "# столбец в формат datetime + добавление столбцов \"месяц\" и \"время года\"\n",
    "def date_month_season(dataframes):\n",
    "    for df in dataframes:\n",
    "        for column in df.columns:\n",
    "            if 'date' in column and column != 'churn_date':\n",
    "                df[column] = pd.to_datetime(df[column], format='%Y-%m-%d')\n",
    "                df['месяц'] = df[column].apply(lambda x: x.month)\n",
    "                df['время года'] = df[column].apply(season)"
   ]
  },
  {
   "cell_type": "code",
   "execution_count": 24,
   "metadata": {},
   "outputs": [],
   "source": [
    "date_month_season([users, calls, messages, internet])"
   ]
  },
  {
   "cell_type": "code",
   "execution_count": 25,
   "metadata": {},
   "outputs": [
    {
     "data": {
      "text/html": [
       "<div>\n",
       "<style scoped>\n",
       "    .dataframe tbody tr th:only-of-type {\n",
       "        vertical-align: middle;\n",
       "    }\n",
       "\n",
       "    .dataframe tbody tr th {\n",
       "        vertical-align: top;\n",
       "    }\n",
       "\n",
       "    .dataframe thead th {\n",
       "        text-align: right;\n",
       "    }\n",
       "</style>\n",
       "<table border=\"1\" class=\"dataframe\">\n",
       "  <thead>\n",
       "    <tr style=\"text-align: right;\">\n",
       "      <th></th>\n",
       "      <th>user_id</th>\n",
       "      <th>age</th>\n",
       "      <th>churn_date</th>\n",
       "      <th>city</th>\n",
       "      <th>first_name</th>\n",
       "      <th>last_name</th>\n",
       "      <th>reg_date</th>\n",
       "      <th>tariff</th>\n",
       "      <th>месяц</th>\n",
       "      <th>время года</th>\n",
       "    </tr>\n",
       "  </thead>\n",
       "  <tbody>\n",
       "    <tr>\n",
       "      <td>0</td>\n",
       "      <td>1000</td>\n",
       "      <td>52</td>\n",
       "      <td>NaN</td>\n",
       "      <td>Краснодар</td>\n",
       "      <td>Рафаил</td>\n",
       "      <td>Верещагин</td>\n",
       "      <td>2018-05-25</td>\n",
       "      <td>ultra</td>\n",
       "      <td>5</td>\n",
       "      <td>весна</td>\n",
       "    </tr>\n",
       "    <tr>\n",
       "      <td>1</td>\n",
       "      <td>1001</td>\n",
       "      <td>41</td>\n",
       "      <td>NaN</td>\n",
       "      <td>Москва</td>\n",
       "      <td>Иван</td>\n",
       "      <td>Ежов</td>\n",
       "      <td>2018-11-01</td>\n",
       "      <td>smart</td>\n",
       "      <td>11</td>\n",
       "      <td>осень</td>\n",
       "    </tr>\n",
       "    <tr>\n",
       "      <td>2</td>\n",
       "      <td>1002</td>\n",
       "      <td>59</td>\n",
       "      <td>NaN</td>\n",
       "      <td>Стерлитамак</td>\n",
       "      <td>Евгений</td>\n",
       "      <td>Абрамович</td>\n",
       "      <td>2018-06-17</td>\n",
       "      <td>smart</td>\n",
       "      <td>6</td>\n",
       "      <td>лето</td>\n",
       "    </tr>\n",
       "    <tr>\n",
       "      <td>3</td>\n",
       "      <td>1003</td>\n",
       "      <td>23</td>\n",
       "      <td>NaN</td>\n",
       "      <td>Москва</td>\n",
       "      <td>Белла</td>\n",
       "      <td>Белякова</td>\n",
       "      <td>2018-08-17</td>\n",
       "      <td>ultra</td>\n",
       "      <td>8</td>\n",
       "      <td>лето</td>\n",
       "    </tr>\n",
       "    <tr>\n",
       "      <td>4</td>\n",
       "      <td>1004</td>\n",
       "      <td>68</td>\n",
       "      <td>NaN</td>\n",
       "      <td>Новокузнецк</td>\n",
       "      <td>Татьяна</td>\n",
       "      <td>Авдеенко</td>\n",
       "      <td>2018-05-14</td>\n",
       "      <td>ultra</td>\n",
       "      <td>5</td>\n",
       "      <td>весна</td>\n",
       "    </tr>\n",
       "  </tbody>\n",
       "</table>\n",
       "</div>"
      ],
      "text/plain": [
       "   user_id  age churn_date         city first_name  last_name   reg_date  \\\n",
       "0     1000   52        NaN    Краснодар     Рафаил  Верещагин 2018-05-25   \n",
       "1     1001   41        NaN       Москва       Иван       Ежов 2018-11-01   \n",
       "2     1002   59        NaN  Стерлитамак    Евгений  Абрамович 2018-06-17   \n",
       "3     1003   23        NaN       Москва      Белла   Белякова 2018-08-17   \n",
       "4     1004   68        NaN  Новокузнецк    Татьяна   Авдеенко 2018-05-14   \n",
       "\n",
       "  tariff  месяц время года  \n",
       "0  ultra      5      весна  \n",
       "1  smart     11      осень  \n",
       "2  smart      6       лето  \n",
       "3  ultra      8       лето  \n",
       "4  ultra      5      весна  "
      ]
     },
     "execution_count": 25,
     "metadata": {},
     "output_type": "execute_result"
    }
   ],
   "source": [
    "users.head()"
   ]
  },
  {
   "cell_type": "code",
   "execution_count": 26,
   "metadata": {},
   "outputs": [
    {
     "data": {
      "text/html": [
       "<div>\n",
       "<style scoped>\n",
       "    .dataframe tbody tr th:only-of-type {\n",
       "        vertical-align: middle;\n",
       "    }\n",
       "\n",
       "    .dataframe tbody tr th {\n",
       "        vertical-align: top;\n",
       "    }\n",
       "\n",
       "    .dataframe thead th {\n",
       "        text-align: right;\n",
       "    }\n",
       "</style>\n",
       "<table border=\"1\" class=\"dataframe\">\n",
       "  <thead>\n",
       "    <tr style=\"text-align: right;\">\n",
       "      <th></th>\n",
       "      <th>id</th>\n",
       "      <th>call_date</th>\n",
       "      <th>duration</th>\n",
       "      <th>user_id</th>\n",
       "      <th>Тариф</th>\n",
       "      <th>месяц</th>\n",
       "      <th>время года</th>\n",
       "    </tr>\n",
       "  </thead>\n",
       "  <tbody>\n",
       "    <tr>\n",
       "      <td>2</td>\n",
       "      <td>1000_2</td>\n",
       "      <td>2018-06-11</td>\n",
       "      <td>3.0</td>\n",
       "      <td>1000</td>\n",
       "      <td>ultra</td>\n",
       "      <td>6</td>\n",
       "      <td>лето</td>\n",
       "    </tr>\n",
       "    <tr>\n",
       "      <td>3</td>\n",
       "      <td>1000_3</td>\n",
       "      <td>2018-09-21</td>\n",
       "      <td>14.0</td>\n",
       "      <td>1000</td>\n",
       "      <td>ultra</td>\n",
       "      <td>9</td>\n",
       "      <td>осень</td>\n",
       "    </tr>\n",
       "    <tr>\n",
       "      <td>4</td>\n",
       "      <td>1000_4</td>\n",
       "      <td>2018-12-15</td>\n",
       "      <td>6.0</td>\n",
       "      <td>1000</td>\n",
       "      <td>ultra</td>\n",
       "      <td>12</td>\n",
       "      <td>зима</td>\n",
       "    </tr>\n",
       "    <tr>\n",
       "      <td>7</td>\n",
       "      <td>1000_7</td>\n",
       "      <td>2018-08-22</td>\n",
       "      <td>19.0</td>\n",
       "      <td>1000</td>\n",
       "      <td>ultra</td>\n",
       "      <td>8</td>\n",
       "      <td>лето</td>\n",
       "    </tr>\n",
       "    <tr>\n",
       "      <td>8</td>\n",
       "      <td>1000_8</td>\n",
       "      <td>2018-09-15</td>\n",
       "      <td>19.0</td>\n",
       "      <td>1000</td>\n",
       "      <td>ultra</td>\n",
       "      <td>9</td>\n",
       "      <td>осень</td>\n",
       "    </tr>\n",
       "  </tbody>\n",
       "</table>\n",
       "</div>"
      ],
      "text/plain": [
       "       id  call_date  duration  user_id  Тариф  месяц время года\n",
       "2  1000_2 2018-06-11       3.0     1000  ultra      6       лето\n",
       "3  1000_3 2018-09-21      14.0     1000  ultra      9      осень\n",
       "4  1000_4 2018-12-15       6.0     1000  ultra     12       зима\n",
       "7  1000_7 2018-08-22      19.0     1000  ultra      8       лето\n",
       "8  1000_8 2018-09-15      19.0     1000  ultra      9      осень"
      ]
     },
     "execution_count": 26,
     "metadata": {},
     "output_type": "execute_result"
    }
   ],
   "source": [
    "calls.head()"
   ]
  },
  {
   "cell_type": "markdown",
   "metadata": {},
   "source": [
    "Посмотрим на то, каким типом связи (звонок, отправка СМС, выход в интернет) пользуются чаще всего (по месяцам)"
   ]
  },
  {
   "cell_type": "code",
   "execution_count": 27,
   "metadata": {},
   "outputs": [],
   "source": [
    "def barplot_month(dfs):\n",
    "    list_dfs = dfs\n",
    "    plt.figure(figsize=(15,5))\n",
    "    ax = plt.gca()\n",
    "    \n",
    "    list_colors = ['chartreuse', 'blue', 'orange']\n",
    "\n",
    "    dfs_names_for_legend = ['Количество звонков', 'Количество отпр.СМС', 'Количество интернет-сессий']\n",
    "    legend_list = []\n",
    "\n",
    "    for i in range(len(list_dfs)):\n",
    "        month_df = list_dfs[i]\n",
    "        month_df_id = month_df.groupby('месяц')['id'].count().reset_index()\n",
    "        plot = month_df_id.plot(x='месяц', y='id', kind='bar', ec='black', color=list_colors[i],\n",
    "                                ax=ax, width=0.12, position=i)\n",
    "        legend_list.append(dfs_names_for_legend[i])\n",
    "    plt.xticks(rotation=0)\n",
    "    ax.legend(legend_list)"
   ]
  },
  {
   "cell_type": "code",
   "execution_count": 28,
   "metadata": {},
   "outputs": [
    {
     "data": {
      "image/png": "[encoded data removed]",
      "text/plain": [
       "<Figure size 1080x360 with 1 Axes>"
      ]
     },
     "metadata": {
      "needs_background": "light"
     },
     "output_type": "display_data"
    }
   ],
   "source": [
    "barplot_month([calls, messages, internet])"
   ]
  },
  {
   "cell_type": "markdown",
   "metadata": {},
   "source": [
    "Клиенты чаще звонят и реже всего отправляют СМС."
   ]
  },
  {
   "cell_type": "code",
   "execution_count": 29,
   "metadata": {},
   "outputs": [],
   "source": [
    "def barplot_month2(dfs, query=None):\n",
    "    list_dfs = dfs\n",
    "    plt.figure(figsize=(15,5))\n",
    "    ax = plt.gca()\n",
    "    \n",
    "    list_colors = ['forestgreen']\n",
    "\n",
    "    dfs_names_for_legend = ['Продолжительность звонков']\n",
    "    legend_list = []\n",
    "\n",
    "    for i in range(len(list_dfs)):\n",
    "        month_df = list_dfs[i]\n",
    "        if query == None:\n",
    "            month_df_id = month_df.groupby('месяц')['duration'].sum().reset_index()\n",
    "        else:\n",
    "            month_df_id = month_df.query(query).groupby('месяц')['duration'].sum().reset_index()\n",
    "        \n",
    "        plot = month_df_id.plot(x='месяц', y='duration', kind='bar', ec='black', color=list_colors[i],\n",
    "                                ax=ax, width=0.12, position=i)\n",
    "        legend_list.append(dfs_names_for_legend[i])\n",
    "    plt.xticks(rotation=0)\n",
    "    ax.legend(legend_list)"
   ]
  },
  {
   "cell_type": "code",
   "execution_count": 30,
   "metadata": {},
   "outputs": [
    {
     "data": {
      "image/png": "[encoded data removed]",
      "text/plain": [
       "<Figure size 1080x360 with 1 Axes>"
      ]
     },
     "metadata": {
      "needs_background": "light"
     },
     "output_type": "display_data"
    }
   ],
   "source": [
    "barplot_month2([calls])"
   ]
  },
  {
   "cell_type": "code",
   "execution_count": 31,
   "metadata": {},
   "outputs": [
    {
     "data": {
      "image/png": "[encoded data removed]",
      "text/plain": [
       "<Figure size 1080x360 with 1 Axes>"
      ]
     },
     "metadata": {
      "needs_background": "light"
     },
     "output_type": "display_data"
    }
   ],
   "source": [
    "barplot_month2([calls], query='user_id == 1200')"
   ]
  },
  {
   "cell_type": "markdown",
   "metadata": {},
   "source": [
    "### Продолжительность по месяцам звонков растет, все логично больше звонков, следовательно, больше и продолжительность. Похоже оператор с данными тарифами только вышел на рынок. Проверили данную версию выборочно на нескольких клиентах. Все верно, так и есть."
   ]
  },
  {
   "cell_type": "markdown",
   "metadata": {},
   "source": [
    "## 2. Расчёт помесячной выручки с каждого пользователя:"
   ]
  },
  {
   "cell_type": "markdown",
   "metadata": {},
   "source": [
    "Посчитаем для каждого пользователя:\n",
    "- количество сделанных звонков и израсходованных минут разговора по месяцам;\n",
    "- количество отправленных сообщений по месяцам;\n",
    "- объем израсходованного интернет-трафика по месяцам;\n",
    "- помесячную выручку с каждого пользователя (вычтите бесплатный лимит из суммарного количества звонков, сообщений и интернет-трафика; остаток умножьте на значение из тарифного плана; прибавьте абонентскую плату, соответствующую тарифному плану)."
   ]
  },
  {
   "cell_type": "markdown",
   "metadata": {},
   "source": [
    "Для начала возьмем из каждого имеющегося датафрейма нужную информацию и склеим эти данные в один датафрейм. Т.к. тарификация по 1 Гб в тарифных планах, то округлим до данных величин."
   ]
  },
  {
   "cell_type": "code",
   "execution_count": 32,
   "metadata": {},
   "outputs": [],
   "source": [
    "user_of_calls = calls.groupby(['user_id', 'время года', 'месяц'])['duration'].agg(['count', 'sum'])\n",
    "user_of_messages = messages.groupby(['user_id', 'время года', 'месяц'])['id'].count()\n",
    "user_of_internet = (internet.groupby(['user_id', 'время года', 'месяц'])\\\n",
    "                   .sum()['mb_used']/1024).apply(np.ceil)\n"
   ]
  },
  {
   "cell_type": "code",
   "execution_count": 33,
   "metadata": {},
   "outputs": [
    {
     "data": {
      "text/html": [
       "<div>\n",
       "<style scoped>\n",
       "    .dataframe tbody tr th:only-of-type {\n",
       "        vertical-align: middle;\n",
       "    }\n",
       "\n",
       "    .dataframe tbody tr th {\n",
       "        vertical-align: top;\n",
       "    }\n",
       "\n",
       "    .dataframe thead th {\n",
       "        text-align: right;\n",
       "    }\n",
       "</style>\n",
       "<table border=\"1\" class=\"dataframe\">\n",
       "  <thead>\n",
       "    <tr style=\"text-align: right;\">\n",
       "      <th></th>\n",
       "      <th></th>\n",
       "      <th></th>\n",
       "      <th>count</th>\n",
       "      <th>sum</th>\n",
       "    </tr>\n",
       "    <tr>\n",
       "      <th>user_id</th>\n",
       "      <th>время года</th>\n",
       "      <th>месяц</th>\n",
       "      <th></th>\n",
       "      <th></th>\n",
       "    </tr>\n",
       "  </thead>\n",
       "  <tbody>\n",
       "    <tr>\n",
       "      <td rowspan=\"8\" valign=\"top\">1000</td>\n",
       "      <td>весна</td>\n",
       "      <td>5</td>\n",
       "      <td>17</td>\n",
       "      <td>159.0</td>\n",
       "    </tr>\n",
       "    <tr>\n",
       "      <td>зима</td>\n",
       "      <td>12</td>\n",
       "      <td>38</td>\n",
       "      <td>333.0</td>\n",
       "    </tr>\n",
       "    <tr>\n",
       "      <td rowspan=\"3\" valign=\"top\">лето</td>\n",
       "      <td>6</td>\n",
       "      <td>28</td>\n",
       "      <td>172.0</td>\n",
       "    </tr>\n",
       "    <tr>\n",
       "      <td>7</td>\n",
       "      <td>41</td>\n",
       "      <td>340.0</td>\n",
       "    </tr>\n",
       "    <tr>\n",
       "      <td>8</td>\n",
       "      <td>42</td>\n",
       "      <td>408.0</td>\n",
       "    </tr>\n",
       "    <tr>\n",
       "      <td rowspan=\"3\" valign=\"top\">осень</td>\n",
       "      <td>9</td>\n",
       "      <td>46</td>\n",
       "      <td>466.0</td>\n",
       "    </tr>\n",
       "    <tr>\n",
       "      <td>10</td>\n",
       "      <td>44</td>\n",
       "      <td>350.0</td>\n",
       "    </tr>\n",
       "    <tr>\n",
       "      <td>11</td>\n",
       "      <td>37</td>\n",
       "      <td>338.0</td>\n",
       "    </tr>\n",
       "    <tr>\n",
       "      <td rowspan=\"2\" valign=\"top\">1001</td>\n",
       "      <td>зима</td>\n",
       "      <td>12</td>\n",
       "      <td>47</td>\n",
       "      <td>414.0</td>\n",
       "    </tr>\n",
       "    <tr>\n",
       "      <td>осень</td>\n",
       "      <td>11</td>\n",
       "      <td>45</td>\n",
       "      <td>430.0</td>\n",
       "    </tr>\n",
       "  </tbody>\n",
       "</table>\n",
       "</div>"
      ],
      "text/plain": [
       "                          count    sum\n",
       "user_id время года месяц              \n",
       "1000    весна      5         17  159.0\n",
       "        зима       12        38  333.0\n",
       "        лето       6         28  172.0\n",
       "                   7         41  340.0\n",
       "                   8         42  408.0\n",
       "        осень      9         46  466.0\n",
       "                   10        44  350.0\n",
       "                   11        37  338.0\n",
       "1001    зима       12        47  414.0\n",
       "        осень      11        45  430.0"
      ]
     },
     "execution_count": 33,
     "metadata": {},
     "output_type": "execute_result"
    }
   ],
   "source": [
    "#Проверили все значения\n",
    "user_of_calls.head(10)"
   ]
  },
  {
   "cell_type": "code",
   "execution_count": 34,
   "metadata": {},
   "outputs": [
    {
     "data": {
      "text/html": [
       "<div>\n",
       "<style scoped>\n",
       "    .dataframe tbody tr th:only-of-type {\n",
       "        vertical-align: middle;\n",
       "    }\n",
       "\n",
       "    .dataframe tbody tr th {\n",
       "        vertical-align: top;\n",
       "    }\n",
       "\n",
       "    .dataframe thead th {\n",
       "        text-align: right;\n",
       "    }\n",
       "</style>\n",
       "<table border=\"1\" class=\"dataframe\">\n",
       "  <thead>\n",
       "    <tr style=\"text-align: right;\">\n",
       "      <th></th>\n",
       "      <th>user_id</th>\n",
       "      <th>время года</th>\n",
       "      <th>Месяц</th>\n",
       "      <th>Кол-во звонков, шт.</th>\n",
       "      <th>Звонки, мин.</th>\n",
       "      <th>СМС, шт.</th>\n",
       "      <th>Интернет, Гб</th>\n",
       "    </tr>\n",
       "  </thead>\n",
       "  <tbody>\n",
       "    <tr>\n",
       "      <td>0</td>\n",
       "      <td>1000</td>\n",
       "      <td>весна</td>\n",
       "      <td>5</td>\n",
       "      <td>17.0</td>\n",
       "      <td>159.0</td>\n",
       "      <td>22.0</td>\n",
       "      <td>3.0</td>\n",
       "    </tr>\n",
       "    <tr>\n",
       "      <td>1</td>\n",
       "      <td>1000</td>\n",
       "      <td>зима</td>\n",
       "      <td>12</td>\n",
       "      <td>38.0</td>\n",
       "      <td>333.0</td>\n",
       "      <td>70.0</td>\n",
       "      <td>10.0</td>\n",
       "    </tr>\n",
       "    <tr>\n",
       "      <td>2</td>\n",
       "      <td>1000</td>\n",
       "      <td>лето</td>\n",
       "      <td>6</td>\n",
       "      <td>28.0</td>\n",
       "      <td>172.0</td>\n",
       "      <td>60.0</td>\n",
       "      <td>23.0</td>\n",
       "    </tr>\n",
       "    <tr>\n",
       "      <td>3</td>\n",
       "      <td>1000</td>\n",
       "      <td>лето</td>\n",
       "      <td>7</td>\n",
       "      <td>41.0</td>\n",
       "      <td>340.0</td>\n",
       "      <td>75.0</td>\n",
       "      <td>14.0</td>\n",
       "    </tr>\n",
       "    <tr>\n",
       "      <td>4</td>\n",
       "      <td>1000</td>\n",
       "      <td>лето</td>\n",
       "      <td>8</td>\n",
       "      <td>42.0</td>\n",
       "      <td>408.0</td>\n",
       "      <td>81.0</td>\n",
       "      <td>14.0</td>\n",
       "    </tr>\n",
       "  </tbody>\n",
       "</table>\n",
       "</div>"
      ],
      "text/plain": [
       "   user_id время года  Месяц  Кол-во звонков, шт.  Звонки, мин.  СМС, шт.  \\\n",
       "0     1000      весна      5                 17.0         159.0      22.0   \n",
       "1     1000       зима     12                 38.0         333.0      70.0   \n",
       "2     1000       лето      6                 28.0         172.0      60.0   \n",
       "3     1000       лето      7                 41.0         340.0      75.0   \n",
       "4     1000       лето      8                 42.0         408.0      81.0   \n",
       "\n",
       "   Интернет, Гб  \n",
       "0           3.0  \n",
       "1          10.0  \n",
       "2          23.0  \n",
       "3          14.0  \n",
       "4          14.0  "
      ]
     },
     "execution_count": 34,
     "metadata": {},
     "output_type": "execute_result"
    }
   ],
   "source": [
    "df_numbers = pd.concat([user_of_calls, user_of_messages, user_of_internet], axis=1)\n",
    "df_numbers = df_numbers.reset_index()\n",
    "df_numbers.columns = ['user_id', 'время года', 'Месяц', 'Кол-во звонков, шт.', 'Звонки, мин.',\n",
    "                      'СМС, шт.', 'Интернет, Гб']\n",
    "df_numbers.head()"
   ]
  },
  {
   "cell_type": "markdown",
   "metadata": {},
   "source": [
    "Добавим столбцы с тарифом и городом"
   ]
  },
  {
   "cell_type": "code",
   "execution_count": 35,
   "metadata": {},
   "outputs": [],
   "source": [
    "user_of_tariff = dict(pd.Series(users['tariff'].values, index=users['user_id']))\n",
    "df_numbers['Тариф'] = df_numbers['user_id'].map(user_of_tariff)\n",
    "\n",
    "user_of_city = dict(pd.Series(users['city'].values, index=users['user_id']))\n",
    "df_numbers['Город'] = df_numbers['user_id'].map(user_of_city)"
   ]
  },
  {
   "cell_type": "code",
   "execution_count": 36,
   "metadata": {},
   "outputs": [],
   "source": [
    "df_numbers.columns = ['User_id', 'Время года', 'Месяц', 'Кол-во звонков, шт.', 'Звонки, мин.',\n",
    "                      'СМС, шт.', 'Интернет, Гб', 'Тариф', 'Город']"
   ]
  },
  {
   "cell_type": "code",
   "execution_count": 37,
   "metadata": {},
   "outputs": [
    {
     "data": {
      "text/html": [
       "<div>\n",
       "<style scoped>\n",
       "    .dataframe tbody tr th:only-of-type {\n",
       "        vertical-align: middle;\n",
       "    }\n",
       "\n",
       "    .dataframe tbody tr th {\n",
       "        vertical-align: top;\n",
       "    }\n",
       "\n",
       "    .dataframe thead th {\n",
       "        text-align: right;\n",
       "    }\n",
       "</style>\n",
       "<table border=\"1\" class=\"dataframe\">\n",
       "  <thead>\n",
       "    <tr style=\"text-align: right;\">\n",
       "      <th></th>\n",
       "      <th>User_id</th>\n",
       "      <th>Время года</th>\n",
       "      <th>Месяц</th>\n",
       "      <th>Кол-во звонков, шт.</th>\n",
       "      <th>Звонки, мин.</th>\n",
       "      <th>СМС, шт.</th>\n",
       "      <th>Интернет, Гб</th>\n",
       "      <th>Тариф</th>\n",
       "      <th>Город</th>\n",
       "    </tr>\n",
       "  </thead>\n",
       "  <tbody>\n",
       "    <tr>\n",
       "      <td>0</td>\n",
       "      <td>1000</td>\n",
       "      <td>весна</td>\n",
       "      <td>5</td>\n",
       "      <td>17.0</td>\n",
       "      <td>159.0</td>\n",
       "      <td>22.0</td>\n",
       "      <td>3.0</td>\n",
       "      <td>ultra</td>\n",
       "      <td>Краснодар</td>\n",
       "    </tr>\n",
       "    <tr>\n",
       "      <td>2</td>\n",
       "      <td>1000</td>\n",
       "      <td>лето</td>\n",
       "      <td>6</td>\n",
       "      <td>28.0</td>\n",
       "      <td>172.0</td>\n",
       "      <td>60.0</td>\n",
       "      <td>23.0</td>\n",
       "      <td>ultra</td>\n",
       "      <td>Краснодар</td>\n",
       "    </tr>\n",
       "    <tr>\n",
       "      <td>3</td>\n",
       "      <td>1000</td>\n",
       "      <td>лето</td>\n",
       "      <td>7</td>\n",
       "      <td>41.0</td>\n",
       "      <td>340.0</td>\n",
       "      <td>75.0</td>\n",
       "      <td>14.0</td>\n",
       "      <td>ultra</td>\n",
       "      <td>Краснодар</td>\n",
       "    </tr>\n",
       "    <tr>\n",
       "      <td>4</td>\n",
       "      <td>1000</td>\n",
       "      <td>лето</td>\n",
       "      <td>8</td>\n",
       "      <td>42.0</td>\n",
       "      <td>408.0</td>\n",
       "      <td>81.0</td>\n",
       "      <td>14.0</td>\n",
       "      <td>ultra</td>\n",
       "      <td>Краснодар</td>\n",
       "    </tr>\n",
       "    <tr>\n",
       "      <td>5</td>\n",
       "      <td>1000</td>\n",
       "      <td>осень</td>\n",
       "      <td>9</td>\n",
       "      <td>46.0</td>\n",
       "      <td>466.0</td>\n",
       "      <td>57.0</td>\n",
       "      <td>15.0</td>\n",
       "      <td>ultra</td>\n",
       "      <td>Краснодар</td>\n",
       "    </tr>\n",
       "    <tr>\n",
       "      <td>6</td>\n",
       "      <td>1000</td>\n",
       "      <td>осень</td>\n",
       "      <td>10</td>\n",
       "      <td>44.0</td>\n",
       "      <td>350.0</td>\n",
       "      <td>73.0</td>\n",
       "      <td>15.0</td>\n",
       "      <td>ultra</td>\n",
       "      <td>Краснодар</td>\n",
       "    </tr>\n",
       "    <tr>\n",
       "      <td>7</td>\n",
       "      <td>1000</td>\n",
       "      <td>осень</td>\n",
       "      <td>11</td>\n",
       "      <td>37.0</td>\n",
       "      <td>338.0</td>\n",
       "      <td>58.0</td>\n",
       "      <td>15.0</td>\n",
       "      <td>ultra</td>\n",
       "      <td>Краснодар</td>\n",
       "    </tr>\n",
       "    <tr>\n",
       "      <td>1</td>\n",
       "      <td>1000</td>\n",
       "      <td>зима</td>\n",
       "      <td>12</td>\n",
       "      <td>38.0</td>\n",
       "      <td>333.0</td>\n",
       "      <td>70.0</td>\n",
       "      <td>10.0</td>\n",
       "      <td>ultra</td>\n",
       "      <td>Краснодар</td>\n",
       "    </tr>\n",
       "    <tr>\n",
       "      <td>9</td>\n",
       "      <td>1001</td>\n",
       "      <td>осень</td>\n",
       "      <td>11</td>\n",
       "      <td>45.0</td>\n",
       "      <td>430.0</td>\n",
       "      <td>NaN</td>\n",
       "      <td>18.0</td>\n",
       "      <td>smart</td>\n",
       "      <td>Москва</td>\n",
       "    </tr>\n",
       "    <tr>\n",
       "      <td>8</td>\n",
       "      <td>1001</td>\n",
       "      <td>зима</td>\n",
       "      <td>12</td>\n",
       "      <td>47.0</td>\n",
       "      <td>414.0</td>\n",
       "      <td>NaN</td>\n",
       "      <td>14.0</td>\n",
       "      <td>smart</td>\n",
       "      <td>Москва</td>\n",
       "    </tr>\n",
       "  </tbody>\n",
       "</table>\n",
       "</div>"
      ],
      "text/plain": [
       "   User_id Время года  Месяц  Кол-во звонков, шт.  Звонки, мин.  СМС, шт.  \\\n",
       "0     1000      весна      5                 17.0         159.0      22.0   \n",
       "2     1000       лето      6                 28.0         172.0      60.0   \n",
       "3     1000       лето      7                 41.0         340.0      75.0   \n",
       "4     1000       лето      8                 42.0         408.0      81.0   \n",
       "5     1000      осень      9                 46.0         466.0      57.0   \n",
       "6     1000      осень     10                 44.0         350.0      73.0   \n",
       "7     1000      осень     11                 37.0         338.0      58.0   \n",
       "1     1000       зима     12                 38.0         333.0      70.0   \n",
       "9     1001      осень     11                 45.0         430.0       NaN   \n",
       "8     1001       зима     12                 47.0         414.0       NaN   \n",
       "\n",
       "   Интернет, Гб  Тариф      Город  \n",
       "0           3.0  ultra  Краснодар  \n",
       "2          23.0  ultra  Краснодар  \n",
       "3          14.0  ultra  Краснодар  \n",
       "4          14.0  ultra  Краснодар  \n",
       "5          15.0  ultra  Краснодар  \n",
       "6          15.0  ultra  Краснодар  \n",
       "7          15.0  ultra  Краснодар  \n",
       "1          10.0  ultra  Краснодар  \n",
       "9          18.0  smart     Москва  \n",
       "8          14.0  smart     Москва  "
      ]
     },
     "execution_count": 37,
     "metadata": {},
     "output_type": "execute_result"
    }
   ],
   "source": [
    "df_numbers.sort_values(by=['User_id', 'Месяц']).head(10)"
   ]
  },
  {
   "cell_type": "code",
   "execution_count": 38,
   "metadata": {},
   "outputs": [
    {
     "name": "stdout",
     "output_type": "stream",
     "text": [
      "<class 'pandas.core.frame.DataFrame'>\n",
      "RangeIndex: 3214 entries, 0 to 3213\n",
      "Data columns (total 9 columns):\n",
      "User_id                3214 non-null int64\n",
      "Время года             3214 non-null object\n",
      "Месяц                  3214 non-null int64\n",
      "Кол-во звонков, шт.    3168 non-null float64\n",
      "Звонки, мин.           3168 non-null float64\n",
      "СМС, шт.               2717 non-null float64\n",
      "Интернет, Гб           3201 non-null float64\n",
      "Тариф                  3214 non-null object\n",
      "Город                  3214 non-null object\n",
      "dtypes: float64(4), int64(2), object(3)\n",
      "memory usage: 226.1+ KB\n"
     ]
    }
   ],
   "source": [
    "df_numbers.info()"
   ]
  },
  {
   "cell_type": "code",
   "execution_count": 39,
   "metadata": {},
   "outputs": [
    {
     "data": {
      "text/html": [
       "<div>\n",
       "<style scoped>\n",
       "    .dataframe tbody tr th:only-of-type {\n",
       "        vertical-align: middle;\n",
       "    }\n",
       "\n",
       "    .dataframe tbody tr th {\n",
       "        vertical-align: top;\n",
       "    }\n",
       "\n",
       "    .dataframe thead th {\n",
       "        text-align: right;\n",
       "    }\n",
       "</style>\n",
       "<table border=\"1\" class=\"dataframe\">\n",
       "  <thead>\n",
       "    <tr style=\"text-align: right;\">\n",
       "      <th></th>\n",
       "      <th>User_id</th>\n",
       "      <th>Время года</th>\n",
       "      <th>Месяц</th>\n",
       "      <th>Кол-во звонков, шт.</th>\n",
       "      <th>Звонки, мин.</th>\n",
       "      <th>СМС, шт.</th>\n",
       "      <th>Интернет, Гб</th>\n",
       "      <th>Тариф</th>\n",
       "      <th>Город</th>\n",
       "    </tr>\n",
       "  </thead>\n",
       "  <tbody>\n",
       "    <tr>\n",
       "      <td>592</td>\n",
       "      <td>1094</td>\n",
       "      <td>весна</td>\n",
       "      <td>5</td>\n",
       "      <td>12.0</td>\n",
       "      <td>107.0</td>\n",
       "      <td>3.0</td>\n",
       "      <td>NaN</td>\n",
       "      <td>ultra</td>\n",
       "      <td>Новосибирск</td>\n",
       "    </tr>\n",
       "    <tr>\n",
       "      <td>1722</td>\n",
       "      <td>1273</td>\n",
       "      <td>весна</td>\n",
       "      <td>5</td>\n",
       "      <td>19.0</td>\n",
       "      <td>220.0</td>\n",
       "      <td>21.0</td>\n",
       "      <td>NaN</td>\n",
       "      <td>ultra</td>\n",
       "      <td>Курган</td>\n",
       "    </tr>\n",
       "    <tr>\n",
       "      <td>1723</td>\n",
       "      <td>1273</td>\n",
       "      <td>зима</td>\n",
       "      <td>12</td>\n",
       "      <td>38.0</td>\n",
       "      <td>260.0</td>\n",
       "      <td>39.0</td>\n",
       "      <td>NaN</td>\n",
       "      <td>ultra</td>\n",
       "      <td>Курган</td>\n",
       "    </tr>\n",
       "    <tr>\n",
       "      <td>1724</td>\n",
       "      <td>1273</td>\n",
       "      <td>лето</td>\n",
       "      <td>6</td>\n",
       "      <td>28.0</td>\n",
       "      <td>230.0</td>\n",
       "      <td>38.0</td>\n",
       "      <td>NaN</td>\n",
       "      <td>ultra</td>\n",
       "      <td>Курган</td>\n",
       "    </tr>\n",
       "    <tr>\n",
       "      <td>1725</td>\n",
       "      <td>1273</td>\n",
       "      <td>лето</td>\n",
       "      <td>7</td>\n",
       "      <td>30.0</td>\n",
       "      <td>253.0</td>\n",
       "      <td>37.0</td>\n",
       "      <td>NaN</td>\n",
       "      <td>ultra</td>\n",
       "      <td>Курган</td>\n",
       "    </tr>\n",
       "    <tr>\n",
       "      <td>1726</td>\n",
       "      <td>1273</td>\n",
       "      <td>лето</td>\n",
       "      <td>8</td>\n",
       "      <td>39.0</td>\n",
       "      <td>253.0</td>\n",
       "      <td>41.0</td>\n",
       "      <td>NaN</td>\n",
       "      <td>ultra</td>\n",
       "      <td>Курган</td>\n",
       "    </tr>\n",
       "    <tr>\n",
       "      <td>1727</td>\n",
       "      <td>1273</td>\n",
       "      <td>осень</td>\n",
       "      <td>9</td>\n",
       "      <td>28.0</td>\n",
       "      <td>223.0</td>\n",
       "      <td>32.0</td>\n",
       "      <td>NaN</td>\n",
       "      <td>ultra</td>\n",
       "      <td>Курган</td>\n",
       "    </tr>\n",
       "    <tr>\n",
       "      <td>1728</td>\n",
       "      <td>1273</td>\n",
       "      <td>осень</td>\n",
       "      <td>10</td>\n",
       "      <td>35.0</td>\n",
       "      <td>315.0</td>\n",
       "      <td>35.0</td>\n",
       "      <td>NaN</td>\n",
       "      <td>ultra</td>\n",
       "      <td>Курган</td>\n",
       "    </tr>\n",
       "    <tr>\n",
       "      <td>1729</td>\n",
       "      <td>1273</td>\n",
       "      <td>осень</td>\n",
       "      <td>11</td>\n",
       "      <td>31.0</td>\n",
       "      <td>272.0</td>\n",
       "      <td>29.0</td>\n",
       "      <td>NaN</td>\n",
       "      <td>ultra</td>\n",
       "      <td>Курган</td>\n",
       "    </tr>\n",
       "    <tr>\n",
       "      <td>2307</td>\n",
       "      <td>1365</td>\n",
       "      <td>осень</td>\n",
       "      <td>10</td>\n",
       "      <td>5.0</td>\n",
       "      <td>43.0</td>\n",
       "      <td>1.0</td>\n",
       "      <td>NaN</td>\n",
       "      <td>smart</td>\n",
       "      <td>Ростов-на-Дону</td>\n",
       "    </tr>\n",
       "    <tr>\n",
       "      <td>2390</td>\n",
       "      <td>1377</td>\n",
       "      <td>зима</td>\n",
       "      <td>2</td>\n",
       "      <td>20.0</td>\n",
       "      <td>179.0</td>\n",
       "      <td>2.0</td>\n",
       "      <td>NaN</td>\n",
       "      <td>ultra</td>\n",
       "      <td>Брянск</td>\n",
       "    </tr>\n",
       "    <tr>\n",
       "      <td>2503</td>\n",
       "      <td>1392</td>\n",
       "      <td>зима</td>\n",
       "      <td>2</td>\n",
       "      <td>2.0</td>\n",
       "      <td>13.0</td>\n",
       "      <td>3.0</td>\n",
       "      <td>NaN</td>\n",
       "      <td>ultra</td>\n",
       "      <td>Челябинск</td>\n",
       "    </tr>\n",
       "    <tr>\n",
       "      <td>2859</td>\n",
       "      <td>1446</td>\n",
       "      <td>лето</td>\n",
       "      <td>8</td>\n",
       "      <td>4.0</td>\n",
       "      <td>50.0</td>\n",
       "      <td>1.0</td>\n",
       "      <td>NaN</td>\n",
       "      <td>smart</td>\n",
       "      <td>Липецк</td>\n",
       "    </tr>\n",
       "  </tbody>\n",
       "</table>\n",
       "</div>"
      ],
      "text/plain": [
       "      User_id Время года  Месяц  Кол-во звонков, шт.  Звонки, мин.  СМС, шт.  \\\n",
       "592      1094      весна      5                 12.0         107.0       3.0   \n",
       "1722     1273      весна      5                 19.0         220.0      21.0   \n",
       "1723     1273       зима     12                 38.0         260.0      39.0   \n",
       "1724     1273       лето      6                 28.0         230.0      38.0   \n",
       "1725     1273       лето      7                 30.0         253.0      37.0   \n",
       "1726     1273       лето      8                 39.0         253.0      41.0   \n",
       "1727     1273      осень      9                 28.0         223.0      32.0   \n",
       "1728     1273      осень     10                 35.0         315.0      35.0   \n",
       "1729     1273      осень     11                 31.0         272.0      29.0   \n",
       "2307     1365      осень     10                  5.0          43.0       1.0   \n",
       "2390     1377       зима      2                 20.0         179.0       2.0   \n",
       "2503     1392       зима      2                  2.0          13.0       3.0   \n",
       "2859     1446       лето      8                  4.0          50.0       1.0   \n",
       "\n",
       "      Интернет, Гб  Тариф           Город  \n",
       "592            NaN  ultra     Новосибирск  \n",
       "1722           NaN  ultra          Курган  \n",
       "1723           NaN  ultra          Курган  \n",
       "1724           NaN  ultra          Курган  \n",
       "1725           NaN  ultra          Курган  \n",
       "1726           NaN  ultra          Курган  \n",
       "1727           NaN  ultra          Курган  \n",
       "1728           NaN  ultra          Курган  \n",
       "1729           NaN  ultra          Курган  \n",
       "2307           NaN  smart  Ростов-на-Дону  \n",
       "2390           NaN  ultra          Брянск  \n",
       "2503           NaN  ultra       Челябинск  \n",
       "2859           NaN  smart          Липецк  "
      ]
     },
     "execution_count": 39,
     "metadata": {},
     "output_type": "execute_result"
    }
   ],
   "source": [
    "df_numbers[df_numbers['Интернет, Гб'].isnull()]"
   ]
  },
  {
   "cell_type": "markdown",
   "metadata": {},
   "source": [
    "Заполнение пропусков:"
   ]
  },
  {
   "cell_type": "markdown",
   "metadata": {},
   "source": [
    "Пропуски есть по каждому из столбцов. Вероятно, некоторые из пользователей за рассматриваемый период времени или ни разу не звонили, или ни разу не отправляли СМС, или ни разу не выходили в интернет. Посмотрим, нет ли у нас пользователей, которые ни разу не звонили, не отправляли смс и не заходили в интернет:"
   ]
  },
  {
   "cell_type": "code",
   "execution_count": 40,
   "metadata": {},
   "outputs": [
    {
     "data": {
      "text/html": [
       "<div>\n",
       "<style scoped>\n",
       "    .dataframe tbody tr th:only-of-type {\n",
       "        vertical-align: middle;\n",
       "    }\n",
       "\n",
       "    .dataframe tbody tr th {\n",
       "        vertical-align: top;\n",
       "    }\n",
       "\n",
       "    .dataframe thead th {\n",
       "        text-align: right;\n",
       "    }\n",
       "</style>\n",
       "<table border=\"1\" class=\"dataframe\">\n",
       "  <thead>\n",
       "    <tr style=\"text-align: right;\">\n",
       "      <th></th>\n",
       "      <th>User_id</th>\n",
       "      <th>Время года</th>\n",
       "      <th>Месяц</th>\n",
       "      <th>Кол-во звонков, шт.</th>\n",
       "      <th>Звонки, мин.</th>\n",
       "      <th>СМС, шт.</th>\n",
       "      <th>Интернет, Гб</th>\n",
       "      <th>Тариф</th>\n",
       "      <th>Город</th>\n",
       "    </tr>\n",
       "  </thead>\n",
       "  <tbody>\n",
       "  </tbody>\n",
       "</table>\n",
       "</div>"
      ],
      "text/plain": [
       "Empty DataFrame\n",
       "Columns: [User_id, Время года, Месяц, Кол-во звонков, шт., Звонки, мин., СМС, шт., Интернет, Гб, Тариф, Город]\n",
       "Index: []"
      ]
     },
     "execution_count": 40,
     "metadata": {},
     "output_type": "execute_result"
    }
   ],
   "source": [
    "df_numbers[(df_numbers['Интернет, Гб'].isnull()) & (df_numbers['СМС, шт.'].isnull())\n",
    "           & (df_numbers['Звонки, мин.'].isnull())]"
   ]
  },
  {
   "cell_type": "markdown",
   "metadata": {},
   "source": [
    "Таких нет, это значит, что каждый из пользователей активный, просто в какие-то периоды мог не пользоваться одним из типов связи.\n",
    "\n",
    "Поэтому проставим по имеющимся пропускам нули, которые будут означать, что в конкретном месяце данный клиент не звонил/не отправлял СМС/не пользовался интернетом:"
   ]
  },
  {
   "cell_type": "code",
   "execution_count": 41,
   "metadata": {},
   "outputs": [],
   "source": [
    "df_numbers = df_numbers.fillna(0)"
   ]
  },
  {
   "cell_type": "code",
   "execution_count": 42,
   "metadata": {},
   "outputs": [
    {
     "name": "stdout",
     "output_type": "stream",
     "text": [
      "<class 'pandas.core.frame.DataFrame'>\n",
      "RangeIndex: 3214 entries, 0 to 3213\n",
      "Data columns (total 9 columns):\n",
      "User_id                3214 non-null int64\n",
      "Время года             3214 non-null object\n",
      "Месяц                  3214 non-null int64\n",
      "Кол-во звонков, шт.    3214 non-null float64\n",
      "Звонки, мин.           3214 non-null float64\n",
      "СМС, шт.               3214 non-null float64\n",
      "Интернет, Гб           3214 non-null float64\n",
      "Тариф                  3214 non-null object\n",
      "Город                  3214 non-null object\n",
      "dtypes: float64(4), int64(2), object(3)\n",
      "memory usage: 226.1+ KB\n"
     ]
    }
   ],
   "source": [
    "df_numbers.info()"
   ]
  },
  {
   "cell_type": "markdown",
   "metadata": {},
   "source": [
    "Все пропуски заполнены"
   ]
  },
  {
   "cell_type": "markdown",
   "metadata": {},
   "source": [
    "## Проведем анализ по тарифным планам"
   ]
  },
  {
   "cell_type": "code",
   "execution_count": 43,
   "metadata": {},
   "outputs": [
    {
     "data": {
      "text/plain": [
       "<matplotlib.legend.Legend at 0x7fae33a28e90>"
      ]
     },
     "execution_count": 43,
     "metadata": {},
     "output_type": "execute_result"
    },
    {
     "data": {
      "image/png": "[encoded data removed]",
      "text/plain": [
       "<Figure size 1440x360 with 1 Axes>"
      ]
     },
     "metadata": {},
     "output_type": "display_data"
    }
   ],
   "source": [
    "all_users = df_numbers['User_id'].count()\n",
    "\n",
    "def func_pct(pct):\n",
    "    value = int(pct/100.*all_users)\n",
    "    return \"{:.2f}%\\n({:.0f} чел.)\".format(pct, value)\n",
    "\n",
    "axes = df_numbers.groupby('Тариф')['User_id'].count().plot(kind='pie', fontsize=15,\n",
    "                                                           title = 'Распределение по клиентам',\n",
    "                                                           figsize=(20,5),\n",
    "                                                           autopct=lambda pct: func_pct(pct))\n",
    "\n",
    "ax.legend(['Смарт', 'Ультра'], prop={'size':20})"
   ]
  },
  {
   "cell_type": "markdown",
   "metadata": {},
   "source": [
    "### Почти 70% клиентов предпочитают тарифный план Смарт\n",
    "И основная причина, так как он изначально дешевле."
   ]
  },
  {
   "cell_type": "code",
   "execution_count": 44,
   "metadata": {},
   "outputs": [
    {
     "data": {
      "text/plain": [
       "<matplotlib.legend.Legend at 0x7fae33a281d0>"
      ]
     },
     "execution_count": 44,
     "metadata": {},
     "output_type": "execute_result"
    },
    {
     "data": {
      "image/png": "[encoded data removed]",
      "text/plain": [
       "<Figure size 1440x360 with 1 Axes>"
      ]
     },
     "metadata": {},
     "output_type": "display_data"
    }
   ],
   "source": [
    "calls_sum = df_numbers['Звонки, мин.'].sum()\n",
    "\n",
    "def func_pct(pct):\n",
    "    value = int(pct/100.*calls_sum)\n",
    "    return \"{:.2f}%\\n({:.0f} мин.)\".format(pct, value)\n",
    "\n",
    "axes = df_numbers.groupby('Тариф')['Звонки, мин.'].sum().plot(kind='pie', fontsize=15, \n",
    "                                                              title = 'Звонки, мин.', figsize=(20,5),\n",
    "                                                              autopct=lambda pct: func_pct(pct))\n",
    "\n",
    "ax.legend(['Смарт', 'Ультра'], prop={'size':20})"
   ]
  },
  {
   "cell_type": "code",
   "execution_count": 45,
   "metadata": {},
   "outputs": [
    {
     "data": {
      "text/plain": [
       "<matplotlib.legend.Legend at 0x7fae33a45490>"
      ]
     },
     "execution_count": 45,
     "metadata": {},
     "output_type": "execute_result"
    },
    {
     "data": {
      "image/png": "[encoded data removed]",
      "text/plain": [
       "<Figure size 1440x360 with 1 Axes>"
      ]
     },
     "metadata": {},
     "output_type": "display_data"
    }
   ],
   "source": [
    "calls_sum = df_numbers['СМС, шт.'].sum()\n",
    "\n",
    "def func_pct(pct):\n",
    "    value = int(pct/100.*calls_sum)\n",
    "    return \"{:.2f}%\\n({:.0f} шт.)\".format(pct, value)\n",
    "\n",
    "axes = df_numbers.groupby('Тариф')['СМС, шт.'].sum().plot(kind='pie', fontsize=15, \n",
    "                                                              title = 'СМС, шт.', figsize=(20,5),\n",
    "                                                              autopct=lambda pct: func_pct(pct))\n",
    "\n",
    "ax.legend(['Смарт', 'Ультра'], prop={'size':20})"
   ]
  },
  {
   "cell_type": "code",
   "execution_count": 46,
   "metadata": {},
   "outputs": [
    {
     "data": {
      "text/plain": [
       "<matplotlib.legend.Legend at 0x7fae33bae3d0>"
      ]
     },
     "execution_count": 46,
     "metadata": {},
     "output_type": "execute_result"
    },
    {
     "data": {
      "image/png": "[encoded data removed]",
      "text/plain": [
       "<Figure size 1440x360 with 1 Axes>"
      ]
     },
     "metadata": {},
     "output_type": "display_data"
    }
   ],
   "source": [
    "calls_sum = df_numbers['Интернет, Гб'].sum()\n",
    "\n",
    "def func_pct(pct):\n",
    "    value = int(pct/100.*calls_sum)\n",
    "    return \"{:.2f}%\\n({:.0f} Гб.)\".format(pct, value)\n",
    "\n",
    "axes = df_numbers.groupby('Тариф')['Интернет, Гб'].sum().plot(kind='pie', fontsize=15, \n",
    "                                                              title = 'Интернет, Гб', figsize=(20,5),\n",
    "                                                              autopct=lambda pct: func_pct(pct))\n",
    "\n",
    "ax.legend(['Смарт', 'Ультра'], prop={'size':20})"
   ]
  },
  {
   "cell_type": "markdown",
   "metadata": {},
   "source": [
    "### Следовательно, т.к. клиенты изначально предпочитают тарифный план Смарт, то и количество звонков, СМС и Интернета больше используется на данном тарифном плане."
   ]
  },
  {
   "cell_type": "markdown",
   "metadata": {},
   "source": [
    "Добавление информации о помесячной выручке с каждого пользователя:\n",
    "Разобьем на 3 группы столбцов:\n",
    "\n",
    "- \"Абон. плата\";\n",
    "- \"Минуты сверх\", \"СМС сверх\", \"Мб сверх\", \"Плата сверх лимита\";\n",
    "- \"Сумма за месяц\"."
   ]
  },
  {
   "cell_type": "code",
   "execution_count": 47,
   "metadata": {},
   "outputs": [],
   "source": [
    "month_price = {'smart': 550, 'ultra': 1950}\n",
    "df_numbers['Абон. плата, руб.'] = df_numbers['Тариф'].map(month_price)"
   ]
  },
  {
   "cell_type": "markdown",
   "metadata": {},
   "source": [
    "Для создания столбцов \"Минуты сверх\", \"СМС сверх\", \"Мб сверх\", \"Плата сверх лимита\" напишем функцию, которая будет считать превышения в зависимости от тарифа:"
   ]
  },
  {
   "cell_type": "code",
   "execution_count": 48,
   "metadata": {},
   "outputs": [
    {
     "data": {
      "text/html": [
       "<div>\n",
       "<style scoped>\n",
       "    .dataframe tbody tr th:only-of-type {\n",
       "        vertical-align: middle;\n",
       "    }\n",
       "\n",
       "    .dataframe tbody tr th {\n",
       "        vertical-align: top;\n",
       "    }\n",
       "\n",
       "    .dataframe thead th {\n",
       "        text-align: right;\n",
       "    }\n",
       "</style>\n",
       "<table border=\"1\" class=\"dataframe\">\n",
       "  <thead>\n",
       "    <tr style=\"text-align: right;\">\n",
       "      <th></th>\n",
       "      <th>User_id</th>\n",
       "      <th>Время года</th>\n",
       "      <th>Месяц</th>\n",
       "      <th>Кол-во звонков, шт.</th>\n",
       "      <th>Звонки, мин.</th>\n",
       "      <th>СМС, шт.</th>\n",
       "      <th>Интернет, Гб</th>\n",
       "      <th>Тариф</th>\n",
       "      <th>Город</th>\n",
       "      <th>Абон. плата, руб.</th>\n",
       "    </tr>\n",
       "  </thead>\n",
       "  <tbody>\n",
       "    <tr>\n",
       "      <td>0</td>\n",
       "      <td>1000</td>\n",
       "      <td>весна</td>\n",
       "      <td>5</td>\n",
       "      <td>17.0</td>\n",
       "      <td>159.0</td>\n",
       "      <td>22.0</td>\n",
       "      <td>3.0</td>\n",
       "      <td>ultra</td>\n",
       "      <td>Краснодар</td>\n",
       "      <td>1950</td>\n",
       "    </tr>\n",
       "    <tr>\n",
       "      <td>1</td>\n",
       "      <td>1000</td>\n",
       "      <td>зима</td>\n",
       "      <td>12</td>\n",
       "      <td>38.0</td>\n",
       "      <td>333.0</td>\n",
       "      <td>70.0</td>\n",
       "      <td>10.0</td>\n",
       "      <td>ultra</td>\n",
       "      <td>Краснодар</td>\n",
       "      <td>1950</td>\n",
       "    </tr>\n",
       "    <tr>\n",
       "      <td>2</td>\n",
       "      <td>1000</td>\n",
       "      <td>лето</td>\n",
       "      <td>6</td>\n",
       "      <td>28.0</td>\n",
       "      <td>172.0</td>\n",
       "      <td>60.0</td>\n",
       "      <td>23.0</td>\n",
       "      <td>ultra</td>\n",
       "      <td>Краснодар</td>\n",
       "      <td>1950</td>\n",
       "    </tr>\n",
       "    <tr>\n",
       "      <td>3</td>\n",
       "      <td>1000</td>\n",
       "      <td>лето</td>\n",
       "      <td>7</td>\n",
       "      <td>41.0</td>\n",
       "      <td>340.0</td>\n",
       "      <td>75.0</td>\n",
       "      <td>14.0</td>\n",
       "      <td>ultra</td>\n",
       "      <td>Краснодар</td>\n",
       "      <td>1950</td>\n",
       "    </tr>\n",
       "    <tr>\n",
       "      <td>4</td>\n",
       "      <td>1000</td>\n",
       "      <td>лето</td>\n",
       "      <td>8</td>\n",
       "      <td>42.0</td>\n",
       "      <td>408.0</td>\n",
       "      <td>81.0</td>\n",
       "      <td>14.0</td>\n",
       "      <td>ultra</td>\n",
       "      <td>Краснодар</td>\n",
       "      <td>1950</td>\n",
       "    </tr>\n",
       "  </tbody>\n",
       "</table>\n",
       "</div>"
      ],
      "text/plain": [
       "   User_id Время года  Месяц  Кол-во звонков, шт.  Звонки, мин.  СМС, шт.  \\\n",
       "0     1000      весна      5                 17.0         159.0      22.0   \n",
       "1     1000       зима     12                 38.0         333.0      70.0   \n",
       "2     1000       лето      6                 28.0         172.0      60.0   \n",
       "3     1000       лето      7                 41.0         340.0      75.0   \n",
       "4     1000       лето      8                 42.0         408.0      81.0   \n",
       "\n",
       "   Интернет, Гб  Тариф      Город  Абон. плата, руб.  \n",
       "0           3.0  ultra  Краснодар               1950  \n",
       "1          10.0  ultra  Краснодар               1950  \n",
       "2          23.0  ultra  Краснодар               1950  \n",
       "3          14.0  ultra  Краснодар               1950  \n",
       "4          14.0  ultra  Краснодар               1950  "
      ]
     },
     "execution_count": 48,
     "metadata": {},
     "output_type": "execute_result"
    }
   ],
   "source": [
    "df_numbers.head()"
   ]
  },
  {
   "cell_type": "code",
   "execution_count": 49,
   "metadata": {},
   "outputs": [],
   "source": [
    "def calls_not_plan(row):\n",
    "    if row['Тариф'] == 'smart':\n",
    "        result = row['Звонки, мин.'] - 500\n",
    "        return np.where(result > 0, result, 0)\n",
    "    else:\n",
    "        result = row['Звонки, мин.'] - 3000\n",
    "        return np.where(result > 0, result, 0)\n",
    "    \n",
    "    \n",
    "def sms_not_plan(row):\n",
    "    if row['Тариф'] == 'smart':\n",
    "        result = row['СМС, шт.'] - 50\n",
    "        return np.where(result > 0, result, 0)\n",
    "    else:\n",
    "        result =  row['СМС, шт.'] - 1000\n",
    "        return np.where(result > 0, result, 0)\n",
    "    \n",
    "\n",
    "def internet_not_plan(row):\n",
    "    if row['Тариф'] == 'smart':\n",
    "        result = row['Интернет, Гб'] - 15\n",
    "        return np.where(result > 0, result, 0)\n",
    "    else:\n",
    "        result = row['Интернет, Гб'] - 30\n",
    "        return np.where(result > 0, result, 0)\n",
    "    \n",
    "    \n",
    "def month_total(row):\n",
    "    sum_per_month = 0\n",
    "    if row['Тариф'] == 'smart':\n",
    "        sum_per_month += np.ceil(row['Минуты сверх']) * 3\n",
    "        sum_per_month += row['СМС сверх'] * 3\n",
    "        sum_per_month += np.ceil(row['Гб сверх']) * 200\n",
    "        return sum_per_month\n",
    "    \n",
    "    else:\n",
    "        sum_per_month += np.ceil(row['Минуты сверх']) * 1\n",
    "        sum_per_month += row['СМС сверх'] * 1\n",
    "        sum_per_month += np.ceil(row['Гб сверх']) * 150\n",
    "        return sum_per_month"
   ]
  },
  {
   "cell_type": "markdown",
   "metadata": {},
   "source": [
    "Создадим новые столбцы:"
   ]
  },
  {
   "cell_type": "code",
   "execution_count": 50,
   "metadata": {},
   "outputs": [],
   "source": [
    "df_numbers['Минуты сверх'] = df_numbers.apply(calls_not_plan, axis=1)\n",
    "df_numbers['СМС сверх'] = df_numbers.apply(sms_not_plan, axis=1)\n",
    "df_numbers['Гб сверх'] = df_numbers.apply(internet_not_plan, axis=1)\n",
    "\n",
    "df_numbers['Плата сверх лимита, руб.'] = df_numbers.apply(month_total, axis=1)\n",
    "\n",
    "for column in ['Минуты сверх', 'Гб сверх']:\n",
    "    df_numbers[column] = df_numbers[column].astype('float')\n",
    "\n",
    "for column in ['СМС сверх', 'Плата сверх лимита, руб.']:\n",
    "    df_numbers[column] = df_numbers[column].astype('int')"
   ]
  },
  {
   "cell_type": "code",
   "execution_count": 51,
   "metadata": {},
   "outputs": [
    {
     "data": {
      "text/html": [
       "<div>\n",
       "<style scoped>\n",
       "    .dataframe tbody tr th:only-of-type {\n",
       "        vertical-align: middle;\n",
       "    }\n",
       "\n",
       "    .dataframe tbody tr th {\n",
       "        vertical-align: top;\n",
       "    }\n",
       "\n",
       "    .dataframe thead th {\n",
       "        text-align: right;\n",
       "    }\n",
       "</style>\n",
       "<table border=\"1\" class=\"dataframe\">\n",
       "  <thead>\n",
       "    <tr style=\"text-align: right;\">\n",
       "      <th></th>\n",
       "      <th>User_id</th>\n",
       "      <th>Время года</th>\n",
       "      <th>Месяц</th>\n",
       "      <th>Кол-во звонков, шт.</th>\n",
       "      <th>Звонки, мин.</th>\n",
       "      <th>СМС, шт.</th>\n",
       "      <th>Интернет, Гб</th>\n",
       "      <th>Тариф</th>\n",
       "      <th>Город</th>\n",
       "      <th>Абон. плата, руб.</th>\n",
       "      <th>Минуты сверх</th>\n",
       "      <th>СМС сверх</th>\n",
       "      <th>Гб сверх</th>\n",
       "      <th>Плата сверх лимита, руб.</th>\n",
       "    </tr>\n",
       "  </thead>\n",
       "  <tbody>\n",
       "    <tr>\n",
       "      <td>0</td>\n",
       "      <td>1000</td>\n",
       "      <td>весна</td>\n",
       "      <td>5</td>\n",
       "      <td>17.0</td>\n",
       "      <td>159.0</td>\n",
       "      <td>22.0</td>\n",
       "      <td>3.0</td>\n",
       "      <td>ultra</td>\n",
       "      <td>Краснодар</td>\n",
       "      <td>1950</td>\n",
       "      <td>0.0</td>\n",
       "      <td>0</td>\n",
       "      <td>0.0</td>\n",
       "      <td>0</td>\n",
       "    </tr>\n",
       "    <tr>\n",
       "      <td>1</td>\n",
       "      <td>1000</td>\n",
       "      <td>зима</td>\n",
       "      <td>12</td>\n",
       "      <td>38.0</td>\n",
       "      <td>333.0</td>\n",
       "      <td>70.0</td>\n",
       "      <td>10.0</td>\n",
       "      <td>ultra</td>\n",
       "      <td>Краснодар</td>\n",
       "      <td>1950</td>\n",
       "      <td>0.0</td>\n",
       "      <td>0</td>\n",
       "      <td>0.0</td>\n",
       "      <td>0</td>\n",
       "    </tr>\n",
       "    <tr>\n",
       "      <td>2</td>\n",
       "      <td>1000</td>\n",
       "      <td>лето</td>\n",
       "      <td>6</td>\n",
       "      <td>28.0</td>\n",
       "      <td>172.0</td>\n",
       "      <td>60.0</td>\n",
       "      <td>23.0</td>\n",
       "      <td>ultra</td>\n",
       "      <td>Краснодар</td>\n",
       "      <td>1950</td>\n",
       "      <td>0.0</td>\n",
       "      <td>0</td>\n",
       "      <td>0.0</td>\n",
       "      <td>0</td>\n",
       "    </tr>\n",
       "    <tr>\n",
       "      <td>3</td>\n",
       "      <td>1000</td>\n",
       "      <td>лето</td>\n",
       "      <td>7</td>\n",
       "      <td>41.0</td>\n",
       "      <td>340.0</td>\n",
       "      <td>75.0</td>\n",
       "      <td>14.0</td>\n",
       "      <td>ultra</td>\n",
       "      <td>Краснодар</td>\n",
       "      <td>1950</td>\n",
       "      <td>0.0</td>\n",
       "      <td>0</td>\n",
       "      <td>0.0</td>\n",
       "      <td>0</td>\n",
       "    </tr>\n",
       "    <tr>\n",
       "      <td>4</td>\n",
       "      <td>1000</td>\n",
       "      <td>лето</td>\n",
       "      <td>8</td>\n",
       "      <td>42.0</td>\n",
       "      <td>408.0</td>\n",
       "      <td>81.0</td>\n",
       "      <td>14.0</td>\n",
       "      <td>ultra</td>\n",
       "      <td>Краснодар</td>\n",
       "      <td>1950</td>\n",
       "      <td>0.0</td>\n",
       "      <td>0</td>\n",
       "      <td>0.0</td>\n",
       "      <td>0</td>\n",
       "    </tr>\n",
       "    <tr>\n",
       "      <td>5</td>\n",
       "      <td>1000</td>\n",
       "      <td>осень</td>\n",
       "      <td>9</td>\n",
       "      <td>46.0</td>\n",
       "      <td>466.0</td>\n",
       "      <td>57.0</td>\n",
       "      <td>15.0</td>\n",
       "      <td>ultra</td>\n",
       "      <td>Краснодар</td>\n",
       "      <td>1950</td>\n",
       "      <td>0.0</td>\n",
       "      <td>0</td>\n",
       "      <td>0.0</td>\n",
       "      <td>0</td>\n",
       "    </tr>\n",
       "    <tr>\n",
       "      <td>6</td>\n",
       "      <td>1000</td>\n",
       "      <td>осень</td>\n",
       "      <td>10</td>\n",
       "      <td>44.0</td>\n",
       "      <td>350.0</td>\n",
       "      <td>73.0</td>\n",
       "      <td>15.0</td>\n",
       "      <td>ultra</td>\n",
       "      <td>Краснодар</td>\n",
       "      <td>1950</td>\n",
       "      <td>0.0</td>\n",
       "      <td>0</td>\n",
       "      <td>0.0</td>\n",
       "      <td>0</td>\n",
       "    </tr>\n",
       "    <tr>\n",
       "      <td>7</td>\n",
       "      <td>1000</td>\n",
       "      <td>осень</td>\n",
       "      <td>11</td>\n",
       "      <td>37.0</td>\n",
       "      <td>338.0</td>\n",
       "      <td>58.0</td>\n",
       "      <td>15.0</td>\n",
       "      <td>ultra</td>\n",
       "      <td>Краснодар</td>\n",
       "      <td>1950</td>\n",
       "      <td>0.0</td>\n",
       "      <td>0</td>\n",
       "      <td>0.0</td>\n",
       "      <td>0</td>\n",
       "    </tr>\n",
       "    <tr>\n",
       "      <td>8</td>\n",
       "      <td>1001</td>\n",
       "      <td>зима</td>\n",
       "      <td>12</td>\n",
       "      <td>47.0</td>\n",
       "      <td>414.0</td>\n",
       "      <td>0.0</td>\n",
       "      <td>14.0</td>\n",
       "      <td>smart</td>\n",
       "      <td>Москва</td>\n",
       "      <td>550</td>\n",
       "      <td>0.0</td>\n",
       "      <td>0</td>\n",
       "      <td>0.0</td>\n",
       "      <td>0</td>\n",
       "    </tr>\n",
       "    <tr>\n",
       "      <td>9</td>\n",
       "      <td>1001</td>\n",
       "      <td>осень</td>\n",
       "      <td>11</td>\n",
       "      <td>45.0</td>\n",
       "      <td>430.0</td>\n",
       "      <td>0.0</td>\n",
       "      <td>18.0</td>\n",
       "      <td>smart</td>\n",
       "      <td>Москва</td>\n",
       "      <td>550</td>\n",
       "      <td>0.0</td>\n",
       "      <td>0</td>\n",
       "      <td>3.0</td>\n",
       "      <td>600</td>\n",
       "    </tr>\n",
       "  </tbody>\n",
       "</table>\n",
       "</div>"
      ],
      "text/plain": [
       "   User_id Время года  Месяц  Кол-во звонков, шт.  Звонки, мин.  СМС, шт.  \\\n",
       "0     1000      весна      5                 17.0         159.0      22.0   \n",
       "1     1000       зима     12                 38.0         333.0      70.0   \n",
       "2     1000       лето      6                 28.0         172.0      60.0   \n",
       "3     1000       лето      7                 41.0         340.0      75.0   \n",
       "4     1000       лето      8                 42.0         408.0      81.0   \n",
       "5     1000      осень      9                 46.0         466.0      57.0   \n",
       "6     1000      осень     10                 44.0         350.0      73.0   \n",
       "7     1000      осень     11                 37.0         338.0      58.0   \n",
       "8     1001       зима     12                 47.0         414.0       0.0   \n",
       "9     1001      осень     11                 45.0         430.0       0.0   \n",
       "\n",
       "   Интернет, Гб  Тариф      Город  Абон. плата, руб.  Минуты сверх  СМС сверх  \\\n",
       "0           3.0  ultra  Краснодар               1950           0.0          0   \n",
       "1          10.0  ultra  Краснодар               1950           0.0          0   \n",
       "2          23.0  ultra  Краснодар               1950           0.0          0   \n",
       "3          14.0  ultra  Краснодар               1950           0.0          0   \n",
       "4          14.0  ultra  Краснодар               1950           0.0          0   \n",
       "5          15.0  ultra  Краснодар               1950           0.0          0   \n",
       "6          15.0  ultra  Краснодар               1950           0.0          0   \n",
       "7          15.0  ultra  Краснодар               1950           0.0          0   \n",
       "8          14.0  smart     Москва                550           0.0          0   \n",
       "9          18.0  smart     Москва                550           0.0          0   \n",
       "\n",
       "   Гб сверх  Плата сверх лимита, руб.  \n",
       "0       0.0                         0  \n",
       "1       0.0                         0  \n",
       "2       0.0                         0  \n",
       "3       0.0                         0  \n",
       "4       0.0                         0  \n",
       "5       0.0                         0  \n",
       "6       0.0                         0  \n",
       "7       0.0                         0  \n",
       "8       0.0                         0  \n",
       "9       3.0                       600  "
      ]
     },
     "execution_count": 51,
     "metadata": {},
     "output_type": "execute_result"
    }
   ],
   "source": [
    "df_numbers.head(10)"
   ]
  },
  {
   "cell_type": "markdown",
   "metadata": {},
   "source": [
    "Для создания столбца \"Сумма за месяц\" построчно просуммируем данные по 2 только что созданным столбцам: \"Абон. плата\" и \"Плата сверх лимита\":"
   ]
  },
  {
   "cell_type": "code",
   "execution_count": 52,
   "metadata": {},
   "outputs": [],
   "source": [
    "df_numbers['Сумма за месяц, руб.'] = (df_numbers['Абон. плата, руб.']\n",
    "                                      + df_numbers['Плата сверх лимита, руб.']).copy()"
   ]
  },
  {
   "cell_type": "code",
   "execution_count": 53,
   "metadata": {},
   "outputs": [
    {
     "data": {
      "text/html": [
       "<div>\n",
       "<style scoped>\n",
       "    .dataframe tbody tr th:only-of-type {\n",
       "        vertical-align: middle;\n",
       "    }\n",
       "\n",
       "    .dataframe tbody tr th {\n",
       "        vertical-align: top;\n",
       "    }\n",
       "\n",
       "    .dataframe thead th {\n",
       "        text-align: right;\n",
       "    }\n",
       "</style>\n",
       "<table border=\"1\" class=\"dataframe\">\n",
       "  <thead>\n",
       "    <tr style=\"text-align: right;\">\n",
       "      <th></th>\n",
       "      <th>User_id</th>\n",
       "      <th>Время года</th>\n",
       "      <th>Месяц</th>\n",
       "      <th>Кол-во звонков, шт.</th>\n",
       "      <th>Звонки, мин.</th>\n",
       "      <th>СМС, шт.</th>\n",
       "      <th>Интернет, Гб</th>\n",
       "      <th>Тариф</th>\n",
       "      <th>Город</th>\n",
       "      <th>Абон. плата, руб.</th>\n",
       "      <th>Минуты сверх</th>\n",
       "      <th>СМС сверх</th>\n",
       "      <th>Гб сверх</th>\n",
       "      <th>Плата сверх лимита, руб.</th>\n",
       "      <th>Сумма за месяц, руб.</th>\n",
       "    </tr>\n",
       "  </thead>\n",
       "  <tbody>\n",
       "    <tr>\n",
       "      <td>0</td>\n",
       "      <td>1000</td>\n",
       "      <td>весна</td>\n",
       "      <td>5</td>\n",
       "      <td>17.0</td>\n",
       "      <td>159.0</td>\n",
       "      <td>22.0</td>\n",
       "      <td>3.0</td>\n",
       "      <td>ultra</td>\n",
       "      <td>Краснодар</td>\n",
       "      <td>1950</td>\n",
       "      <td>0.0</td>\n",
       "      <td>0</td>\n",
       "      <td>0.0</td>\n",
       "      <td>0</td>\n",
       "      <td>1950</td>\n",
       "    </tr>\n",
       "    <tr>\n",
       "      <td>1</td>\n",
       "      <td>1000</td>\n",
       "      <td>зима</td>\n",
       "      <td>12</td>\n",
       "      <td>38.0</td>\n",
       "      <td>333.0</td>\n",
       "      <td>70.0</td>\n",
       "      <td>10.0</td>\n",
       "      <td>ultra</td>\n",
       "      <td>Краснодар</td>\n",
       "      <td>1950</td>\n",
       "      <td>0.0</td>\n",
       "      <td>0</td>\n",
       "      <td>0.0</td>\n",
       "      <td>0</td>\n",
       "      <td>1950</td>\n",
       "    </tr>\n",
       "    <tr>\n",
       "      <td>2</td>\n",
       "      <td>1000</td>\n",
       "      <td>лето</td>\n",
       "      <td>6</td>\n",
       "      <td>28.0</td>\n",
       "      <td>172.0</td>\n",
       "      <td>60.0</td>\n",
       "      <td>23.0</td>\n",
       "      <td>ultra</td>\n",
       "      <td>Краснодар</td>\n",
       "      <td>1950</td>\n",
       "      <td>0.0</td>\n",
       "      <td>0</td>\n",
       "      <td>0.0</td>\n",
       "      <td>0</td>\n",
       "      <td>1950</td>\n",
       "    </tr>\n",
       "    <tr>\n",
       "      <td>3</td>\n",
       "      <td>1000</td>\n",
       "      <td>лето</td>\n",
       "      <td>7</td>\n",
       "      <td>41.0</td>\n",
       "      <td>340.0</td>\n",
       "      <td>75.0</td>\n",
       "      <td>14.0</td>\n",
       "      <td>ultra</td>\n",
       "      <td>Краснодар</td>\n",
       "      <td>1950</td>\n",
       "      <td>0.0</td>\n",
       "      <td>0</td>\n",
       "      <td>0.0</td>\n",
       "      <td>0</td>\n",
       "      <td>1950</td>\n",
       "    </tr>\n",
       "    <tr>\n",
       "      <td>4</td>\n",
       "      <td>1000</td>\n",
       "      <td>лето</td>\n",
       "      <td>8</td>\n",
       "      <td>42.0</td>\n",
       "      <td>408.0</td>\n",
       "      <td>81.0</td>\n",
       "      <td>14.0</td>\n",
       "      <td>ultra</td>\n",
       "      <td>Краснодар</td>\n",
       "      <td>1950</td>\n",
       "      <td>0.0</td>\n",
       "      <td>0</td>\n",
       "      <td>0.0</td>\n",
       "      <td>0</td>\n",
       "      <td>1950</td>\n",
       "    </tr>\n",
       "    <tr>\n",
       "      <td>5</td>\n",
       "      <td>1000</td>\n",
       "      <td>осень</td>\n",
       "      <td>9</td>\n",
       "      <td>46.0</td>\n",
       "      <td>466.0</td>\n",
       "      <td>57.0</td>\n",
       "      <td>15.0</td>\n",
       "      <td>ultra</td>\n",
       "      <td>Краснодар</td>\n",
       "      <td>1950</td>\n",
       "      <td>0.0</td>\n",
       "      <td>0</td>\n",
       "      <td>0.0</td>\n",
       "      <td>0</td>\n",
       "      <td>1950</td>\n",
       "    </tr>\n",
       "    <tr>\n",
       "      <td>6</td>\n",
       "      <td>1000</td>\n",
       "      <td>осень</td>\n",
       "      <td>10</td>\n",
       "      <td>44.0</td>\n",
       "      <td>350.0</td>\n",
       "      <td>73.0</td>\n",
       "      <td>15.0</td>\n",
       "      <td>ultra</td>\n",
       "      <td>Краснодар</td>\n",
       "      <td>1950</td>\n",
       "      <td>0.0</td>\n",
       "      <td>0</td>\n",
       "      <td>0.0</td>\n",
       "      <td>0</td>\n",
       "      <td>1950</td>\n",
       "    </tr>\n",
       "    <tr>\n",
       "      <td>7</td>\n",
       "      <td>1000</td>\n",
       "      <td>осень</td>\n",
       "      <td>11</td>\n",
       "      <td>37.0</td>\n",
       "      <td>338.0</td>\n",
       "      <td>58.0</td>\n",
       "      <td>15.0</td>\n",
       "      <td>ultra</td>\n",
       "      <td>Краснодар</td>\n",
       "      <td>1950</td>\n",
       "      <td>0.0</td>\n",
       "      <td>0</td>\n",
       "      <td>0.0</td>\n",
       "      <td>0</td>\n",
       "      <td>1950</td>\n",
       "    </tr>\n",
       "    <tr>\n",
       "      <td>8</td>\n",
       "      <td>1001</td>\n",
       "      <td>зима</td>\n",
       "      <td>12</td>\n",
       "      <td>47.0</td>\n",
       "      <td>414.0</td>\n",
       "      <td>0.0</td>\n",
       "      <td>14.0</td>\n",
       "      <td>smart</td>\n",
       "      <td>Москва</td>\n",
       "      <td>550</td>\n",
       "      <td>0.0</td>\n",
       "      <td>0</td>\n",
       "      <td>0.0</td>\n",
       "      <td>0</td>\n",
       "      <td>550</td>\n",
       "    </tr>\n",
       "    <tr>\n",
       "      <td>9</td>\n",
       "      <td>1001</td>\n",
       "      <td>осень</td>\n",
       "      <td>11</td>\n",
       "      <td>45.0</td>\n",
       "      <td>430.0</td>\n",
       "      <td>0.0</td>\n",
       "      <td>18.0</td>\n",
       "      <td>smart</td>\n",
       "      <td>Москва</td>\n",
       "      <td>550</td>\n",
       "      <td>0.0</td>\n",
       "      <td>0</td>\n",
       "      <td>3.0</td>\n",
       "      <td>600</td>\n",
       "      <td>1150</td>\n",
       "    </tr>\n",
       "  </tbody>\n",
       "</table>\n",
       "</div>"
      ],
      "text/plain": [
       "   User_id Время года  Месяц  Кол-во звонков, шт.  Звонки, мин.  СМС, шт.  \\\n",
       "0     1000      весна      5                 17.0         159.0      22.0   \n",
       "1     1000       зима     12                 38.0         333.0      70.0   \n",
       "2     1000       лето      6                 28.0         172.0      60.0   \n",
       "3     1000       лето      7                 41.0         340.0      75.0   \n",
       "4     1000       лето      8                 42.0         408.0      81.0   \n",
       "5     1000      осень      9                 46.0         466.0      57.0   \n",
       "6     1000      осень     10                 44.0         350.0      73.0   \n",
       "7     1000      осень     11                 37.0         338.0      58.0   \n",
       "8     1001       зима     12                 47.0         414.0       0.0   \n",
       "9     1001      осень     11                 45.0         430.0       0.0   \n",
       "\n",
       "   Интернет, Гб  Тариф      Город  Абон. плата, руб.  Минуты сверх  СМС сверх  \\\n",
       "0           3.0  ultra  Краснодар               1950           0.0          0   \n",
       "1          10.0  ultra  Краснодар               1950           0.0          0   \n",
       "2          23.0  ultra  Краснодар               1950           0.0          0   \n",
       "3          14.0  ultra  Краснодар               1950           0.0          0   \n",
       "4          14.0  ultra  Краснодар               1950           0.0          0   \n",
       "5          15.0  ultra  Краснодар               1950           0.0          0   \n",
       "6          15.0  ultra  Краснодар               1950           0.0          0   \n",
       "7          15.0  ultra  Краснодар               1950           0.0          0   \n",
       "8          14.0  smart     Москва                550           0.0          0   \n",
       "9          18.0  smart     Москва                550           0.0          0   \n",
       "\n",
       "   Гб сверх  Плата сверх лимита, руб.  Сумма за месяц, руб.  \n",
       "0       0.0                         0                  1950  \n",
       "1       0.0                         0                  1950  \n",
       "2       0.0                         0                  1950  \n",
       "3       0.0                         0                  1950  \n",
       "4       0.0                         0                  1950  \n",
       "5       0.0                         0                  1950  \n",
       "6       0.0                         0                  1950  \n",
       "7       0.0                         0                  1950  \n",
       "8       0.0                         0                   550  \n",
       "9       3.0                       600                  1150  "
      ]
     },
     "execution_count": 53,
     "metadata": {},
     "output_type": "execute_result"
    }
   ],
   "source": [
    "df_numbers.head(10)"
   ]
  },
  {
   "cell_type": "markdown",
   "metadata": {},
   "source": [
    "Посмотрим, есть ли вообще клиенты, которые превышали лимиты:"
   ]
  },
  {
   "cell_type": "code",
   "execution_count": 54,
   "metadata": {},
   "outputs": [
    {
     "data": {
      "text/html": [
       "<div>\n",
       "<style scoped>\n",
       "    .dataframe tbody tr th:only-of-type {\n",
       "        vertical-align: middle;\n",
       "    }\n",
       "\n",
       "    .dataframe tbody tr th {\n",
       "        vertical-align: top;\n",
       "    }\n",
       "\n",
       "    .dataframe thead th {\n",
       "        text-align: right;\n",
       "    }\n",
       "</style>\n",
       "<table border=\"1\" class=\"dataframe\">\n",
       "  <thead>\n",
       "    <tr style=\"text-align: right;\">\n",
       "      <th></th>\n",
       "      <th>User_id</th>\n",
       "      <th>Время года</th>\n",
       "      <th>Месяц</th>\n",
       "      <th>Кол-во звонков, шт.</th>\n",
       "      <th>Звонки, мин.</th>\n",
       "      <th>СМС, шт.</th>\n",
       "      <th>Интернет, Гб</th>\n",
       "      <th>Тариф</th>\n",
       "      <th>Город</th>\n",
       "      <th>Абон. плата, руб.</th>\n",
       "      <th>Минуты сверх</th>\n",
       "      <th>СМС сверх</th>\n",
       "      <th>Гб сверх</th>\n",
       "      <th>Плата сверх лимита, руб.</th>\n",
       "      <th>Сумма за месяц, руб.</th>\n",
       "    </tr>\n",
       "  </thead>\n",
       "  <tbody>\n",
       "    <tr>\n",
       "      <td>68</td>\n",
       "      <td>1009</td>\n",
       "      <td>лето</td>\n",
       "      <td>7</td>\n",
       "      <td>20.0</td>\n",
       "      <td>183.0</td>\n",
       "      <td>14.0</td>\n",
       "      <td>25.0</td>\n",
       "      <td>smart</td>\n",
       "      <td>Пермь</td>\n",
       "      <td>550</td>\n",
       "      <td>0.0</td>\n",
       "      <td>0</td>\n",
       "      <td>10.0</td>\n",
       "      <td>2000</td>\n",
       "      <td>2550</td>\n",
       "    </tr>\n",
       "    <tr>\n",
       "      <td>69</td>\n",
       "      <td>1009</td>\n",
       "      <td>лето</td>\n",
       "      <td>8</td>\n",
       "      <td>27.0</td>\n",
       "      <td>249.0</td>\n",
       "      <td>9.0</td>\n",
       "      <td>24.0</td>\n",
       "      <td>smart</td>\n",
       "      <td>Пермь</td>\n",
       "      <td>550</td>\n",
       "      <td>0.0</td>\n",
       "      <td>0</td>\n",
       "      <td>9.0</td>\n",
       "      <td>1800</td>\n",
       "      <td>2350</td>\n",
       "    </tr>\n",
       "    <tr>\n",
       "      <td>81</td>\n",
       "      <td>1011</td>\n",
       "      <td>зима</td>\n",
       "      <td>12</td>\n",
       "      <td>44.0</td>\n",
       "      <td>361.0</td>\n",
       "      <td>6.0</td>\n",
       "      <td>23.0</td>\n",
       "      <td>smart</td>\n",
       "      <td>Самара</td>\n",
       "      <td>550</td>\n",
       "      <td>0.0</td>\n",
       "      <td>0</td>\n",
       "      <td>8.0</td>\n",
       "      <td>1600</td>\n",
       "      <td>2150</td>\n",
       "    </tr>\n",
       "    <tr>\n",
       "      <td>87</td>\n",
       "      <td>1011</td>\n",
       "      <td>осень</td>\n",
       "      <td>11</td>\n",
       "      <td>52.0</td>\n",
       "      <td>501.0</td>\n",
       "      <td>12.0</td>\n",
       "      <td>25.0</td>\n",
       "      <td>smart</td>\n",
       "      <td>Самара</td>\n",
       "      <td>550</td>\n",
       "      <td>1.0</td>\n",
       "      <td>0</td>\n",
       "      <td>10.0</td>\n",
       "      <td>2003</td>\n",
       "      <td>2553</td>\n",
       "    </tr>\n",
       "    <tr>\n",
       "      <td>90</td>\n",
       "      <td>1012</td>\n",
       "      <td>весна</td>\n",
       "      <td>5</td>\n",
       "      <td>35.0</td>\n",
       "      <td>316.0</td>\n",
       "      <td>10.0</td>\n",
       "      <td>26.0</td>\n",
       "      <td>smart</td>\n",
       "      <td>Санкт-Петербург</td>\n",
       "      <td>550</td>\n",
       "      <td>0.0</td>\n",
       "      <td>0</td>\n",
       "      <td>11.0</td>\n",
       "      <td>2200</td>\n",
       "      <td>2750</td>\n",
       "    </tr>\n",
       "    <tr>\n",
       "      <td>...</td>\n",
       "      <td>...</td>\n",
       "      <td>...</td>\n",
       "      <td>...</td>\n",
       "      <td>...</td>\n",
       "      <td>...</td>\n",
       "      <td>...</td>\n",
       "      <td>...</td>\n",
       "      <td>...</td>\n",
       "      <td>...</td>\n",
       "      <td>...</td>\n",
       "      <td>...</td>\n",
       "      <td>...</td>\n",
       "      <td>...</td>\n",
       "      <td>...</td>\n",
       "      <td>...</td>\n",
       "    </tr>\n",
       "    <tr>\n",
       "      <td>3199</td>\n",
       "      <td>1496</td>\n",
       "      <td>лето</td>\n",
       "      <td>8</td>\n",
       "      <td>62.0</td>\n",
       "      <td>527.0</td>\n",
       "      <td>41.0</td>\n",
       "      <td>23.0</td>\n",
       "      <td>smart</td>\n",
       "      <td>Вологда</td>\n",
       "      <td>550</td>\n",
       "      <td>27.0</td>\n",
       "      <td>0</td>\n",
       "      <td>8.0</td>\n",
       "      <td>1681</td>\n",
       "      <td>2231</td>\n",
       "    </tr>\n",
       "    <tr>\n",
       "      <td>3200</td>\n",
       "      <td>1496</td>\n",
       "      <td>осень</td>\n",
       "      <td>9</td>\n",
       "      <td>58.0</td>\n",
       "      <td>486.0</td>\n",
       "      <td>29.0</td>\n",
       "      <td>27.0</td>\n",
       "      <td>smart</td>\n",
       "      <td>Вологда</td>\n",
       "      <td>550</td>\n",
       "      <td>0.0</td>\n",
       "      <td>0</td>\n",
       "      <td>12.0</td>\n",
       "      <td>2400</td>\n",
       "      <td>2950</td>\n",
       "    </tr>\n",
       "    <tr>\n",
       "      <td>3201</td>\n",
       "      <td>1496</td>\n",
       "      <td>осень</td>\n",
       "      <td>10</td>\n",
       "      <td>56.0</td>\n",
       "      <td>450.0</td>\n",
       "      <td>35.0</td>\n",
       "      <td>28.0</td>\n",
       "      <td>smart</td>\n",
       "      <td>Вологда</td>\n",
       "      <td>550</td>\n",
       "      <td>0.0</td>\n",
       "      <td>0</td>\n",
       "      <td>13.0</td>\n",
       "      <td>2600</td>\n",
       "      <td>3150</td>\n",
       "    </tr>\n",
       "    <tr>\n",
       "      <td>3202</td>\n",
       "      <td>1496</td>\n",
       "      <td>осень</td>\n",
       "      <td>11</td>\n",
       "      <td>66.0</td>\n",
       "      <td>662.0</td>\n",
       "      <td>46.0</td>\n",
       "      <td>25.0</td>\n",
       "      <td>smart</td>\n",
       "      <td>Вологда</td>\n",
       "      <td>550</td>\n",
       "      <td>162.0</td>\n",
       "      <td>0</td>\n",
       "      <td>10.0</td>\n",
       "      <td>2486</td>\n",
       "      <td>3036</td>\n",
       "    </tr>\n",
       "    <tr>\n",
       "      <td>3207</td>\n",
       "      <td>1498</td>\n",
       "      <td>лето</td>\n",
       "      <td>8</td>\n",
       "      <td>43.0</td>\n",
       "      <td>400.0</td>\n",
       "      <td>62.0</td>\n",
       "      <td>24.0</td>\n",
       "      <td>smart</td>\n",
       "      <td>Владикавказ</td>\n",
       "      <td>550</td>\n",
       "      <td>0.0</td>\n",
       "      <td>12</td>\n",
       "      <td>9.0</td>\n",
       "      <td>1836</td>\n",
       "      <td>2386</td>\n",
       "    </tr>\n",
       "  </tbody>\n",
       "</table>\n",
       "<p>551 rows × 15 columns</p>\n",
       "</div>"
      ],
      "text/plain": [
       "      User_id Время года  Месяц  Кол-во звонков, шт.  Звонки, мин.  СМС, шт.  \\\n",
       "68       1009       лето      7                 20.0         183.0      14.0   \n",
       "69       1009       лето      8                 27.0         249.0       9.0   \n",
       "81       1011       зима     12                 44.0         361.0       6.0   \n",
       "87       1011      осень     11                 52.0         501.0      12.0   \n",
       "90       1012      весна      5                 35.0         316.0      10.0   \n",
       "...       ...        ...    ...                  ...           ...       ...   \n",
       "3199     1496       лето      8                 62.0         527.0      41.0   \n",
       "3200     1496      осень      9                 58.0         486.0      29.0   \n",
       "3201     1496      осень     10                 56.0         450.0      35.0   \n",
       "3202     1496      осень     11                 66.0         662.0      46.0   \n",
       "3207     1498       лето      8                 43.0         400.0      62.0   \n",
       "\n",
       "      Интернет, Гб  Тариф            Город  Абон. плата, руб.  Минуты сверх  \\\n",
       "68            25.0  smart            Пермь                550           0.0   \n",
       "69            24.0  smart            Пермь                550           0.0   \n",
       "81            23.0  smart           Самара                550           0.0   \n",
       "87            25.0  smart           Самара                550           1.0   \n",
       "90            26.0  smart  Санкт-Петербург                550           0.0   \n",
       "...            ...    ...              ...                ...           ...   \n",
       "3199          23.0  smart          Вологда                550          27.0   \n",
       "3200          27.0  smart          Вологда                550           0.0   \n",
       "3201          28.0  smart          Вологда                550           0.0   \n",
       "3202          25.0  smart          Вологда                550         162.0   \n",
       "3207          24.0  smart      Владикавказ                550           0.0   \n",
       "\n",
       "      СМС сверх  Гб сверх  Плата сверх лимита, руб.  Сумма за месяц, руб.  \n",
       "68            0      10.0                      2000                  2550  \n",
       "69            0       9.0                      1800                  2350  \n",
       "81            0       8.0                      1600                  2150  \n",
       "87            0      10.0                      2003                  2553  \n",
       "90            0      11.0                      2200                  2750  \n",
       "...         ...       ...                       ...                   ...  \n",
       "3199          0       8.0                      1681                  2231  \n",
       "3200          0      12.0                      2400                  2950  \n",
       "3201          0      13.0                      2600                  3150  \n",
       "3202          0      10.0                      2486                  3036  \n",
       "3207         12       9.0                      1836                  2386  \n",
       "\n",
       "[551 rows x 15 columns]"
      ]
     },
     "execution_count": 54,
     "metadata": {},
     "output_type": "execute_result"
    }
   ],
   "source": [
    "df_numbers[df_numbers['Сумма за месяц, руб.'] > 1950]"
   ]
  },
  {
   "cell_type": "code",
   "execution_count": 55,
   "metadata": {},
   "outputs": [
    {
     "data": {
      "text/plain": [
       "<matplotlib.axes._subplots.AxesSubplot at 0x7fae33b0c350>"
      ]
     },
     "execution_count": 55,
     "metadata": {},
     "output_type": "execute_result"
    },
    {
     "data": {
      "image/png": "[encoded data removed]",
      "text/plain": [
       "<Figure size 432x288 with 1 Axes>"
      ]
     },
     "metadata": {
      "needs_background": "light"
     },
     "output_type": "display_data"
    }
   ],
   "source": [
    "title = 'Гистограмма переплат, тариф \"Смарт\"'\n",
    "df_pay = df_numbers[(df_numbers['Тариф'] == 'smart') & (df_numbers['Плата сверх лимита, руб.'] > 0)]\\\n",
    "['Плата сверх лимита, руб.']\n",
    "df_pay.plot(kind='hist', title=title, ec='black', bins=50)"
   ]
  },
  {
   "cell_type": "markdown",
   "metadata": {},
   "source": [
    "Большинство переплачивает до 1200 рублей. Это довольно много, учитывая, что размер абонентский платы - 550 рублей.\n",
    "Посмотрим ближе:"
   ]
  },
  {
   "cell_type": "code",
   "execution_count": 56,
   "metadata": {},
   "outputs": [
    {
     "data": {
      "text/plain": [
       "<matplotlib.axes._subplots.AxesSubplot at 0x7fae337de8d0>"
      ]
     },
     "execution_count": 56,
     "metadata": {},
     "output_type": "execute_result"
    },
    {
     "data": {
      "image/png": "[encoded data removed]",
      "text/plain": [
       "<Figure size 432x288 with 1 Axes>"
      ]
     },
     "metadata": {
      "needs_background": "light"
     },
     "output_type": "display_data"
    }
   ],
   "source": [
    "title = 'Гистограмма переплат, тариф \"Смарт\"'\n",
    "df_pay_1200 = df_numbers[(df_numbers['Тариф'] == 'smart')& (df_numbers['Плата сверх лимита, руб.'] > 0) & (df_numbers['Плата сверх лимита, руб.'] < 1000)]['Плата сверх лимита, руб.']\n",
    "df_pay_1200.plot(kind='hist', title=title, ec='black', bins=50)"
   ]
  },
  {
   "cell_type": "markdown",
   "metadata": {},
   "source": [
    "### Как видно переплаты кратны 200 руб. Похоже переплаты больше связаны с интернетом (1Гб интернета = 200 рублей)"
   ]
  },
  {
   "cell_type": "code",
   "execution_count": 57,
   "metadata": {},
   "outputs": [
    {
     "data": {
      "text/plain": [
       "<matplotlib.axes._subplots.AxesSubplot at 0x7fae33711450>"
      ]
     },
     "execution_count": 57,
     "metadata": {},
     "output_type": "execute_result"
    },
    {
     "data": {
      "image/png": "[encoded data removed]",
      "text/plain": [
       "<Figure size 432x288 with 1 Axes>"
      ]
     },
     "metadata": {
      "needs_background": "light"
     },
     "output_type": "display_data"
    }
   ],
   "source": [
    "title = 'Гистограмма переплат, тариф \"Ультра\"'\n",
    "df_pay = df_numbers[(df_numbers['Тариф'] == 'ultra') & (df_numbers['Плата сверх лимита, руб.'] > 0)]['Плата сверх лимита, руб.']\n",
    "df_pay.plot(kind='hist', title=title, ec='black', bins=50)"
   ]
  },
  {
   "cell_type": "code",
   "execution_count": 58,
   "metadata": {},
   "outputs": [
    {
     "data": {
      "text/plain": [
       "<matplotlib.axes._subplots.AxesSubplot at 0x7fae33711690>"
      ]
     },
     "execution_count": 58,
     "metadata": {},
     "output_type": "execute_result"
    },
    {
     "data": {
      "image/png": "[encoded data removed]",
      "text/plain": [
       "<Figure size 432x288 with 1 Axes>"
      ]
     },
     "metadata": {
      "needs_background": "light"
     },
     "output_type": "display_data"
    }
   ],
   "source": [
    "title = 'Гистограмма переплат, тариф \"Ультра\"'\n",
    "df_pay_1500 = df_numbers[(df_numbers['Тариф'] == 'ultra') & \n",
    "                                  (df_numbers['Плата сверх лимита, руб.'] > 0) &\n",
    "                                  (df_numbers['Плата сверх лимита, руб.'] < 1500)]['Плата сверх лимита, руб.']\n",
    "df_pay_1500.plot(kind='hist', title=title, ec='black', bins=50)"
   ]
  },
  {
   "cell_type": "markdown",
   "metadata": {},
   "source": [
    "### Как же переплаты связаны с интернетом (1Гб интернета = 150 рублей)"
   ]
  },
  {
   "cell_type": "code",
   "execution_count": 59,
   "metadata": {},
   "outputs": [
    {
     "data": {
      "text/html": [
       "<div>\n",
       "<style scoped>\n",
       "    .dataframe tbody tr th:only-of-type {\n",
       "        vertical-align: middle;\n",
       "    }\n",
       "\n",
       "    .dataframe tbody tr th {\n",
       "        vertical-align: top;\n",
       "    }\n",
       "\n",
       "    .dataframe thead th {\n",
       "        text-align: right;\n",
       "    }\n",
       "</style>\n",
       "<table border=\"1\" class=\"dataframe\">\n",
       "  <thead>\n",
       "    <tr style=\"text-align: right;\">\n",
       "      <th></th>\n",
       "      <th>Минуты сверх</th>\n",
       "      <th>СМС сверх</th>\n",
       "      <th>Гб сверх</th>\n",
       "    </tr>\n",
       "    <tr>\n",
       "      <th>Тариф</th>\n",
       "      <th></th>\n",
       "      <th></th>\n",
       "      <th></th>\n",
       "    </tr>\n",
       "  </thead>\n",
       "  <tbody>\n",
       "    <tr>\n",
       "      <td>smart</td>\n",
       "      <td>92739.0</td>\n",
       "      <td>12928</td>\n",
       "      <td>6662.0</td>\n",
       "    </tr>\n",
       "    <tr>\n",
       "      <td>ultra</td>\n",
       "      <td>0.0</td>\n",
       "      <td>0</td>\n",
       "      <td>789.0</td>\n",
       "    </tr>\n",
       "  </tbody>\n",
       "</table>\n",
       "</div>"
      ],
      "text/plain": [
       "       Минуты сверх  СМС сверх  Гб сверх\n",
       "Тариф                                   \n",
       "smart       92739.0      12928    6662.0\n",
       "ultra           0.0          0     789.0"
      ]
     },
     "execution_count": 59,
     "metadata": {},
     "output_type": "execute_result"
    }
   ],
   "source": [
    "df_numbers.groupby('Тариф').sum()[['Минуты сверх', 'СМС сверх', 'Гб сверх']]"
   ]
  },
  {
   "cell_type": "markdown",
   "metadata": {},
   "source": [
    "Пользователи Смарта дозаказывают не только интернет-трафик, но и минуты и СМС. Так как тарифный план Смарт более бюджетный."
   ]
  },
  {
   "cell_type": "code",
   "execution_count": 60,
   "metadata": {},
   "outputs": [
    {
     "data": {
      "text/plain": [
       "<matplotlib.legend.Legend at 0x7fae33b0cdd0>"
      ]
     },
     "execution_count": 60,
     "metadata": {},
     "output_type": "execute_result"
    },
    {
     "data": {
      "image/png": "[encoded data removed]",
      "text/plain": [
       "<Figure size 1440x360 with 1 Axes>"
      ]
     },
     "metadata": {},
     "output_type": "display_data"
    }
   ],
   "source": [
    "all_revenue = df_numbers['Сумма за месяц, руб.'].sum()\n",
    "\n",
    "def func_pct(pct):\n",
    "    value = float(pct/100.*all_revenue)\n",
    "    return \"{:.2f}%\\n({:,.0f} руб.)\".format(pct, value)\n",
    "\n",
    "axes = df_numbers.groupby('Тариф')['Сумма за месяц, руб.'].sum().plot(kind='pie', subplots=True,\n",
    "                                                                      fontsize=15, title = 'Выручка',\n",
    "                                                                      figsize=(20,5), autopct=lambda\n",
    "                                                                      pct: func_pct(pct))\n",
    "\n",
    "ax.legend(['Смарт', 'Ультра'], prop={'size':12})"
   ]
  },
  {
   "cell_type": "markdown",
   "metadata": {},
   "source": [
    "### Выручки приносит больше тарифный план Смарт (больше клиентов, больше и выручка). Хотя клиентов Смарта 70%, а выручка по плану Смарт только 58%."
   ]
  },
  {
   "cell_type": "markdown",
   "metadata": {},
   "source": [
    "## 3. Описание поведения клиента на основе полученной выборки"
   ]
  },
  {
   "cell_type": "markdown",
   "metadata": {},
   "source": [
    "Опишем поведение клиентов оператора, исходя из выборки. Сколько минут разговора, сколько сообщений и какой объём интернет-трафика требуется пользователям каждого тарифа в месяц? Посчитаем среднее количество, дисперсию и стандартное отклонение. Построим гистограммы. Опишем распределения."
   ]
  },
  {
   "cell_type": "markdown",
   "metadata": {},
   "source": [
    "### Получаем информацию о выбросах по каждому из набора данных."
   ]
  },
  {
   "cell_type": "markdown",
   "metadata": {},
   "source": [
    "Сначала построим boxplot'ы по всем рассматриваемым данным (длительность звонка, количество отправленных СМС, объем использованного интернет-трафика).\n",
    "Напишем под это функцию:"
   ]
  },
  {
   "cell_type": "code",
   "execution_count": 61,
   "metadata": {},
   "outputs": [
    {
     "name": "stdout",
     "output_type": "stream",
     "text": [
      "<class 'pandas.core.frame.DataFrame'>\n",
      "RangeIndex: 3214 entries, 0 to 3213\n",
      "Data columns (total 15 columns):\n",
      "User_id                     3214 non-null int64\n",
      "Время года                  3214 non-null object\n",
      "Месяц                       3214 non-null int64\n",
      "Кол-во звонков, шт.         3214 non-null float64\n",
      "Звонки, мин.                3214 non-null float64\n",
      "СМС, шт.                    3214 non-null float64\n",
      "Интернет, Гб                3214 non-null float64\n",
      "Тариф                       3214 non-null object\n",
      "Город                       3214 non-null object\n",
      "Абон. плата, руб.           3214 non-null int64\n",
      "Минуты сверх                3214 non-null float64\n",
      "СМС сверх                   3214 non-null int64\n",
      "Гб сверх                    3214 non-null float64\n",
      "Плата сверх лимита, руб.    3214 non-null int64\n",
      "Сумма за месяц, руб.        3214 non-null int64\n",
      "dtypes: float64(6), int64(6), object(3)\n",
      "memory usage: 376.8+ KB\n"
     ]
    }
   ],
   "source": [
    "df_numbers.info()"
   ]
  },
  {
   "cell_type": "code",
   "execution_count": 62,
   "metadata": {},
   "outputs": [
    {
     "name": "stderr",
     "output_type": "stream",
     "text": [
      "/opt/conda/lib/python3.7/site-packages/numpy/core/_asarray.py:83: VisibleDeprecationWarning: Creating an ndarray from ragged nested sequences (which is a list-or-tuple of lists-or-tuples-or ndarrays with different lengths or shapes) is deprecated. If you meant to do this, you must specify 'dtype=object' when creating the ndarray\n",
      "  return array(a, dtype, copy=False, order=order)\n",
      "/opt/conda/lib/python3.7/site-packages/numpy/core/_asarray.py:83: VisibleDeprecationWarning: Creating an ndarray from ragged nested sequences (which is a list-or-tuple of lists-or-tuples-or ndarrays with different lengths or shapes) is deprecated. If you meant to do this, you must specify 'dtype=object' when creating the ndarray\n",
      "  return array(a, dtype, copy=False, order=order)\n",
      "/opt/conda/lib/python3.7/site-packages/numpy/core/_asarray.py:83: VisibleDeprecationWarning: Creating an ndarray from ragged nested sequences (which is a list-or-tuple of lists-or-tuples-or ndarrays with different lengths or shapes) is deprecated. If you meant to do this, you must specify 'dtype=object' when creating the ndarray\n",
      "  return array(a, dtype, copy=False, order=order)\n"
     ]
    },
    {
     "data": {
      "image/png": "[encoded data removed]",
      "text/plain": [
       "<Figure size 3600x1800 with 3 Axes>"
      ]
     },
     "metadata": {
      "needs_background": "light"
     },
     "output_type": "display_data"
    }
   ],
   "source": [
    "rows = 1\n",
    "cols = 3\n",
    "fig, axes = plt.subplots(rows, cols, figsize=(50,25))\n",
    "column_list = ['Звонки, мин.', 'СМС, шт.', 'Интернет, Гб']\n",
    "ylims = [1500, 200, 50]\n",
    "count = 0\n",
    "for r in range(rows):\n",
    "    for c in range(cols):\n",
    "        ax = df_numbers.boxplot(column=column_list[count], by='Тариф', fontsize=50, ax=axes[c])\n",
    "        ax.title.set_size(50)\n",
    "        ax.set_ylim([0, ylims[count]])\n",
    "        count += 1            "
   ]
  },
  {
   "cell_type": "code",
   "execution_count": 63,
   "metadata": {},
   "outputs": [],
   "source": [
    "calls_smart_min = 0\n",
    "calls_smart_max = 930\n",
    "calls_ultra_min = 0\n",
    "calls_ultra_max = 1410\n",
    "\n",
    "sms_smart_min = 0\n",
    "sms_smart_max = 110\n",
    "sms_ultra_min = 0\n",
    "sms_ultra_max = 185\n",
    "\n",
    "internet_smart_min = 3\n",
    "internet_smart_max = 32\n",
    "internet_ultra_min = 0\n",
    "internet_ultra_max = 48"
   ]
  },
  {
   "cell_type": "code",
   "execution_count": 64,
   "metadata": {},
   "outputs": [],
   "source": [
    "def plot_hist_comparison(data):\n",
    "    \n",
    "    ax = plt.gca()\n",
    "    func_dict = {'Звонки': 'Звонки, мин.', 'СМС': 'СМС, шт.', 'Интернет': 'Интернет, Гб'}\n",
    "    xlims = [(calls_smart_min, calls_smart_max), (calls_ultra_min, calls_ultra_max),\n",
    "             (sms_smart_min, sms_smart_max), (sms_ultra_min, sms_ultra_max),\n",
    "             (internet_smart_min, internet_smart_max), (internet_ultra_min, internet_ultra_max)]\n",
    "    \n",
    "    filt_column = func_dict[data]\n",
    "\n",
    "    # оформление в зависимости от рассматриваемых данных\n",
    "    if data == 'Звонки':\n",
    "        title = 'Гистограмма длительности звонков, мин.'\n",
    "        xlim1 = xlims[0]\n",
    "        xlim2 = xlims[1]\n",
    "        text_x = (58, 8)\n",
    "        text_y = 112\n",
    "\n",
    "    elif data == 'СМС':\n",
    "        title = 'Гистограмма количества отправленных СМС, шт.'\n",
    "        xlim1 = xlims[2]\n",
    "        xlim2 = xlims[3]\n",
    "        text_x = (5.5, 1)\n",
    "        text_y = 350\n",
    "\n",
    "    else :\n",
    "        title = 'Гистограмма количества использованного интернет-трафика, Гб'\n",
    "        xlim1 = xlims[4]\n",
    "        xlim2 = xlims[5]\n",
    "        text_x = (2.0, 0.8)\n",
    "        text_y = 140\n",
    "    \n",
    "    # получаем отфильтрованные от выбросов датафреймы\n",
    "    filter_smart_data = df_numbers[(df_numbers['Тариф'] == 'smart') &\n",
    "                                   (df_numbers[filt_column] >= xlim1[0]) &\n",
    "                                   (df_numbers[filt_column] <= xlim1[1])][filt_column]\n",
    "    filter_ultra_data = df_numbers[(df_numbers['Тариф'] == 'ultra') &\n",
    "                                   (df_numbers[filt_column] >= xlim2[0]) &\n",
    "                                   (df_numbers[filt_column] <= xlim2[1])][filt_column]\n",
    "    # рисуем\n",
    "    filter_smart_data.plot(kind='hist', bins=40, figsize=(12,6), ec='black', ax=ax, color='#4871d1',\n",
    "                           title=title, xlim=xlim1)\n",
    "    filter_ultra_data.plot(kind='hist', bins=70, figsize=(12,6), ec='black', ax=ax, color='#48D1CC',\n",
    "                           title=title, xlim=xlim2)\n",
    "    \n",
    "    # расчетные данные\n",
    "    mean_smart = filter_smart_data.mean()\n",
    "    mean_ultra = filter_ultra_data.mean()\n",
    "    # Дисперсия\n",
    "    disp_smart = filter_smart_data.var() \n",
    "    disp_ultra = filter_ultra_data.var()\n",
    "    # Стандартное отклонение\n",
    "    std_smart = filter_smart_data.std() \n",
    "    std_ultra = filter_ultra_data.std()\n",
    "    \n",
    "    if data == 'СМС':\n",
    "        smart_data = 'Сред.зн. - {:.2f}\\nДисперсия - {:.2f}\\nСтанд.откл. - {:.2f}'\\\n",
    "        .format(mean_smart, disp_smart, std_smart)\n",
    "        ultra_data = 'Сред.зн. - {:.2f}\\nДисперсия - {:.2f}\\nСтанд.откл. - {:.2f}'\\\n",
    "        .format(mean_ultra, disp_ultra, std_ultra)\n",
    "    else:\n",
    "        smart_data = 'Сред.зн. - {:.2f}\\nДисперсия - {:.2f}\\nСтанд.откл. - {:.2f}'\\\n",
    "        .format(mean_smart, disp_smart, std_smart)\n",
    "        ultra_data = 'Сред.зн. - {:.2f}\\nДисперсия - {:.2f}\\nСтанд.откл. - {:.2f}'\\\n",
    "        .format(mean_ultra, disp_ultra, std_ultra)\n",
    "    \n",
    "    legend_second = plt.legend([smart_data, ultra_data], prop={'size':12}, \n",
    "                                framealpha=0, bbox_to_anchor=(1.0,0.32), loc=4)\n",
    "    \n",
    "    \n",
    "    plt.gca().add_artist(legend_second)\n",
    "    \n",
    "    # рисуем медианы\n",
    "    plt.axvline(x=filter_smart_data.median(),linewidth=5, color='#111bab', linestyle='--')\n",
    "    ax.text(filter_smart_data.median()-text_x[0], text_y, '{0:.0f}'\n",
    "            .format(filter_smart_data.median()), fontweight='bold', fontsize='large')\n",
    "    plt.axvline(x=filter_ultra_data.median(),linewidth=5, color='#68e36c', linestyle='--')\n",
    "    ax.text(filter_ultra_data.median()+text_x[1], text_y, '{0:.0f}'\n",
    "            .format(filter_ultra_data.median()), fontweight='bold', fontsize='large')\n",
    "    \n",
    "    plt.legend(['Медиана Смарт', 'Медиана Ультра', 'Смарт', 'Ультра'], prop={'size':15})"
   ]
  },
  {
   "cell_type": "code",
   "execution_count": 65,
   "metadata": {},
   "outputs": [
    {
     "data": {
      "image/png": "[encoded data removed]",
      "text/plain": [
       "<Figure size 864x432 with 1 Axes>"
      ]
     },
     "metadata": {
      "needs_background": "light"
     },
     "output_type": "display_data"
    }
   ],
   "source": [
    "plot_hist_comparison('Звонки')"
   ]
  },
  {
   "cell_type": "markdown",
   "metadata": {},
   "source": [
    "### В тарифном плане Смарт клиенты в основном разговаривают в течении 250-580 минут. При этом медиана равна 421 минуту (при этом в абонентскую плату включено 500 минут). Клиенты стараются придерживаться объема тарифного плана, хотя порой и выходят за рамки.\n",
    "### С тарифом Ультра ситуация другая, медиана - 518 минут (при этом в абонентскую плату включено 3000 минут). Большая часть не выговаривает включенные минуты разговора.\n",
    "### В целом по двум тарифам по продолжительности разговоров клиенты примерно разговаривают одинаково, люди разговаривают сколько им сугубо нужно. Не кто не стремится в тарифном плане Ультра выговорить все заложенные минуты разговора. "
   ]
  },
  {
   "cell_type": "code",
   "execution_count": 66,
   "metadata": {},
   "outputs": [
    {
     "data": {
      "image/png": "[encoded data removed]",
      "text/plain": [
       "<Figure size 864x432 with 1 Axes>"
      ]
     },
     "metadata": {
      "needs_background": "light"
     },
     "output_type": "display_data"
    }
   ],
   "source": [
    "plot_hist_comparison('СМС')"
   ]
  },
  {
   "cell_type": "markdown",
   "metadata": {},
   "source": [
    "### По обоим тарифам ситуация схожая - большая часть клиентов не отправляет СМС сообщения вообще. Однако, из тех, кто отправляет, большую активность проявляют пользователи тарифа Смарт (значение медианы равно 28 СМС в месяц). Пользователи тарифа Ультра отправляют в среднем до 50 СМС."
   ]
  },
  {
   "cell_type": "code",
   "execution_count": 67,
   "metadata": {},
   "outputs": [
    {
     "data": {
      "image/png": "[encoded data removed]",
      "text/plain": [
       "<Figure size 864x432 with 1 Axes>"
      ]
     },
     "metadata": {
      "needs_background": "light"
     },
     "output_type": "display_data"
    }
   ],
   "source": [
    "plot_hist_comparison('Интернет')"
   ]
  },
  {
   "cell_type": "markdown",
   "metadata": {},
   "source": [
    "### Клиенты тарифного плана Смарт в среднем пользуются интернет-трафиком от 14 до 22 Гб (при этом медиана 17Гб). Донным пользователям не хватает заложенного в абоненнской плате интернет-трафика в объеме 15Гб. \n",
    "### По тарифному плану Ультра ситуация противоположная. Медиана равна 19Гб, у клиентов есть ощутимый запас по количеству используемого трафика."
   ]
  },
  {
   "cell_type": "markdown",
   "metadata": {},
   "source": [
    "## 4. Проверка гипотез"
   ]
  },
  {
   "cell_type": "markdown",
   "metadata": {},
   "source": [
    "### 4.1 Первая гипотеза о равенстве средних двух совокупностей (среднии выручки клиентов тарифов Смарт и Ультра различаются) "
   ]
  },
  {
   "cell_type": "markdown",
   "metadata": {},
   "source": [
    "- H0 (нулевая гипотеза) - предположение о том, что между данными у нас нет связи. В данном случае, что средняя выручка пользователей тарифа <font fontweight='bold'>Смарт</font> не отличается от средней выручки пользователей тарифа <font fontweight='bold'>Ультра</font>.\n",
    "- H1 (альтернативная гипотеза) - средняя выручка пользователей тарифа Смарт отличается от средней выручки пользователей тарифа Ультра."
   ]
  },
  {
   "cell_type": "code",
   "execution_count": 68,
   "metadata": {},
   "outputs": [
    {
     "name": "stderr",
     "output_type": "stream",
     "text": [
      "/opt/conda/lib/python3.7/site-packages/numpy/core/_asarray.py:83: VisibleDeprecationWarning: Creating an ndarray from ragged nested sequences (which is a list-or-tuple of lists-or-tuples-or ndarrays with different lengths or shapes) is deprecated. If you meant to do this, you must specify 'dtype=object' when creating the ndarray\n",
      "  return array(a, dtype, copy=False, order=order)\n"
     ]
    },
    {
     "data": {
      "text/plain": [
       "Text(0.5, 0.98, 'Гистограмма по выручке за месяц')"
      ]
     },
     "execution_count": 68,
     "metadata": {},
     "output_type": "execute_result"
    },
    {
     "data": {
      "image/png": "[encoded data removed]",
      "text/plain": [
       "<Figure size 576x504 with 1 Axes>"
      ]
     },
     "metadata": {
      "needs_background": "light"
     },
     "output_type": "display_data"
    }
   ],
   "source": [
    "ax = df_numbers.boxplot(column='Сумма за месяц, руб.', by='Тариф', fontsize=12, figsize=(8,7))\n",
    "ax.set_title('')\n",
    "ax.title.set_size(40)\n",
    "plt.suptitle('Гистограмма по выручке за месяц', fontsize=16, fontweight='bold')"
   ]
  },
  {
   "cell_type": "markdown",
   "metadata": {},
   "source": [
    "### Определим границы интервалов"
   ]
  },
  {
   "cell_type": "markdown",
   "metadata": {},
   "source": [
    "### Не используем данные определенные границы выбросов в ручную\n",
    "- Границы интервала для столбца \"Сумма за месяц, руб.\" тарифа \"Смарт\": 0 - 3500\n",
    "- Границы интервала для столбца \"Сумма за месяц, руб.\" тарифа \"Ультра\": 1950"
   ]
  },
  {
   "cell_type": "code",
   "execution_count": 69,
   "metadata": {},
   "outputs": [],
   "source": [
    "def get_iqr (column, data_filter):\n",
    "    \n",
    "    if data_filter == 'Тариф':\n",
    "        format_name = column\n",
    "        data1, data2 = 'smart', 'ultra'\n",
    "        format_end1 = 'тарифа \"Смарт\"'\n",
    "        format_end2 = 'тарифа \"Ультра\"'\n",
    "    elif data_filter == 'moscow':\n",
    "        format_name = 'moscow'\n",
    "        data1, data2 = 0, 1\n",
    "        format_end1 = 'для регионов'\n",
    "        format_end2 = 'для Москвы'\n",
    "    \n",
    "    quant1_1 = df_numbers[df_numbers[data_filter] == data1][column].quantile(0.25)\n",
    "    quant3_1 = df_numbers[df_numbers[data_filter] == data1][column].quantile(0.75)\n",
    "    iqr_1 = quant3_1 - quant1_1\n",
    "    \n",
    "    if data_filter == 'moscow':\n",
    "        min_iqr_1 = np.where( (quant1_1 - 1.5 * iqr_1) > 550, quant1_1 - 1.5 * iqr_1, 550)\n",
    "    else:\n",
    "        min_iqr_1 = np.where( (quant1_1 - 1.5 * iqr_1) > 0, quant1_1 - 1.5 * iqr_1, 0)\n",
    "    \n",
    "    max_iqr_1 = np.where( (quant3_1 + 1.5 * iqr_1) > 0, quant3_1 + 1.5 * iqr_1, 0)\n",
    "    \n",
    "    quant1_2 = df_numbers[df_numbers[data_filter] == data2][column].quantile(0.25)\n",
    "    quant3_2 = df_numbers[df_numbers[data_filter] == data2][column].quantile(0.75)\n",
    "    iqr_2 = quant3_2 - quant1_2\n",
    "    \n",
    "    if data_filter == 'moscow':\n",
    "        min_iqr_2 = np.where( (quant1_2 - 1.5 * iqr_2) > 550, quant1_2 - 1.5 * iqr_2, 550)\n",
    "    else:\n",
    "        min_iqr_2 = np.where( (quant1_2 - 1.5 * iqr_2) > 0, quant1_2 - 1.5 * iqr_2, 0)\n",
    "    \n",
    "    max_iqr_2 = np.where( (quant3_2 + 1.5 * iqr_2) > 0, quant3_2 + 1.5 * iqr_2, 0)\n",
    "       \n",
    "    print('Границы интервала для столбца \"{}\" {}: {} - {}'.format(column, \n",
    "                                                                  format_end1, min_iqr_1, max_iqr_1))\n",
    "    print('Границы интервала для столбца \"{}\" {}: {} - {}'.format(column,\n",
    "                                                                  format_end2, min_iqr_2, max_iqr_2))\n",
    "    \n",
    "    return (min_iqr_1, max_iqr_1), (min_iqr_2, max_iqr_2)"
   ]
  },
  {
   "cell_type": "code",
   "execution_count": 70,
   "metadata": {},
   "outputs": [
    {
     "name": "stdout",
     "output_type": "stream",
     "text": [
      "Границы интервала для столбца \"Сумма за месяц, руб.\" тарифа \"Смарт\": 0.0 - 3550.0\n",
      "Границы интервала для столбца \"Сумма за месяц, руб.\" тарифа \"Ультра\": 1950.0 - 1950.0\n"
     ]
    }
   ],
   "source": [
    "smart_get_iqr, ultra_get_iqr = get_iqr('Сумма за месяц, руб.', 'Тариф')"
   ]
  },
  {
   "cell_type": "code",
   "execution_count": 71,
   "metadata": {},
   "outputs": [],
   "source": [
    "smart_mean_doxod = df_numbers[(df_numbers['Тариф'] == 'smart') &\n",
    "                              (df_numbers['Сумма за месяц, руб.'] >= smart_get_iqr[0]) &\n",
    "                              (df_numbers['Сумма за месяц, руб.']\n",
    "                               <= smart_get_iqr[1])]['Сумма за месяц, руб.']\n",
    "\n",
    "ultra_mean_doxod = df_numbers[(df_numbers['Тариф'] == 'ultra') &\n",
    "                              (df_numbers['Сумма за месяц, руб.'] >= ultra_get_iqr[0]) &\n",
    "                              (df_numbers['Сумма за месяц, руб.']\n",
    "                               <= ultra_get_iqr[1])]['Сумма за месяц, руб.']"
   ]
  },
  {
   "cell_type": "markdown",
   "metadata": {},
   "source": [
    "### Выберал нужные нам данные вручную на базе гистограммы. Я так понемаю с обсуждения Slack-e выбросы (границы интервалов) нужно считать для каждого столбца через q1 - 1.5iqr и q3 + 1.5iqr. А не как я, примерно мерно их нашел. Откорректировал интервал от выбросов. Выше переделал, через функцию. "
   ]
  },
  {
   "cell_type": "markdown",
   "metadata": {},
   "source": [
    "Расчет p-значения:"
   ]
  },
  {
   "cell_type": "code",
   "execution_count": 72,
   "metadata": {},
   "outputs": [
    {
     "name": "stdout",
     "output_type": "stream",
     "text": [
      "p-значение: 6.199325734910118e-155\n"
     ]
    }
   ],
   "source": [
    "results = st.ttest_ind(smart_mean_doxod, ultra_mean_doxod)\n",
    "print('p-значение:', results.pvalue)\n",
    "#Пороговое значение alpha = 0.05'"
   ]
  },
  {
   "cell_type": "code",
   "execution_count": 73,
   "metadata": {},
   "outputs": [
    {
     "name": "stdout",
     "output_type": "stream",
     "text": [
      "Пороговое значение alpha = 0.05\n"
     ]
    }
   ],
   "source": [
    "alpha = 0.05\n",
    "print('Пороговое значение alpha = 0.05')"
   ]
  },
  {
   "cell_type": "code",
   "execution_count": 74,
   "metadata": {},
   "outputs": [
    {
     "name": "stdout",
     "output_type": "stream",
     "text": [
      "Отвергаем нулевую гипотезу\n"
     ]
    }
   ],
   "source": [
    "if results.pvalue < alpha:\n",
    "    print(\"Отвергаем нулевую гипотезу\")\n",
    "else:\n",
    "    print(\"Не получилось отвергнуть нулевую гипотезу\")"
   ]
  },
  {
   "cell_type": "markdown",
   "metadata": {},
   "source": [
    "### Верно утверждение, что средняя выручка пользователей тарифов Смарт и Ультра различаются. Посчитаем среднюю выручку по тарифам."
   ]
  },
  {
   "cell_type": "code",
   "execution_count": 75,
   "metadata": {},
   "outputs": [
    {
     "name": "stdout",
     "output_type": "stream",
     "text": [
      "Средняя выручка по пользователям тарифа \"Смарт\" - 1246.16\n",
      "Средняя выручка по пользователям тарифа \"Ультра\" - 1950.00\n"
     ]
    }
   ],
   "source": [
    "print('Средняя выручка по пользователям тарифа \"Смарт\" - {:.2f}'.format(smart_mean_doxod.mean()))\n",
    "print('Средняя выручка по пользователям тарифа \"Ультра\" - {:.2f}'.format(ultra_mean_doxod.mean()))"
   ]
  },
  {
   "cell_type": "markdown",
   "metadata": {},
   "source": [
    "### Все верно тарифный план Ультра в среднем приносит больше выручки чем Смарт, это связано с тем, что изначально абонентская плата выше почти в четыре раза. Хотя клиенты Смарта оплачивают часто услуги сверх тарифного плана."
   ]
  },
  {
   "cell_type": "markdown",
   "metadata": {},
   "source": [
    "### 4.2 Вторая гипотеза о равенстве средних двух совокупностей (среднии выручки клиентов Москвы  и остальных регионов)"
   ]
  },
  {
   "cell_type": "markdown",
   "metadata": {},
   "source": [
    "Установим признак по каждой из строк: мегаполис (Москва и Санкт-Петербург) или регионы. "
   ]
  },
  {
   "cell_type": "code",
   "execution_count": 76,
   "metadata": {},
   "outputs": [],
   "source": [
    "df_numbers['moscow'] =  np.where((df_numbers['Город'] == 'Москва'), 1, 0)"
   ]
  },
  {
   "cell_type": "code",
   "execution_count": 77,
   "metadata": {},
   "outputs": [
    {
     "data": {
      "text/html": [
       "<div>\n",
       "<style scoped>\n",
       "    .dataframe tbody tr th:only-of-type {\n",
       "        vertical-align: middle;\n",
       "    }\n",
       "\n",
       "    .dataframe tbody tr th {\n",
       "        vertical-align: top;\n",
       "    }\n",
       "\n",
       "    .dataframe thead th {\n",
       "        text-align: right;\n",
       "    }\n",
       "</style>\n",
       "<table border=\"1\" class=\"dataframe\">\n",
       "  <thead>\n",
       "    <tr style=\"text-align: right;\">\n",
       "      <th></th>\n",
       "      <th>User_id</th>\n",
       "      <th>Время года</th>\n",
       "      <th>Месяц</th>\n",
       "      <th>Кол-во звонков, шт.</th>\n",
       "      <th>Звонки, мин.</th>\n",
       "      <th>СМС, шт.</th>\n",
       "      <th>Интернет, Гб</th>\n",
       "      <th>Тариф</th>\n",
       "      <th>Город</th>\n",
       "      <th>Абон. плата, руб.</th>\n",
       "      <th>Минуты сверх</th>\n",
       "      <th>СМС сверх</th>\n",
       "      <th>Гб сверх</th>\n",
       "      <th>Плата сверх лимита, руб.</th>\n",
       "      <th>Сумма за месяц, руб.</th>\n",
       "      <th>moscow</th>\n",
       "    </tr>\n",
       "  </thead>\n",
       "  <tbody>\n",
       "    <tr>\n",
       "      <td>0</td>\n",
       "      <td>1000</td>\n",
       "      <td>весна</td>\n",
       "      <td>5</td>\n",
       "      <td>17.0</td>\n",
       "      <td>159.0</td>\n",
       "      <td>22.0</td>\n",
       "      <td>3.0</td>\n",
       "      <td>ultra</td>\n",
       "      <td>Краснодар</td>\n",
       "      <td>1950</td>\n",
       "      <td>0.0</td>\n",
       "      <td>0</td>\n",
       "      <td>0.0</td>\n",
       "      <td>0</td>\n",
       "      <td>1950</td>\n",
       "      <td>0</td>\n",
       "    </tr>\n",
       "    <tr>\n",
       "      <td>1</td>\n",
       "      <td>1000</td>\n",
       "      <td>зима</td>\n",
       "      <td>12</td>\n",
       "      <td>38.0</td>\n",
       "      <td>333.0</td>\n",
       "      <td>70.0</td>\n",
       "      <td>10.0</td>\n",
       "      <td>ultra</td>\n",
       "      <td>Краснодар</td>\n",
       "      <td>1950</td>\n",
       "      <td>0.0</td>\n",
       "      <td>0</td>\n",
       "      <td>0.0</td>\n",
       "      <td>0</td>\n",
       "      <td>1950</td>\n",
       "      <td>0</td>\n",
       "    </tr>\n",
       "    <tr>\n",
       "      <td>2</td>\n",
       "      <td>1000</td>\n",
       "      <td>лето</td>\n",
       "      <td>6</td>\n",
       "      <td>28.0</td>\n",
       "      <td>172.0</td>\n",
       "      <td>60.0</td>\n",
       "      <td>23.0</td>\n",
       "      <td>ultra</td>\n",
       "      <td>Краснодар</td>\n",
       "      <td>1950</td>\n",
       "      <td>0.0</td>\n",
       "      <td>0</td>\n",
       "      <td>0.0</td>\n",
       "      <td>0</td>\n",
       "      <td>1950</td>\n",
       "      <td>0</td>\n",
       "    </tr>\n",
       "    <tr>\n",
       "      <td>3</td>\n",
       "      <td>1000</td>\n",
       "      <td>лето</td>\n",
       "      <td>7</td>\n",
       "      <td>41.0</td>\n",
       "      <td>340.0</td>\n",
       "      <td>75.0</td>\n",
       "      <td>14.0</td>\n",
       "      <td>ultra</td>\n",
       "      <td>Краснодар</td>\n",
       "      <td>1950</td>\n",
       "      <td>0.0</td>\n",
       "      <td>0</td>\n",
       "      <td>0.0</td>\n",
       "      <td>0</td>\n",
       "      <td>1950</td>\n",
       "      <td>0</td>\n",
       "    </tr>\n",
       "    <tr>\n",
       "      <td>4</td>\n",
       "      <td>1000</td>\n",
       "      <td>лето</td>\n",
       "      <td>8</td>\n",
       "      <td>42.0</td>\n",
       "      <td>408.0</td>\n",
       "      <td>81.0</td>\n",
       "      <td>14.0</td>\n",
       "      <td>ultra</td>\n",
       "      <td>Краснодар</td>\n",
       "      <td>1950</td>\n",
       "      <td>0.0</td>\n",
       "      <td>0</td>\n",
       "      <td>0.0</td>\n",
       "      <td>0</td>\n",
       "      <td>1950</td>\n",
       "      <td>0</td>\n",
       "    </tr>\n",
       "    <tr>\n",
       "      <td>5</td>\n",
       "      <td>1000</td>\n",
       "      <td>осень</td>\n",
       "      <td>9</td>\n",
       "      <td>46.0</td>\n",
       "      <td>466.0</td>\n",
       "      <td>57.0</td>\n",
       "      <td>15.0</td>\n",
       "      <td>ultra</td>\n",
       "      <td>Краснодар</td>\n",
       "      <td>1950</td>\n",
       "      <td>0.0</td>\n",
       "      <td>0</td>\n",
       "      <td>0.0</td>\n",
       "      <td>0</td>\n",
       "      <td>1950</td>\n",
       "      <td>0</td>\n",
       "    </tr>\n",
       "    <tr>\n",
       "      <td>6</td>\n",
       "      <td>1000</td>\n",
       "      <td>осень</td>\n",
       "      <td>10</td>\n",
       "      <td>44.0</td>\n",
       "      <td>350.0</td>\n",
       "      <td>73.0</td>\n",
       "      <td>15.0</td>\n",
       "      <td>ultra</td>\n",
       "      <td>Краснодар</td>\n",
       "      <td>1950</td>\n",
       "      <td>0.0</td>\n",
       "      <td>0</td>\n",
       "      <td>0.0</td>\n",
       "      <td>0</td>\n",
       "      <td>1950</td>\n",
       "      <td>0</td>\n",
       "    </tr>\n",
       "    <tr>\n",
       "      <td>7</td>\n",
       "      <td>1000</td>\n",
       "      <td>осень</td>\n",
       "      <td>11</td>\n",
       "      <td>37.0</td>\n",
       "      <td>338.0</td>\n",
       "      <td>58.0</td>\n",
       "      <td>15.0</td>\n",
       "      <td>ultra</td>\n",
       "      <td>Краснодар</td>\n",
       "      <td>1950</td>\n",
       "      <td>0.0</td>\n",
       "      <td>0</td>\n",
       "      <td>0.0</td>\n",
       "      <td>0</td>\n",
       "      <td>1950</td>\n",
       "      <td>0</td>\n",
       "    </tr>\n",
       "    <tr>\n",
       "      <td>8</td>\n",
       "      <td>1001</td>\n",
       "      <td>зима</td>\n",
       "      <td>12</td>\n",
       "      <td>47.0</td>\n",
       "      <td>414.0</td>\n",
       "      <td>0.0</td>\n",
       "      <td>14.0</td>\n",
       "      <td>smart</td>\n",
       "      <td>Москва</td>\n",
       "      <td>550</td>\n",
       "      <td>0.0</td>\n",
       "      <td>0</td>\n",
       "      <td>0.0</td>\n",
       "      <td>0</td>\n",
       "      <td>550</td>\n",
       "      <td>1</td>\n",
       "    </tr>\n",
       "    <tr>\n",
       "      <td>9</td>\n",
       "      <td>1001</td>\n",
       "      <td>осень</td>\n",
       "      <td>11</td>\n",
       "      <td>45.0</td>\n",
       "      <td>430.0</td>\n",
       "      <td>0.0</td>\n",
       "      <td>18.0</td>\n",
       "      <td>smart</td>\n",
       "      <td>Москва</td>\n",
       "      <td>550</td>\n",
       "      <td>0.0</td>\n",
       "      <td>0</td>\n",
       "      <td>3.0</td>\n",
       "      <td>600</td>\n",
       "      <td>1150</td>\n",
       "      <td>1</td>\n",
       "    </tr>\n",
       "    <tr>\n",
       "      <td>10</td>\n",
       "      <td>1002</td>\n",
       "      <td>зима</td>\n",
       "      <td>12</td>\n",
       "      <td>27.0</td>\n",
       "      <td>236.0</td>\n",
       "      <td>12.0</td>\n",
       "      <td>18.0</td>\n",
       "      <td>smart</td>\n",
       "      <td>Стерлитамак</td>\n",
       "      <td>550</td>\n",
       "      <td>0.0</td>\n",
       "      <td>0</td>\n",
       "      <td>3.0</td>\n",
       "      <td>600</td>\n",
       "      <td>1150</td>\n",
       "      <td>0</td>\n",
       "    </tr>\n",
       "    <tr>\n",
       "      <td>11</td>\n",
       "      <td>1002</td>\n",
       "      <td>лето</td>\n",
       "      <td>6</td>\n",
       "      <td>14.0</td>\n",
       "      <td>117.0</td>\n",
       "      <td>4.0</td>\n",
       "      <td>11.0</td>\n",
       "      <td>smart</td>\n",
       "      <td>Стерлитамак</td>\n",
       "      <td>550</td>\n",
       "      <td>0.0</td>\n",
       "      <td>0</td>\n",
       "      <td>0.0</td>\n",
       "      <td>0</td>\n",
       "      <td>550</td>\n",
       "      <td>0</td>\n",
       "    </tr>\n",
       "    <tr>\n",
       "      <td>12</td>\n",
       "      <td>1002</td>\n",
       "      <td>лето</td>\n",
       "      <td>7</td>\n",
       "      <td>21.0</td>\n",
       "      <td>214.0</td>\n",
       "      <td>11.0</td>\n",
       "      <td>18.0</td>\n",
       "      <td>smart</td>\n",
       "      <td>Стерлитамак</td>\n",
       "      <td>550</td>\n",
       "      <td>0.0</td>\n",
       "      <td>0</td>\n",
       "      <td>3.0</td>\n",
       "      <td>600</td>\n",
       "      <td>1150</td>\n",
       "      <td>0</td>\n",
       "    </tr>\n",
       "    <tr>\n",
       "      <td>13</td>\n",
       "      <td>1002</td>\n",
       "      <td>лето</td>\n",
       "      <td>8</td>\n",
       "      <td>37.0</td>\n",
       "      <td>289.0</td>\n",
       "      <td>13.0</td>\n",
       "      <td>20.0</td>\n",
       "      <td>smart</td>\n",
       "      <td>Стерлитамак</td>\n",
       "      <td>550</td>\n",
       "      <td>0.0</td>\n",
       "      <td>0</td>\n",
       "      <td>5.0</td>\n",
       "      <td>1000</td>\n",
       "      <td>1550</td>\n",
       "      <td>0</td>\n",
       "    </tr>\n",
       "    <tr>\n",
       "      <td>14</td>\n",
       "      <td>1002</td>\n",
       "      <td>осень</td>\n",
       "      <td>9</td>\n",
       "      <td>25.0</td>\n",
       "      <td>206.0</td>\n",
       "      <td>4.0</td>\n",
       "      <td>17.0</td>\n",
       "      <td>smart</td>\n",
       "      <td>Стерлитамак</td>\n",
       "      <td>550</td>\n",
       "      <td>0.0</td>\n",
       "      <td>0</td>\n",
       "      <td>2.0</td>\n",
       "      <td>400</td>\n",
       "      <td>950</td>\n",
       "      <td>0</td>\n",
       "    </tr>\n",
       "    <tr>\n",
       "      <td>15</td>\n",
       "      <td>1002</td>\n",
       "      <td>осень</td>\n",
       "      <td>10</td>\n",
       "      <td>24.0</td>\n",
       "      <td>212.0</td>\n",
       "      <td>10.0</td>\n",
       "      <td>14.0</td>\n",
       "      <td>smart</td>\n",
       "      <td>Стерлитамак</td>\n",
       "      <td>550</td>\n",
       "      <td>0.0</td>\n",
       "      <td>0</td>\n",
       "      <td>0.0</td>\n",
       "      <td>0</td>\n",
       "      <td>550</td>\n",
       "      <td>0</td>\n",
       "    </tr>\n",
       "    <tr>\n",
       "      <td>16</td>\n",
       "      <td>1002</td>\n",
       "      <td>осень</td>\n",
       "      <td>11</td>\n",
       "      <td>25.0</td>\n",
       "      <td>243.0</td>\n",
       "      <td>16.0</td>\n",
       "      <td>19.0</td>\n",
       "      <td>smart</td>\n",
       "      <td>Стерлитамак</td>\n",
       "      <td>550</td>\n",
       "      <td>0.0</td>\n",
       "      <td>0</td>\n",
       "      <td>4.0</td>\n",
       "      <td>800</td>\n",
       "      <td>1350</td>\n",
       "      <td>0</td>\n",
       "    </tr>\n",
       "    <tr>\n",
       "      <td>17</td>\n",
       "      <td>1003</td>\n",
       "      <td>зима</td>\n",
       "      <td>12</td>\n",
       "      <td>88.0</td>\n",
       "      <td>802.0</td>\n",
       "      <td>75.0</td>\n",
       "      <td>10.0</td>\n",
       "      <td>ultra</td>\n",
       "      <td>Москва</td>\n",
       "      <td>1950</td>\n",
       "      <td>0.0</td>\n",
       "      <td>0</td>\n",
       "      <td>0.0</td>\n",
       "      <td>0</td>\n",
       "      <td>1950</td>\n",
       "      <td>1</td>\n",
       "    </tr>\n",
       "    <tr>\n",
       "      <td>18</td>\n",
       "      <td>1003</td>\n",
       "      <td>лето</td>\n",
       "      <td>8</td>\n",
       "      <td>43.0</td>\n",
       "      <td>380.0</td>\n",
       "      <td>37.0</td>\n",
       "      <td>9.0</td>\n",
       "      <td>ultra</td>\n",
       "      <td>Москва</td>\n",
       "      <td>1950</td>\n",
       "      <td>0.0</td>\n",
       "      <td>0</td>\n",
       "      <td>0.0</td>\n",
       "      <td>0</td>\n",
       "      <td>1950</td>\n",
       "      <td>1</td>\n",
       "    </tr>\n",
       "    <tr>\n",
       "      <td>19</td>\n",
       "      <td>1003</td>\n",
       "      <td>осень</td>\n",
       "      <td>9</td>\n",
       "      <td>105.0</td>\n",
       "      <td>961.0</td>\n",
       "      <td>91.0</td>\n",
       "      <td>13.0</td>\n",
       "      <td>ultra</td>\n",
       "      <td>Москва</td>\n",
       "      <td>1950</td>\n",
       "      <td>0.0</td>\n",
       "      <td>0</td>\n",
       "      <td>0.0</td>\n",
       "      <td>0</td>\n",
       "      <td>1950</td>\n",
       "      <td>1</td>\n",
       "    </tr>\n",
       "  </tbody>\n",
       "</table>\n",
       "</div>"
      ],
      "text/plain": [
       "    User_id Время года  Месяц  Кол-во звонков, шт.  Звонки, мин.  СМС, шт.  \\\n",
       "0      1000      весна      5                 17.0         159.0      22.0   \n",
       "1      1000       зима     12                 38.0         333.0      70.0   \n",
       "2      1000       лето      6                 28.0         172.0      60.0   \n",
       "3      1000       лето      7                 41.0         340.0      75.0   \n",
       "4      1000       лето      8                 42.0         408.0      81.0   \n",
       "5      1000      осень      9                 46.0         466.0      57.0   \n",
       "6      1000      осень     10                 44.0         350.0      73.0   \n",
       "7      1000      осень     11                 37.0         338.0      58.0   \n",
       "8      1001       зима     12                 47.0         414.0       0.0   \n",
       "9      1001      осень     11                 45.0         430.0       0.0   \n",
       "10     1002       зима     12                 27.0         236.0      12.0   \n",
       "11     1002       лето      6                 14.0         117.0       4.0   \n",
       "12     1002       лето      7                 21.0         214.0      11.0   \n",
       "13     1002       лето      8                 37.0         289.0      13.0   \n",
       "14     1002      осень      9                 25.0         206.0       4.0   \n",
       "15     1002      осень     10                 24.0         212.0      10.0   \n",
       "16     1002      осень     11                 25.0         243.0      16.0   \n",
       "17     1003       зима     12                 88.0         802.0      75.0   \n",
       "18     1003       лето      8                 43.0         380.0      37.0   \n",
       "19     1003      осень      9                105.0         961.0      91.0   \n",
       "\n",
       "    Интернет, Гб  Тариф        Город  Абон. плата, руб.  Минуты сверх  \\\n",
       "0            3.0  ultra    Краснодар               1950           0.0   \n",
       "1           10.0  ultra    Краснодар               1950           0.0   \n",
       "2           23.0  ultra    Краснодар               1950           0.0   \n",
       "3           14.0  ultra    Краснодар               1950           0.0   \n",
       "4           14.0  ultra    Краснодар               1950           0.0   \n",
       "5           15.0  ultra    Краснодар               1950           0.0   \n",
       "6           15.0  ultra    Краснодар               1950           0.0   \n",
       "7           15.0  ultra    Краснодар               1950           0.0   \n",
       "8           14.0  smart       Москва                550           0.0   \n",
       "9           18.0  smart       Москва                550           0.0   \n",
       "10          18.0  smart  Стерлитамак                550           0.0   \n",
       "11          11.0  smart  Стерлитамак                550           0.0   \n",
       "12          18.0  smart  Стерлитамак                550           0.0   \n",
       "13          20.0  smart  Стерлитамак                550           0.0   \n",
       "14          17.0  smart  Стерлитамак                550           0.0   \n",
       "15          14.0  smart  Стерлитамак                550           0.0   \n",
       "16          19.0  smart  Стерлитамак                550           0.0   \n",
       "17          10.0  ultra       Москва               1950           0.0   \n",
       "18           9.0  ultra       Москва               1950           0.0   \n",
       "19          13.0  ultra       Москва               1950           0.0   \n",
       "\n",
       "    СМС сверх  Гб сверх  Плата сверх лимита, руб.  Сумма за месяц, руб.  \\\n",
       "0           0       0.0                         0                  1950   \n",
       "1           0       0.0                         0                  1950   \n",
       "2           0       0.0                         0                  1950   \n",
       "3           0       0.0                         0                  1950   \n",
       "4           0       0.0                         0                  1950   \n",
       "5           0       0.0                         0                  1950   \n",
       "6           0       0.0                         0                  1950   \n",
       "7           0       0.0                         0                  1950   \n",
       "8           0       0.0                         0                   550   \n",
       "9           0       3.0                       600                  1150   \n",
       "10          0       3.0                       600                  1150   \n",
       "11          0       0.0                         0                   550   \n",
       "12          0       3.0                       600                  1150   \n",
       "13          0       5.0                      1000                  1550   \n",
       "14          0       2.0                       400                   950   \n",
       "15          0       0.0                         0                   550   \n",
       "16          0       4.0                       800                  1350   \n",
       "17          0       0.0                         0                  1950   \n",
       "18          0       0.0                         0                  1950   \n",
       "19          0       0.0                         0                  1950   \n",
       "\n",
       "    moscow  \n",
       "0        0  \n",
       "1        0  \n",
       "2        0  \n",
       "3        0  \n",
       "4        0  \n",
       "5        0  \n",
       "6        0  \n",
       "7        0  \n",
       "8        1  \n",
       "9        1  \n",
       "10       0  \n",
       "11       0  \n",
       "12       0  \n",
       "13       0  \n",
       "14       0  \n",
       "15       0  \n",
       "16       0  \n",
       "17       1  \n",
       "18       1  \n",
       "19       1  "
      ]
     },
     "execution_count": 77,
     "metadata": {},
     "output_type": "execute_result"
    }
   ],
   "source": [
    "# Проверим\n",
    "df_numbers.head(20)"
   ]
  },
  {
   "cell_type": "code",
   "execution_count": 78,
   "metadata": {},
   "outputs": [
    {
     "name": "stderr",
     "output_type": "stream",
     "text": [
      "/opt/conda/lib/python3.7/site-packages/numpy/core/_asarray.py:83: VisibleDeprecationWarning: Creating an ndarray from ragged nested sequences (which is a list-or-tuple of lists-or-tuples-or ndarrays with different lengths or shapes) is deprecated. If you meant to do this, you must specify 'dtype=object' when creating the ndarray\n",
      "  return array(a, dtype, copy=False, order=order)\n"
     ]
    },
    {
     "data": {
      "image/png": "[encoded data removed]",
      "text/plain": [
       "<Figure size 576x504 with 1 Axes>"
      ]
     },
     "metadata": {
      "needs_background": "light"
     },
     "output_type": "display_data"
    }
   ],
   "source": [
    "ax = df_numbers.boxplot(column='Сумма за месяц, руб.', by='moscow', fontsize=12, figsize=(8,7))\n",
    "\n",
    "labels = [item.get_text() for item in ax.get_xticklabels()]\n",
    "\n",
    "labels[0] = 'Регионы'\n",
    "labels[1] = 'Москва'\n",
    "\n",
    "ax.set_xticklabels(labels)\n",
    "\n",
    "plt.suptitle('Гистограмма по выручке в Москве и Регионах', fontsize=16, fontweight='bold')\n",
    "\n",
    "ax.set_title('')\n",
    "ax.title.set_size(40)"
   ]
  },
  {
   "cell_type": "markdown",
   "metadata": {},
   "source": [
    "### Определим границы интервалов"
   ]
  },
  {
   "cell_type": "code",
   "execution_count": 79,
   "metadata": {},
   "outputs": [
    {
     "name": "stdout",
     "output_type": "stream",
     "text": [
      "Границы интервала для столбца \"Сумма за месяц, руб.\" для регионов: 550.0 - 3750.0\n",
      "Границы интервала для столбца \"Сумма за месяц, руб.\" для Москвы: 550.0 - 3704.25\n"
     ]
    }
   ],
   "source": [
    "region_get_iqr, moscow_get_iqr = get_iqr('Сумма за месяц, руб.', 'moscow')"
   ]
  },
  {
   "cell_type": "code",
   "execution_count": 80,
   "metadata": {},
   "outputs": [],
   "source": [
    "region_doxod = df_numbers[\n",
    "    (df_numbers['Город'] != 'Москва') & (df_numbers['Сумма за месяц, руб.'] >= region_get_iqr[0])\n",
    "    & (df_numbers['Сумма за месяц, руб.'] <= region_get_iqr[1])]['Сумма за месяц, руб.']\n",
    "moscow_doxod = df_numbers[\n",
    "    (df_numbers['Город'] == 'Москва') & (df_numbers['Сумма за месяц, руб.'] >= moscow_get_iqr[0])\n",
    "    & (df_numbers['Сумма за месяц, руб.'] <= moscow_get_iqr[1])]['Сумма за месяц, руб.']"
   ]
  },
  {
   "cell_type": "markdown",
   "metadata": {},
   "source": [
    "Расчет p-значения:"
   ]
  },
  {
   "cell_type": "code",
   "execution_count": 81,
   "metadata": {},
   "outputs": [
    {
     "name": "stdout",
     "output_type": "stream",
     "text": [
      "p-значение: 0.29404256281786206\n"
     ]
    }
   ],
   "source": [
    "results = st.ttest_ind(region_doxod, moscow_doxod)\n",
    "print('p-значение:', results.pvalue)"
   ]
  },
  {
   "cell_type": "code",
   "execution_count": 82,
   "metadata": {},
   "outputs": [
    {
     "name": "stdout",
     "output_type": "stream",
     "text": [
      "Пороговое значение alpha = 0.05\n"
     ]
    }
   ],
   "source": [
    "alpha = 0.05\n",
    "print('Пороговое значение alpha = 0.05')"
   ]
  },
  {
   "cell_type": "code",
   "execution_count": 83,
   "metadata": {},
   "outputs": [
    {
     "name": "stdout",
     "output_type": "stream",
     "text": [
      "Не получилось отвергнуть нулевую гипотезу\n"
     ]
    }
   ],
   "source": [
    "if results.pvalue < alpha:\n",
    "    print(\"Отвергаем нулевую гипотезу\")\n",
    "else:\n",
    "    print(\"Не получилось отвергнуть нулевую гипотезу\")"
   ]
  },
  {
   "cell_type": "markdown",
   "metadata": {},
   "source": [
    "### Верно утверждение, что средняя выручка пользователей из Москвы не отличается от выручки клиентов в Регионах. Посчитаем среднюю выручку по двум градациям."
   ]
  },
  {
   "cell_type": "code",
   "execution_count": 84,
   "metadata": {},
   "outputs": [
    {
     "name": "stdout",
     "output_type": "stream",
     "text": [
      "Средняя выручка по пользователям для Регионов - 1489.67\n",
      "Средняя выручка по пользователям для Москвы - 1524.60\n"
     ]
    }
   ],
   "source": [
    "print('Средняя выручка по пользователям для Регионов - {:.2f}'.format(region_doxod.mean()))\n",
    "print('Средняя выручка по пользователям для Москвы - {:.2f}'.format(moscow_doxod.mean()))"
   ]
  },
  {
   "cell_type": "markdown",
   "metadata": {},
   "source": [
    "### В Москве платят немного больше, чем в Регионах."
   ]
  },
  {
   "cell_type": "markdown",
   "metadata": {},
   "source": [
    "## 5. Общий вывод"
   ]
  },
  {
   "cell_type": "markdown",
   "metadata": {},
   "source": [
    "### 5.1 Общие данные по использованию пакетов Смарт и Ультра"
   ]
  },
  {
   "cell_type": "code",
   "execution_count": 85,
   "metadata": {},
   "outputs": [
    {
     "name": "stdout",
     "output_type": "stream",
     "text": [
      "Средн. процент использования пакета по интернету тарифа \"Смарт\" - 108.86% = 16 Гб\n",
      "Средн. процент использования пакета минут тарифа \"Смарт\" - 83.59% = 417.93 мин\n",
      "Средн. процент использования пакета СМС тарифа \"Смарт\" - 66.77% = 33 шт.\n",
      "Средн. процент использования пакета по интернету тарифа \"Ультра\" - 64.98% = 19 Гб\n",
      "Средн. процент использования пакета минут тарифа \"Ультра\" - 17.55% = 526.62 мин\n",
      "Средн. процент использования пакета СМС тарифа \"Ультра\" - 4.94% = 49 шт.\n"
     ]
    }
   ],
   "source": [
    "smart_mean_internet = (df_numbers[(df_numbers['Тариф'] == 'smart')]['Интернет, Гб']/(15)).mean()\n",
    "print('Средн. процент использования пакета по интернету тарифа \"Смарт\" - {:.2%} = {:,.0f} Гб'.\n",
    "      format(smart_mean_internet, smart_mean_internet * 15))\n",
    "smart_mean_calls = (df_numbers[(df_numbers['Тариф'] == 'smart')]['Звонки, мин.']/(500)).mean()\n",
    "print('Средн. процент использования пакета минут тарифа \"Смарт\" - {:.2%} = {:.2f} мин'.\n",
    "      format(smart_mean_calls, smart_mean_calls * 500))\n",
    "smart_mean_sms = (df_numbers[(df_numbers['Тариф'] == 'smart')]['СМС, шт.']/(50)).mean()\n",
    "print('Средн. процент использования пакета СМС тарифа \"Смарт\" - {:.2%} = {:.0f} шт.'.\n",
    "      format(smart_mean_sms, smart_mean_sms * 50))\n",
    "ultra_mean_internet = (df_numbers[(df_numbers['Тариф'] == 'ultra')]['Интернет, Гб']/(30)).mean()\n",
    "print('Средн. процент использования пакета по интернету тарифа \"Ультра\" - {:.2%} = {:,.0f} Гб'.\n",
    "      format(ultra_mean_internet, ultra_mean_internet * 30))\n",
    "ultra_mean_calls = (df_numbers[(df_numbers['Тариф'] == 'ultra')]['Звонки, мин.']/(3000)).mean()\n",
    "print('Средн. процент использования пакета минут тарифа \"Ультра\" - {:.2%} = {:.2f} мин'.\n",
    "      format(ultra_mean_calls, ultra_mean_calls * 3000))\n",
    "ultra_mean_sms = (df_numbers[(df_numbers['Тариф'] == 'ultra')]['СМС, шт.']/(1000)).mean()\n",
    "print('Средн. процент использования пакета СМС тарифа \"Ультра\" - {:.2%} = {:.0f} шт.'.\n",
    "      format(ultra_mean_sms, ultra_mean_sms * 1000))"
   ]
  },
  {
   "cell_type": "markdown",
   "metadata": {},
   "source": [
    "### 5.2 Общие данные по превышению пакетов Смарт и Ультра"
   ]
  },
  {
   "cell_type": "code",
   "execution_count": 86,
   "metadata": {},
   "outputs": [
    {
     "name": "stdout",
     "output_type": "stream",
     "text": [
      "Средн. превышение пакета по интернету по тарифа \"Смарт\" - 2.99 Гб на сумму - 598 руб.\n",
      "Средн. превышение пакета минут тарифа \"Смарт\" - 42 мин на сумму - 126 руб.\n",
      "Средн. превышение пакета СМС тарифа \"Смарт\" - 6 шт. на сумму - 18 руб.\n",
      "Средн. превышение пакета по интернету тарифа \"Ультра\" - 0.80 Гб на сумму - 120 руб.\n",
      "Средн. превышение пакета минут тарифа \"Ультра\" - 0 мин на сумму - 0 руб.\n",
      "Средн. превышение пакета СМС тарифа \"Ультра\" - 0 шт. на сумму - 0 руб.\n"
     ]
    }
   ],
   "source": [
    "smart_over_mean_internet = df_numbers[(df_numbers['Тариф'] == 'smart')]['Гб сверх'].mean()\n",
    "smart_over_mean_internet_rub = smart_over_mean_internet * 200\n",
    "print('Средн. превышение пакета по интернету по тарифа \"Смарт\" - {:.2f} Гб на сумму - {:.0f} руб.'.\n",
    "      format(smart_over_mean_internet, smart_over_mean_internet_rub))\n",
    "\n",
    "smart_over_mean_calls = np.ceil(df_numbers[(df_numbers['Тариф'] == 'smart')]['Минуты сверх'].mean())\n",
    "smart_over_mean_calls_rub = smart_over_mean_calls * 3\n",
    "print('Средн. превышение пакета минут тарифа \"Смарт\" - {:.0f} мин на сумму - {:.0f} руб.'.\n",
    "      format(smart_over_mean_calls, smart_over_mean_calls_rub))\n",
    "\n",
    "smart_over_mean_sms = np.ceil(df_numbers[(df_numbers['Тариф'] == 'smart')]['СМС сверх'].mean())\n",
    "smart_over_mean_sms_rub = smart_over_mean_sms * 3\n",
    "print('Средн. превышение пакета СМС тарифа \"Смарт\" - {:.0f} шт. на сумму - {:.0f} руб.'.\n",
    "      format(smart_over_mean_sms, smart_over_mean_sms_rub))\n",
    "\n",
    "ultra_over_mean_internet = df_numbers[(df_numbers['Тариф'] == 'ultra')]['Гб сверх'].mean()\n",
    "ultra_over_mean_internet_rub = ultra_over_mean_internet * 150\n",
    "print('Средн. превышение пакета по интернету тарифа \"Ультра\" - {:.2f} Гб на сумму - {:.0f} руб.'.\n",
    "      format(ultra_over_mean_internet, ultra_over_mean_internet_rub))\n",
    "\n",
    "ultra_over_mean_calls = np.ceil(df_numbers[(df_numbers['Тариф'] == 'ultra')]['Минуты сверх'].mean())\n",
    "ultra_over_mean_calls_rub = ultra_over_mean_calls * 3\n",
    "print('Средн. превышение пакета минут тарифа \"Ультра\" - {:.0f} мин на сумму - {:.0f} руб.'.\n",
    "      format(ultra_over_mean_calls, ultra_over_mean_calls_rub))\n",
    "\n",
    "ultra_over_mean_sms = np.ceil(df_numbers[(df_numbers['Тариф'] == 'ultra')]['СМС сверх'].mean())\n",
    "ultra_over_mean_sms_rub = ultra_over_mean_sms * 3\n",
    "print('Средн. превышение пакета СМС тарифа \"Ультра\" - {:.0f} шт. на сумму - {:.0f} руб.'.\n",
    "      format(ultra_over_mean_sms, ultra_over_mean_sms_rub))"
   ]
  },
  {
   "cell_type": "markdown",
   "metadata": {},
   "source": [
    "### 5.3 Вывод"
   ]
  },
  {
   "cell_type": "markdown",
   "metadata": {},
   "source": [
    "### Тариф  Смарт приносит около 60% всей выручки, но при этом на него приходится 2228 клиентов. Тариф Ультра дает остальные 40%, но эту выручку и это всего 984 клиентов.\n",
    "### Клиентам тарифа Смарт не хватает в среднем 1,5 Гб интернета к заложенными в абонентскую плату 15 Гб и приходится до заказывать. Но в целом клиенты в средним осуществляют дополнительный заказа интернет-трафика в объеме 3 Гб, за которые они платят 600 рублей.\n",
    "\n",
    "### Так как, в тариф Смарт более дешевый (бюджетный) за 550 рублей, где пользователю не хватает интернета и количество использованных минут разговора на грани лимита (418 мин из 500), а тариф Ультра, стоимостью 1950 рублей (тариф рассчитанный на другой класс клиентов и другой класс достатка), где по всем типам связи всего предостаточно (только иногда осуществляется дозаказ интернет-трафика на сумму 150 рублей - 1Гб).\n",
    "\n",
    "### В целом нужно на рынок вывести еще альтернативный тарифный план для клиентов компании \"Мегалайн\", который был средним между тарифами Смарт и Ультра. Стоимостью 1150 руб (550+600), включено было 600-700 минут разговора, 100 сообщений и 20Гб интернет-трафика. И в перспективе через пару лет тариф Смарт закрыть, т.к. по нему клиенты готовы платить больше (и выходят за рамки услуг по нему), а так же поменяются другие экономические факторы с течением времени. "
   ]
  }
 ],
 "metadata": {
  "kernelspec": {
   "display_name": "Python 3",
   "language": "python",
   "name": "python3"
  },
  "language_info": {
   "codemirror_mode": {
    "name": "ipython",
    "version": 3
   },
   "file_extension": ".py",
   "mimetype": "text/x-python",
   "name": "python",
   "nbconvert_exporter": "python",
   "pygments_lexer": "ipython3",
   "version": "3.7.6"
  }
 },
 "nbformat": 4,
 "nbformat_minor": 2
}
