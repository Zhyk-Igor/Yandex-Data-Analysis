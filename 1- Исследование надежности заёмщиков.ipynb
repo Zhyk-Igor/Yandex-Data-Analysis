{
 "cells": [
  {
   "cell_type": "markdown",
   "metadata": {},
   "source": [
    "## Исследование надёжности заёмщиков\n",
    "\n",
    "Заказчик — кредитный отдел банка. Нужно разобраться, влияет ли семейное положение и количество детей клиента на факт погашения кредита в срок. Входные данные от банка — статистика о платёжеспособности клиентов.\n",
    "\n",
    "Результаты исследования будут учтены при построении модели **кредитного скоринга** — специальной системы, которая оценивает способность потенциального заёмщика вернуть кредит банку."
   ]
  },
  {
   "cell_type": "markdown",
   "metadata": {},
   "source": [
    "### Шаг 1. Откройте файл с данными и изучите общую информацию. "
   ]
  },
  {
   "cell_type": "code",
   "execution_count": 533,
   "metadata": {},
   "outputs": [
    {
     "name": "stdout",
     "output_type": "stream",
     "text": [
      "<class 'pandas.core.frame.DataFrame'>\n",
      "RangeIndex: 21525 entries, 0 to 21524\n",
      "Data columns (total 12 columns):\n",
      "children            21525 non-null int64\n",
      "days_employed       19351 non-null float64\n",
      "dob_years           21525 non-null int64\n",
      "education           21525 non-null object\n",
      "education_id        21525 non-null int64\n",
      "family_status       21525 non-null object\n",
      "family_status_id    21525 non-null int64\n",
      "gender              21525 non-null object\n",
      "income_type         21525 non-null object\n",
      "debt                21525 non-null int64\n",
      "total_income        19351 non-null float64\n",
      "purpose             21525 non-null object\n",
      "dtypes: float64(2), int64(5), object(5)\n",
      "memory usage: 2.0+ MB\n"
     ]
    }
   ],
   "source": [
    "import pandas as pd\n",
    "data = pd.read_csv('/datasets/data.csv')\n",
    "data.info()"
   ]
  },
  {
   "cell_type": "markdown",
   "metadata": {},
   "source": [
    "### Вывод"
   ]
  },
  {
   "cell_type": "markdown",
   "metadata": {},
   "source": [
    "Получили общую информацию о датафрейме (название заголовков, количество значений и типы данных). Так же заметили, что присутствуют пропущенные значения."
   ]
  },
  {
   "cell_type": "markdown",
   "metadata": {},
   "source": [
    "### Шаг 2. Предобработка данных"
   ]
  },
  {
   "cell_type": "markdown",
   "metadata": {},
   "source": [
    "### Получим общую информацию"
   ]
  },
  {
   "cell_type": "code",
   "execution_count": 534,
   "metadata": {},
   "outputs": [
    {
     "data": {
      "text/html": [
       "<div>\n",
       "<style scoped>\n",
       "    .dataframe tbody tr th:only-of-type {\n",
       "        vertical-align: middle;\n",
       "    }\n",
       "\n",
       "    .dataframe tbody tr th {\n",
       "        vertical-align: top;\n",
       "    }\n",
       "\n",
       "    .dataframe thead th {\n",
       "        text-align: right;\n",
       "    }\n",
       "</style>\n",
       "<table border=\"1\" class=\"dataframe\">\n",
       "  <thead>\n",
       "    <tr style=\"text-align: right;\">\n",
       "      <th></th>\n",
       "      <th>children</th>\n",
       "      <th>days_employed</th>\n",
       "      <th>dob_years</th>\n",
       "      <th>education_id</th>\n",
       "      <th>family_status_id</th>\n",
       "      <th>debt</th>\n",
       "      <th>total_income</th>\n",
       "    </tr>\n",
       "  </thead>\n",
       "  <tbody>\n",
       "    <tr>\n",
       "      <td>count</td>\n",
       "      <td>21525.000000</td>\n",
       "      <td>19351.000000</td>\n",
       "      <td>21525.000000</td>\n",
       "      <td>21525.000000</td>\n",
       "      <td>21525.000000</td>\n",
       "      <td>21525.000000</td>\n",
       "      <td>1.935100e+04</td>\n",
       "    </tr>\n",
       "    <tr>\n",
       "      <td>mean</td>\n",
       "      <td>0.538908</td>\n",
       "      <td>63046.497661</td>\n",
       "      <td>43.293380</td>\n",
       "      <td>0.817236</td>\n",
       "      <td>0.972544</td>\n",
       "      <td>0.080883</td>\n",
       "      <td>1.674223e+05</td>\n",
       "    </tr>\n",
       "    <tr>\n",
       "      <td>std</td>\n",
       "      <td>1.381587</td>\n",
       "      <td>140827.311974</td>\n",
       "      <td>12.574584</td>\n",
       "      <td>0.548138</td>\n",
       "      <td>1.420324</td>\n",
       "      <td>0.272661</td>\n",
       "      <td>1.029716e+05</td>\n",
       "    </tr>\n",
       "    <tr>\n",
       "      <td>min</td>\n",
       "      <td>-1.000000</td>\n",
       "      <td>-18388.949901</td>\n",
       "      <td>0.000000</td>\n",
       "      <td>0.000000</td>\n",
       "      <td>0.000000</td>\n",
       "      <td>0.000000</td>\n",
       "      <td>2.066726e+04</td>\n",
       "    </tr>\n",
       "    <tr>\n",
       "      <td>25%</td>\n",
       "      <td>0.000000</td>\n",
       "      <td>-2747.423625</td>\n",
       "      <td>33.000000</td>\n",
       "      <td>1.000000</td>\n",
       "      <td>0.000000</td>\n",
       "      <td>0.000000</td>\n",
       "      <td>1.030532e+05</td>\n",
       "    </tr>\n",
       "    <tr>\n",
       "      <td>50%</td>\n",
       "      <td>0.000000</td>\n",
       "      <td>-1203.369529</td>\n",
       "      <td>42.000000</td>\n",
       "      <td>1.000000</td>\n",
       "      <td>0.000000</td>\n",
       "      <td>0.000000</td>\n",
       "      <td>1.450179e+05</td>\n",
       "    </tr>\n",
       "    <tr>\n",
       "      <td>75%</td>\n",
       "      <td>1.000000</td>\n",
       "      <td>-291.095954</td>\n",
       "      <td>53.000000</td>\n",
       "      <td>1.000000</td>\n",
       "      <td>1.000000</td>\n",
       "      <td>0.000000</td>\n",
       "      <td>2.034351e+05</td>\n",
       "    </tr>\n",
       "    <tr>\n",
       "      <td>max</td>\n",
       "      <td>20.000000</td>\n",
       "      <td>401755.400475</td>\n",
       "      <td>75.000000</td>\n",
       "      <td>4.000000</td>\n",
       "      <td>4.000000</td>\n",
       "      <td>1.000000</td>\n",
       "      <td>2.265604e+06</td>\n",
       "    </tr>\n",
       "  </tbody>\n",
       "</table>\n",
       "</div>"
      ],
      "text/plain": [
       "           children  days_employed     dob_years  education_id  \\\n",
       "count  21525.000000   19351.000000  21525.000000  21525.000000   \n",
       "mean       0.538908   63046.497661     43.293380      0.817236   \n",
       "std        1.381587  140827.311974     12.574584      0.548138   \n",
       "min       -1.000000  -18388.949901      0.000000      0.000000   \n",
       "25%        0.000000   -2747.423625     33.000000      1.000000   \n",
       "50%        0.000000   -1203.369529     42.000000      1.000000   \n",
       "75%        1.000000    -291.095954     53.000000      1.000000   \n",
       "max       20.000000  401755.400475     75.000000      4.000000   \n",
       "\n",
       "       family_status_id          debt  total_income  \n",
       "count      21525.000000  21525.000000  1.935100e+04  \n",
       "mean           0.972544      0.080883  1.674223e+05  \n",
       "std            1.420324      0.272661  1.029716e+05  \n",
       "min            0.000000      0.000000  2.066726e+04  \n",
       "25%            0.000000      0.000000  1.030532e+05  \n",
       "50%            0.000000      0.000000  1.450179e+05  \n",
       "75%            1.000000      0.000000  2.034351e+05  \n",
       "max            4.000000      1.000000  2.265604e+06  "
      ]
     },
     "execution_count": 534,
     "metadata": {},
     "output_type": "execute_result"
    }
   ],
   "source": [
    "data.describe()"
   ]
  },
  {
   "cell_type": "markdown",
   "metadata": {},
   "source": [
    "### Наблюдаем следующие моменты:\n",
    "#### 1. В столбце children есть значения -1 и 20. Скорее всего закрылась там ошибка;\n",
    "#### 2. В столбце days_employed количество отработанных дней представлено отрицательным значением (этого не может быть). Так же количество отработанных дней очень большое значение. Если рассматривать количество рабочих дней в году то в нем примерно 260 дней рабочих, то рабочий стаж получится примерно 240 лет (63046/260). Данную информацию нужно дополнительно уточнять у заказчика (у сотрудников кредитного отдела банка, но пока будем руководствоваться данными значениями);\n",
    "#### 3. В столбце dob_years возраст по некоторым строкам равняется нулю (нужно проверить данный столбец)."
   ]
  },
  {
   "cell_type": "markdown",
   "metadata": {},
   "source": [
    "### Заполним пропуски о доходах"
   ]
  },
  {
   "cell_type": "code",
   "execution_count": 535,
   "metadata": {},
   "outputs": [
    {
     "name": "stdout",
     "output_type": "stream",
     "text": [
      "Средний ежемесячный доход: 167422.30\n"
     ]
    }
   ],
   "source": [
    "#Определяем средний ежемесячный доход\n",
    "sred_income=data['total_income'].mean()\n",
    "print('Средний ежемесячный доход: {:.2f}'.format(sred_income))"
   ]
  },
  {
   "cell_type": "markdown",
   "metadata": {},
   "source": [
    "### Но так как клиенты работают в разных сферах занятости, то для них свойственна разная величина дохода. Осуществляем группировку исходя из типа занятости. Данный подсчет предварительный, т.к. в последующим будем заполнять пропуски исходя из среднего значения."
   ]
  },
  {
   "cell_type": "code",
   "execution_count": 536,
   "metadata": {},
   "outputs": [
    {
     "data": {
      "text/html": [
       "<div>\n",
       "<style scoped>\n",
       "    .dataframe tbody tr th:only-of-type {\n",
       "        vertical-align: middle;\n",
       "    }\n",
       "\n",
       "    .dataframe tbody tr th {\n",
       "        vertical-align: top;\n",
       "    }\n",
       "\n",
       "    .dataframe thead th {\n",
       "        text-align: right;\n",
       "    }\n",
       "</style>\n",
       "<table border=\"1\" class=\"dataframe\">\n",
       "  <thead>\n",
       "    <tr style=\"text-align: right;\">\n",
       "      <th></th>\n",
       "      <th>total_income</th>\n",
       "    </tr>\n",
       "    <tr>\n",
       "      <th>income_type</th>\n",
       "      <th></th>\n",
       "    </tr>\n",
       "  </thead>\n",
       "  <tbody>\n",
       "    <tr>\n",
       "      <td>безработный</td>\n",
       "      <td>131339.751676</td>\n",
       "    </tr>\n",
       "    <tr>\n",
       "      <td>в декрете</td>\n",
       "      <td>53829.130729</td>\n",
       "    </tr>\n",
       "    <tr>\n",
       "      <td>госслужащий</td>\n",
       "      <td>170898.309923</td>\n",
       "    </tr>\n",
       "    <tr>\n",
       "      <td>компаньон</td>\n",
       "      <td>202417.461462</td>\n",
       "    </tr>\n",
       "    <tr>\n",
       "      <td>пенсионер</td>\n",
       "      <td>137127.465690</td>\n",
       "    </tr>\n",
       "    <tr>\n",
       "      <td>предприниматель</td>\n",
       "      <td>499163.144947</td>\n",
       "    </tr>\n",
       "    <tr>\n",
       "      <td>сотрудник</td>\n",
       "      <td>161380.260488</td>\n",
       "    </tr>\n",
       "    <tr>\n",
       "      <td>студент</td>\n",
       "      <td>98201.625314</td>\n",
       "    </tr>\n",
       "  </tbody>\n",
       "</table>\n",
       "</div>"
      ],
      "text/plain": [
       "                  total_income\n",
       "income_type                   \n",
       "безработный      131339.751676\n",
       "в декрете         53829.130729\n",
       "госслужащий      170898.309923\n",
       "компаньон        202417.461462\n",
       "пенсионер        137127.465690\n",
       "предприниматель  499163.144947\n",
       "сотрудник        161380.260488\n",
       "студент           98201.625314"
      ]
     },
     "metadata": {},
     "output_type": "display_data"
    }
   ],
   "source": [
    "# получаем табличку со средними значениями для каждого типа\n",
    "sred_total_income = data.groupby(['income_type']).agg({'total_income' : 'mean'})\n",
    " \n",
    "# выведем табличку, чтобы было понятно что там лежит\n",
    "display(sred_total_income)"
   ]
  },
  {
   "cell_type": "markdown",
   "metadata": {},
   "source": [
    "### Расчет показал, что наибольший средний доход у предпринимателя, наименьший у того кто в декрете и у студента"
   ]
  },
  {
   "cell_type": "code",
   "execution_count": 537,
   "metadata": {},
   "outputs": [
    {
     "name": "stdout",
     "output_type": "stream",
     "text": [
      "Средний общий трудовой стаж в днях: 63046.50\n"
     ]
    }
   ],
   "source": [
    "#Определяем средний общий трудовой стаж в днях\n",
    "sred_employed=data['days_employed'].mean()\n",
    "print('Средний общий трудовой стаж в днях: {:.2f}'.format(sred_employed))"
   ]
  },
  {
   "cell_type": "markdown",
   "metadata": {},
   "source": [
    "### Аналогичные действия проводим для общего трудового стажа в днях"
   ]
  },
  {
   "cell_type": "code",
   "execution_count": 538,
   "metadata": {},
   "outputs": [
    {
     "data": {
      "text/html": [
       "<div>\n",
       "<style scoped>\n",
       "    .dataframe tbody tr th:only-of-type {\n",
       "        vertical-align: middle;\n",
       "    }\n",
       "\n",
       "    .dataframe tbody tr th {\n",
       "        vertical-align: top;\n",
       "    }\n",
       "\n",
       "    .dataframe thead th {\n",
       "        text-align: right;\n",
       "    }\n",
       "</style>\n",
       "<table border=\"1\" class=\"dataframe\">\n",
       "  <thead>\n",
       "    <tr style=\"text-align: right;\">\n",
       "      <th></th>\n",
       "      <th>days_employed</th>\n",
       "    </tr>\n",
       "    <tr>\n",
       "      <th>income_type</th>\n",
       "      <th></th>\n",
       "    </tr>\n",
       "  </thead>\n",
       "  <tbody>\n",
       "    <tr>\n",
       "      <td>безработный</td>\n",
       "      <td>366413.652744</td>\n",
       "    </tr>\n",
       "    <tr>\n",
       "      <td>в декрете</td>\n",
       "      <td>-3296.759962</td>\n",
       "    </tr>\n",
       "    <tr>\n",
       "      <td>госслужащий</td>\n",
       "      <td>-3399.896902</td>\n",
       "    </tr>\n",
       "    <tr>\n",
       "      <td>компаньон</td>\n",
       "      <td>-2111.524398</td>\n",
       "    </tr>\n",
       "    <tr>\n",
       "      <td>пенсионер</td>\n",
       "      <td>365003.491245</td>\n",
       "    </tr>\n",
       "    <tr>\n",
       "      <td>предприниматель</td>\n",
       "      <td>-520.848083</td>\n",
       "    </tr>\n",
       "    <tr>\n",
       "      <td>сотрудник</td>\n",
       "      <td>-2326.499216</td>\n",
       "    </tr>\n",
       "    <tr>\n",
       "      <td>студент</td>\n",
       "      <td>-578.751554</td>\n",
       "    </tr>\n",
       "  </tbody>\n",
       "</table>\n",
       "</div>"
      ],
      "text/plain": [
       "                 days_employed\n",
       "income_type                   \n",
       "безработный      366413.652744\n",
       "в декрете         -3296.759962\n",
       "госслужащий       -3399.896902\n",
       "компаньон         -2111.524398\n",
       "пенсионер        365003.491245\n",
       "предприниматель    -520.848083\n",
       "сотрудник         -2326.499216\n",
       "студент            -578.751554"
      ]
     },
     "metadata": {},
     "output_type": "display_data"
    }
   ],
   "source": [
    "# получаем табличку со средними значениями для каждого типа\n",
    "sred_days_empl = data.groupby(['income_type']).agg({'days_employed' : 'mean'})\n",
    " \n",
    "# выведем табличку, чтобы было понятно что там лежит\n",
    "display(sred_days_empl)"
   ]
  },
  {
   "cell_type": "markdown",
   "metadata": {},
   "source": [
    "### Замечаем, кто работает имеет отрицательное значение трудового стажа, а кто не работает положительное (безработные и пенсионеры). При это в расчете закралась явная ошибка в группах безработные и пенсионеры. "
   ]
  },
  {
   "cell_type": "code",
   "execution_count": 539,
   "metadata": {},
   "outputs": [],
   "source": [
    "for inc_type in sred_total_income.index:\n",
    "    data.loc[data['income_type'] == inc_type,'total_income'] = data.loc[data['income_type'] == inc_type,'total_income'].fillna(sred_total_income.loc[inc_type, 'total_income'])\n",
    " \n",
    " \n",
    "#sred_total_income.index - это список с индексами в табличке sred_total_income, а индексами там, в результате группировки, записаны типы занятости"
   ]
  },
  {
   "cell_type": "code",
   "execution_count": 540,
   "metadata": {},
   "outputs": [],
   "source": [
    "for inc_type in sred_days_empl.index:\n",
    "    data.loc[data['income_type'] == inc_type,'days_employed'] = data.loc[data['income_type'] == inc_type,'days_employed'].fillna(sred_days_empl.loc[inc_type, 'days_employed'])\n",
    " \n",
    " \n",
    "#sred_days_empl.index - это список с индексами в табличке sred_days_empl, а индексами там, в результате группировки, записаны типы занятости"
   ]
  },
  {
   "cell_type": "markdown",
   "metadata": {},
   "source": [
    "### Так есть отрицательные значения, то используем метод abs(), который по сути берет модуль числа. "
   ]
  },
  {
   "cell_type": "code",
   "execution_count": 541,
   "metadata": {},
   "outputs": [],
   "source": [
    "data['days_employed'] = data['days_employed'].abs()"
   ]
  },
  {
   "cell_type": "code",
   "execution_count": 542,
   "metadata": {},
   "outputs": [
    {
     "name": "stdout",
     "output_type": "stream",
     "text": [
      "children            0\n",
      "days_employed       0\n",
      "dob_years           0\n",
      "education           0\n",
      "education_id        0\n",
      "family_status       0\n",
      "family_status_id    0\n",
      "gender              0\n",
      "income_type         0\n",
      "debt                0\n",
      "total_income        0\n",
      "purpose             0\n",
      "dtype: int64\n"
     ]
    }
   ],
   "source": [
    "#Осуществил проверку отсутствующих значений\n",
    "print(data.isnull().sum())"
   ]
  },
  {
   "cell_type": "markdown",
   "metadata": {},
   "source": [
    "### Так тип данных в колонках 'total_income' и 'days_employed' вещественный, то поменям его на целочисленый. Целочисленный тип подсчета больше подходит для расчета."
   ]
  },
  {
   "cell_type": "code",
   "execution_count": 543,
   "metadata": {},
   "outputs": [],
   "source": [
    "data['total_income']=data['total_income'].astype('int')\n",
    "data['days_employed']=data['days_employed'].astype('int')"
   ]
  },
  {
   "cell_type": "code",
   "execution_count": 544,
   "metadata": {},
   "outputs": [
    {
     "name": "stdout",
     "output_type": "stream",
     "text": [
      "<class 'pandas.core.frame.DataFrame'>\n",
      "RangeIndex: 21525 entries, 0 to 21524\n",
      "Data columns (total 12 columns):\n",
      "children            21525 non-null int64\n",
      "days_employed       21525 non-null int64\n",
      "dob_years           21525 non-null int64\n",
      "education           21525 non-null object\n",
      "education_id        21525 non-null int64\n",
      "family_status       21525 non-null object\n",
      "family_status_id    21525 non-null int64\n",
      "gender              21525 non-null object\n",
      "income_type         21525 non-null object\n",
      "debt                21525 non-null int64\n",
      "total_income        21525 non-null int64\n",
      "purpose             21525 non-null object\n",
      "dtypes: int64(7), object(5)\n",
      "memory usage: 2.0+ MB\n"
     ]
    }
   ],
   "source": [
    "#Проверим и затем скроем значения полученные\n",
    "#data.head()\n",
    "data.info()"
   ]
  },
  {
   "cell_type": "markdown",
   "metadata": {},
   "source": [
    "### Заполним явные ошибки"
   ]
  },
  {
   "cell_type": "markdown",
   "metadata": {},
   "source": [
    "#### По возрасту клиента"
   ]
  },
  {
   "cell_type": "code",
   "execution_count": 545,
   "metadata": {},
   "outputs": [
    {
     "name": "stdout",
     "output_type": "stream",
     "text": [
      "Средний ежемесячный доход: 43\n"
     ]
    }
   ],
   "source": [
    "sred_dob_years=data['dob_years'].mean()\n",
    "print('Средний ежемесячный доход:', int(sred_dob_years))\n",
    "#Средний возраст клиента равен 43 года "
   ]
  },
  {
   "cell_type": "code",
   "execution_count": 546,
   "metadata": {},
   "outputs": [],
   "source": [
    "data['dob_years'] = data['dob_years'].replace(0, 43)"
   ]
  },
  {
   "cell_type": "markdown",
   "metadata": {},
   "source": [
    "#### По количеству детей"
   ]
  },
  {
   "cell_type": "code",
   "execution_count": 547,
   "metadata": {},
   "outputs": [],
   "source": [
    "data['children'] = data['children'].replace(20, 2)\n",
    "data['children'] = data['children'].replace(-1, 1)"
   ]
  },
  {
   "cell_type": "markdown",
   "metadata": {},
   "source": [
    "#### Столбец education приводим к однотипным значениям"
   ]
  },
  {
   "cell_type": "code",
   "execution_count": 548,
   "metadata": {},
   "outputs": [
    {
     "data": {
      "text/plain": [
       "среднее                13750\n",
       "высшее                  4718\n",
       "СРЕДНЕЕ                  772\n",
       "Среднее                  711\n",
       "неоконченное высшее      668\n",
       "ВЫСШЕЕ                   274\n",
       "Высшее                   268\n",
       "начальное                250\n",
       "Неоконченное высшее       47\n",
       "НЕОКОНЧЕННОЕ ВЫСШЕЕ       29\n",
       "НАЧАЛЬНОЕ                 17\n",
       "Начальное                 15\n",
       "ученая степень             4\n",
       "Ученая степень             1\n",
       "УЧЕНАЯ СТЕПЕНЬ             1\n",
       "Name: education, dtype: int64"
      ]
     },
     "execution_count": 548,
     "metadata": {},
     "output_type": "execute_result"
    }
   ],
   "source": [
    "data['education'].value_counts()"
   ]
  },
  {
   "cell_type": "code",
   "execution_count": 549,
   "metadata": {},
   "outputs": [
    {
     "name": "stdout",
     "output_type": "stream",
     "text": [
      "среднее                15233\n",
      "высшее                  5260\n",
      "неоконченное высшее      744\n",
      "начальное                282\n",
      "ученая степень             6\n",
      "Name: education, dtype: int64\n"
     ]
    }
   ],
   "source": [
    "data['education'] = data['education'].str.lower()\n",
    "print(data['education'].value_counts())"
   ]
  },
  {
   "cell_type": "code",
   "execution_count": 550,
   "metadata": {},
   "outputs": [],
   "source": [
    "#Проверили типы данных\n",
    "#data.info()"
   ]
  },
  {
   "cell_type": "markdown",
   "metadata": {},
   "source": [
    "### Обработка дубликатов"
   ]
  },
  {
   "cell_type": "markdown",
   "metadata": {},
   "source": [
    "#### Посчитаем количество дубликатов используя метод duplicated"
   ]
  },
  {
   "cell_type": "code",
   "execution_count": 551,
   "metadata": {},
   "outputs": [
    {
     "data": {
      "text/plain": [
       "71"
      ]
     },
     "execution_count": 551,
     "metadata": {},
     "output_type": "execute_result"
    }
   ],
   "source": [
    "data.duplicated().sum()"
   ]
  },
  {
   "cell_type": "markdown",
   "metadata": {},
   "source": [
    "#### Посмотрим на них"
   ]
  },
  {
   "cell_type": "code",
   "execution_count": 552,
   "metadata": {},
   "outputs": [
    {
     "data": {
      "text/html": [
       "<div>\n",
       "<style scoped>\n",
       "    .dataframe tbody tr th:only-of-type {\n",
       "        vertical-align: middle;\n",
       "    }\n",
       "\n",
       "    .dataframe tbody tr th {\n",
       "        vertical-align: top;\n",
       "    }\n",
       "\n",
       "    .dataframe thead th {\n",
       "        text-align: right;\n",
       "    }\n",
       "</style>\n",
       "<table border=\"1\" class=\"dataframe\">\n",
       "  <thead>\n",
       "    <tr style=\"text-align: right;\">\n",
       "      <th></th>\n",
       "      <th>children</th>\n",
       "      <th>days_employed</th>\n",
       "      <th>dob_years</th>\n",
       "      <th>education</th>\n",
       "      <th>education_id</th>\n",
       "      <th>family_status</th>\n",
       "      <th>family_status_id</th>\n",
       "      <th>gender</th>\n",
       "      <th>income_type</th>\n",
       "      <th>debt</th>\n",
       "      <th>total_income</th>\n",
       "      <th>purpose</th>\n",
       "    </tr>\n",
       "  </thead>\n",
       "  <tbody>\n",
       "    <tr>\n",
       "      <td>1005</td>\n",
       "      <td>0</td>\n",
       "      <td>365003</td>\n",
       "      <td>62</td>\n",
       "      <td>среднее</td>\n",
       "      <td>1</td>\n",
       "      <td>женат / замужем</td>\n",
       "      <td>0</td>\n",
       "      <td>F</td>\n",
       "      <td>пенсионер</td>\n",
       "      <td>0</td>\n",
       "      <td>137127</td>\n",
       "      <td>ремонт жилью</td>\n",
       "    </tr>\n",
       "    <tr>\n",
       "      <td>1191</td>\n",
       "      <td>0</td>\n",
       "      <td>365003</td>\n",
       "      <td>61</td>\n",
       "      <td>среднее</td>\n",
       "      <td>1</td>\n",
       "      <td>женат / замужем</td>\n",
       "      <td>0</td>\n",
       "      <td>F</td>\n",
       "      <td>пенсионер</td>\n",
       "      <td>0</td>\n",
       "      <td>137127</td>\n",
       "      <td>операции с недвижимостью</td>\n",
       "    </tr>\n",
       "    <tr>\n",
       "      <td>1511</td>\n",
       "      <td>0</td>\n",
       "      <td>365003</td>\n",
       "      <td>58</td>\n",
       "      <td>высшее</td>\n",
       "      <td>0</td>\n",
       "      <td>Не женат / не замужем</td>\n",
       "      <td>4</td>\n",
       "      <td>F</td>\n",
       "      <td>пенсионер</td>\n",
       "      <td>0</td>\n",
       "      <td>137127</td>\n",
       "      <td>дополнительное образование</td>\n",
       "    </tr>\n",
       "    <tr>\n",
       "      <td>1681</td>\n",
       "      <td>0</td>\n",
       "      <td>365003</td>\n",
       "      <td>57</td>\n",
       "      <td>среднее</td>\n",
       "      <td>1</td>\n",
       "      <td>гражданский брак</td>\n",
       "      <td>1</td>\n",
       "      <td>F</td>\n",
       "      <td>пенсионер</td>\n",
       "      <td>0</td>\n",
       "      <td>137127</td>\n",
       "      <td>на проведение свадьбы</td>\n",
       "    </tr>\n",
       "    <tr>\n",
       "      <td>2052</td>\n",
       "      <td>0</td>\n",
       "      <td>365003</td>\n",
       "      <td>58</td>\n",
       "      <td>среднее</td>\n",
       "      <td>1</td>\n",
       "      <td>гражданский брак</td>\n",
       "      <td>1</td>\n",
       "      <td>F</td>\n",
       "      <td>пенсионер</td>\n",
       "      <td>0</td>\n",
       "      <td>137127</td>\n",
       "      <td>сыграть свадьбу</td>\n",
       "    </tr>\n",
       "    <tr>\n",
       "      <td>...</td>\n",
       "      <td>...</td>\n",
       "      <td>...</td>\n",
       "      <td>...</td>\n",
       "      <td>...</td>\n",
       "      <td>...</td>\n",
       "      <td>...</td>\n",
       "      <td>...</td>\n",
       "      <td>...</td>\n",
       "      <td>...</td>\n",
       "      <td>...</td>\n",
       "      <td>...</td>\n",
       "      <td>...</td>\n",
       "    </tr>\n",
       "    <tr>\n",
       "      <td>16148</td>\n",
       "      <td>0</td>\n",
       "      <td>2111</td>\n",
       "      <td>45</td>\n",
       "      <td>среднее</td>\n",
       "      <td>1</td>\n",
       "      <td>гражданский брак</td>\n",
       "      <td>1</td>\n",
       "      <td>F</td>\n",
       "      <td>компаньон</td>\n",
       "      <td>0</td>\n",
       "      <td>202417</td>\n",
       "      <td>свадьба</td>\n",
       "    </tr>\n",
       "    <tr>\n",
       "      <td>17379</td>\n",
       "      <td>0</td>\n",
       "      <td>2111</td>\n",
       "      <td>54</td>\n",
       "      <td>высшее</td>\n",
       "      <td>0</td>\n",
       "      <td>женат / замужем</td>\n",
       "      <td>0</td>\n",
       "      <td>M</td>\n",
       "      <td>компаньон</td>\n",
       "      <td>0</td>\n",
       "      <td>202417</td>\n",
       "      <td>операции с коммерческой недвижимостью</td>\n",
       "    </tr>\n",
       "    <tr>\n",
       "      <td>17774</td>\n",
       "      <td>1</td>\n",
       "      <td>2111</td>\n",
       "      <td>40</td>\n",
       "      <td>среднее</td>\n",
       "      <td>1</td>\n",
       "      <td>гражданский брак</td>\n",
       "      <td>1</td>\n",
       "      <td>F</td>\n",
       "      <td>компаньон</td>\n",
       "      <td>0</td>\n",
       "      <td>202417</td>\n",
       "      <td>строительство жилой недвижимости</td>\n",
       "    </tr>\n",
       "    <tr>\n",
       "      <td>19369</td>\n",
       "      <td>0</td>\n",
       "      <td>2111</td>\n",
       "      <td>45</td>\n",
       "      <td>среднее</td>\n",
       "      <td>1</td>\n",
       "      <td>гражданский брак</td>\n",
       "      <td>1</td>\n",
       "      <td>F</td>\n",
       "      <td>компаньон</td>\n",
       "      <td>0</td>\n",
       "      <td>202417</td>\n",
       "      <td>свадьба</td>\n",
       "    </tr>\n",
       "    <tr>\n",
       "      <td>19387</td>\n",
       "      <td>0</td>\n",
       "      <td>2111</td>\n",
       "      <td>38</td>\n",
       "      <td>высшее</td>\n",
       "      <td>0</td>\n",
       "      <td>гражданский брак</td>\n",
       "      <td>1</td>\n",
       "      <td>F</td>\n",
       "      <td>компаньон</td>\n",
       "      <td>0</td>\n",
       "      <td>202417</td>\n",
       "      <td>на проведение свадьбы</td>\n",
       "    </tr>\n",
       "  </tbody>\n",
       "</table>\n",
       "<p>137 rows × 12 columns</p>\n",
       "</div>"
      ],
      "text/plain": [
       "       children  days_employed  dob_years education  education_id  \\\n",
       "1005          0         365003         62   среднее             1   \n",
       "1191          0         365003         61   среднее             1   \n",
       "1511          0         365003         58    высшее             0   \n",
       "1681          0         365003         57   среднее             1   \n",
       "2052          0         365003         58   среднее             1   \n",
       "...         ...            ...        ...       ...           ...   \n",
       "16148         0           2111         45   среднее             1   \n",
       "17379         0           2111         54    высшее             0   \n",
       "17774         1           2111         40   среднее             1   \n",
       "19369         0           2111         45   среднее             1   \n",
       "19387         0           2111         38    высшее             0   \n",
       "\n",
       "               family_status  family_status_id gender income_type  debt  \\\n",
       "1005         женат / замужем                 0      F   пенсионер     0   \n",
       "1191         женат / замужем                 0      F   пенсионер     0   \n",
       "1511   Не женат / не замужем                 4      F   пенсионер     0   \n",
       "1681        гражданский брак                 1      F   пенсионер     0   \n",
       "2052        гражданский брак                 1      F   пенсионер     0   \n",
       "...                      ...               ...    ...         ...   ...   \n",
       "16148       гражданский брак                 1      F   компаньон     0   \n",
       "17379        женат / замужем                 0      M   компаньон     0   \n",
       "17774       гражданский брак                 1      F   компаньон     0   \n",
       "19369       гражданский брак                 1      F   компаньон     0   \n",
       "19387       гражданский брак                 1      F   компаньон     0   \n",
       "\n",
       "       total_income                                purpose  \n",
       "1005         137127                           ремонт жилью  \n",
       "1191         137127               операции с недвижимостью  \n",
       "1511         137127             дополнительное образование  \n",
       "1681         137127                  на проведение свадьбы  \n",
       "2052         137127                        сыграть свадьбу  \n",
       "...             ...                                    ...  \n",
       "16148        202417                                свадьба  \n",
       "17379        202417  операции с коммерческой недвижимостью  \n",
       "17774        202417       строительство жилой недвижимости  \n",
       "19369        202417                                свадьба  \n",
       "19387        202417                  на проведение свадьбы  \n",
       "\n",
       "[137 rows x 12 columns]"
      ]
     },
     "execution_count": 552,
     "metadata": {},
     "output_type": "execute_result"
    }
   ],
   "source": [
    "data[data.duplicated(keep=False)].sort_values(by=['total_income','days_employed'])"
   ]
  },
  {
   "cell_type": "markdown",
   "metadata": {},
   "source": [
    "#### Похоже задвоение данных (создались как-то автоматически дубли данных). Удаляем их. "
   ]
  },
  {
   "cell_type": "code",
   "execution_count": 553,
   "metadata": {},
   "outputs": [],
   "source": [
    "data=data.drop_duplicates().reset_index(drop=True)"
   ]
  },
  {
   "cell_type": "markdown",
   "metadata": {},
   "source": [
    "#### Проверяем повторно"
   ]
  },
  {
   "cell_type": "code",
   "execution_count": 554,
   "metadata": {},
   "outputs": [
    {
     "data": {
      "text/plain": [
       "0"
      ]
     },
     "execution_count": 554,
     "metadata": {},
     "output_type": "execute_result"
    }
   ],
   "source": [
    "data.duplicated().sum()"
   ]
  },
  {
   "cell_type": "markdown",
   "metadata": {},
   "source": [
    "### Категоризация данных"
   ]
  },
  {
   "cell_type": "code",
   "execution_count": 555,
   "metadata": {},
   "outputs": [],
   "source": [
    "status_debt=data.groupby(['income_type', 'debt']).agg({'debt':'count'})\n",
    "#status_debt"
   ]
  },
  {
   "cell_type": "code",
   "execution_count": 556,
   "metadata": {},
   "outputs": [],
   "source": [
    "def status_debt (data):\n",
    "    debt=data['debt']\n",
    "    if debt==1:\n",
    "        return 'Имеется задолженность'\n",
    "    return 'Задолженности нет'\n",
    "data['status_debt']=data.apply(status_debt, axis=1)"
   ]
  },
  {
   "cell_type": "code",
   "execution_count": 557,
   "metadata": {},
   "outputs": [],
   "source": [
    "def kids_dept (data):\n",
    "    children=data['children']\n",
    "    if children < 1:\n",
    "        return 'нет детей'\n",
    "    return 'есть дети'\n",
    "data['children']=data.apply(kids_dept, axis=1) "
   ]
  },
  {
   "cell_type": "code",
   "execution_count": 558,
   "metadata": {},
   "outputs": [],
   "source": [
    "data_children_status_pivot=data.pivot_table(index=['children'],columns='status_debt',values='debt', aggfunc='count',fill_value=0, margins=True)\n",
    "data_children_status_pivot['Доля'] = (data_children_status_pivot['Имеется задолженность']/data_children_status_pivot['All'])\n",
    "data_children_status_pivot['Доля'] = data_children_status_pivot['Доля'].apply(lambda x: '{:.2%}'.format(x))"
   ]
  },
  {
   "cell_type": "code",
   "execution_count": 559,
   "metadata": {},
   "outputs": [
    {
     "data": {
      "text/html": [
       "<div>\n",
       "<style scoped>\n",
       "    .dataframe tbody tr th:only-of-type {\n",
       "        vertical-align: middle;\n",
       "    }\n",
       "\n",
       "    .dataframe tbody tr th {\n",
       "        vertical-align: top;\n",
       "    }\n",
       "\n",
       "    .dataframe thead th {\n",
       "        text-align: right;\n",
       "    }\n",
       "</style>\n",
       "<table border=\"1\" class=\"dataframe\">\n",
       "  <thead>\n",
       "    <tr style=\"text-align: right;\">\n",
       "      <th>status_debt</th>\n",
       "      <th>children</th>\n",
       "      <th>Задолженности нет</th>\n",
       "      <th>Имеется задолженность</th>\n",
       "      <th>All</th>\n",
       "      <th>Доля</th>\n",
       "    </tr>\n",
       "  </thead>\n",
       "  <tbody>\n",
       "    <tr>\n",
       "      <td>0</td>\n",
       "      <td>есть дети</td>\n",
       "      <td>6685</td>\n",
       "      <td>678</td>\n",
       "      <td>7363</td>\n",
       "      <td>9.21%</td>\n",
       "    </tr>\n",
       "    <tr>\n",
       "      <td>1</td>\n",
       "      <td>нет детей</td>\n",
       "      <td>13028</td>\n",
       "      <td>1063</td>\n",
       "      <td>14091</td>\n",
       "      <td>7.54%</td>\n",
       "    </tr>\n",
       "    <tr>\n",
       "      <td>2</td>\n",
       "      <td>All</td>\n",
       "      <td>19713</td>\n",
       "      <td>1741</td>\n",
       "      <td>21454</td>\n",
       "      <td>8.12%</td>\n",
       "    </tr>\n",
       "  </tbody>\n",
       "</table>\n",
       "</div>"
      ],
      "text/plain": [
       "status_debt   children  Задолженности нет  Имеется задолженность    All   Доля\n",
       "0            есть дети               6685                    678   7363  9.21%\n",
       "1            нет детей              13028                   1063  14091  7.54%\n",
       "2                  All              19713                   1741  21454  8.12%"
      ]
     },
     "execution_count": 559,
     "metadata": {},
     "output_type": "execute_result"
    }
   ],
   "source": [
    "data_children_status_pivot.reset_index()"
   ]
  },
  {
   "cell_type": "code",
   "execution_count": null,
   "metadata": {},
   "outputs": [],
   "source": []
  },
  {
   "cell_type": "code",
   "execution_count": 560,
   "metadata": {},
   "outputs": [],
   "source": [
    "data_family_status_pivot=data.pivot_table(index=['family_status'],columns='status_debt',values='debt', aggfunc='count',fill_value=0, margins=True)\n",
    "data_family_status_pivot['Доля'] = (data_family_status_pivot['Имеется задолженность']/data_family_status_pivot['All'])\n",
    "data_family_status_pivot['Доля'] = data_family_status_pivot['Доля'].apply(lambda x: '{:.2%}'.format(x))"
   ]
  },
  {
   "cell_type": "code",
   "execution_count": 561,
   "metadata": {},
   "outputs": [
    {
     "data": {
      "text/html": [
       "<div>\n",
       "<style scoped>\n",
       "    .dataframe tbody tr th:only-of-type {\n",
       "        vertical-align: middle;\n",
       "    }\n",
       "\n",
       "    .dataframe tbody tr th {\n",
       "        vertical-align: top;\n",
       "    }\n",
       "\n",
       "    .dataframe thead th {\n",
       "        text-align: right;\n",
       "    }\n",
       "</style>\n",
       "<table border=\"1\" class=\"dataframe\">\n",
       "  <thead>\n",
       "    <tr style=\"text-align: right;\">\n",
       "      <th>status_debt</th>\n",
       "      <th>family_status</th>\n",
       "      <th>Задолженности нет</th>\n",
       "      <th>Имеется задолженность</th>\n",
       "      <th>All</th>\n",
       "      <th>Доля</th>\n",
       "    </tr>\n",
       "  </thead>\n",
       "  <tbody>\n",
       "    <tr>\n",
       "      <td>0</td>\n",
       "      <td>Не женат / не замужем</td>\n",
       "      <td>2536</td>\n",
       "      <td>274</td>\n",
       "      <td>2810</td>\n",
       "      <td>9.75%</td>\n",
       "    </tr>\n",
       "    <tr>\n",
       "      <td>1</td>\n",
       "      <td>в разводе</td>\n",
       "      <td>1110</td>\n",
       "      <td>85</td>\n",
       "      <td>1195</td>\n",
       "      <td>7.11%</td>\n",
       "    </tr>\n",
       "    <tr>\n",
       "      <td>2</td>\n",
       "      <td>вдовец / вдова</td>\n",
       "      <td>896</td>\n",
       "      <td>63</td>\n",
       "      <td>959</td>\n",
       "      <td>6.57%</td>\n",
       "    </tr>\n",
       "    <tr>\n",
       "      <td>3</td>\n",
       "      <td>гражданский брак</td>\n",
       "      <td>3763</td>\n",
       "      <td>388</td>\n",
       "      <td>4151</td>\n",
       "      <td>9.35%</td>\n",
       "    </tr>\n",
       "    <tr>\n",
       "      <td>4</td>\n",
       "      <td>женат / замужем</td>\n",
       "      <td>11408</td>\n",
       "      <td>931</td>\n",
       "      <td>12339</td>\n",
       "      <td>7.55%</td>\n",
       "    </tr>\n",
       "    <tr>\n",
       "      <td>5</td>\n",
       "      <td>All</td>\n",
       "      <td>19713</td>\n",
       "      <td>1741</td>\n",
       "      <td>21454</td>\n",
       "      <td>8.12%</td>\n",
       "    </tr>\n",
       "  </tbody>\n",
       "</table>\n",
       "</div>"
      ],
      "text/plain": [
       "status_debt          family_status  Задолженности нет  Имеется задолженность  \\\n",
       "0            Не женат / не замужем               2536                    274   \n",
       "1                        в разводе               1110                     85   \n",
       "2                   вдовец / вдова                896                     63   \n",
       "3                 гражданский брак               3763                    388   \n",
       "4                  женат / замужем              11408                    931   \n",
       "5                              All              19713                   1741   \n",
       "\n",
       "status_debt    All   Доля  \n",
       "0             2810  9.75%  \n",
       "1             1195  7.11%  \n",
       "2              959  6.57%  \n",
       "3             4151  9.35%  \n",
       "4            12339  7.55%  \n",
       "5            21454  8.12%  "
      ]
     },
     "execution_count": 561,
     "metadata": {},
     "output_type": "execute_result"
    }
   ],
   "source": [
    "data_family_status_pivot.reset_index()"
   ]
  },
  {
   "cell_type": "markdown",
   "metadata": {},
   "source": [
    "Женатые (замужние) клиентов процент невозврата кредита меньше чему у не женатых (не замужних) меньше на 2,2%, а по сравнению с гражданским браком - на 1,8%. При том, что кредитов у женатых больше. Ниже процент невозврата только у клиентов в разводе и у вдовцов (вдова), но и количество данных кредитов меньше примерно в 10 раз."
   ]
  },
  {
   "cell_type": "code",
   "execution_count": 562,
   "metadata": {},
   "outputs": [],
   "source": [
    "data_children_family_status_pivot=data.pivot_table(index=['children','family_status'],columns='status_debt',values='debt', aggfunc='count',fill_value=0, margins=True)"
   ]
  },
  {
   "cell_type": "code",
   "execution_count": 563,
   "metadata": {},
   "outputs": [],
   "source": [
    "data_children_family_status_pivot['Доля'] = (data_children_family_status_pivot['Имеется задолженность']/data_children_family_status_pivot['All'])"
   ]
  },
  {
   "cell_type": "code",
   "execution_count": 564,
   "metadata": {},
   "outputs": [],
   "source": [
    "#1ый метод\n",
    "#data_children_family_status_pivot['Доля'] = data_children_family_status_pivot['Доля'].apply(lambda x: '{:.2%}'.format(x))"
   ]
  },
  {
   "cell_type": "code",
   "execution_count": 565,
   "metadata": {},
   "outputs": [],
   "source": [
    "#2ый метод\n",
    "def status_debt(value):\n",
    "    return '{:.2%}'.format(value)\n",
    "data_children_family_status_pivot['Доля'] = data_children_family_status_pivot['Доля'].apply(status_debt)"
   ]
  },
  {
   "cell_type": "markdown",
   "metadata": {},
   "source": [
    "Клиенты без детей берут чаще кредиты и при этом процент невозврата у них меньше."
   ]
  },
  {
   "cell_type": "code",
   "execution_count": 566,
   "metadata": {},
   "outputs": [
    {
     "data": {
      "text/html": [
       "<div>\n",
       "<style scoped>\n",
       "    .dataframe tbody tr th:only-of-type {\n",
       "        vertical-align: middle;\n",
       "    }\n",
       "\n",
       "    .dataframe tbody tr th {\n",
       "        vertical-align: top;\n",
       "    }\n",
       "\n",
       "    .dataframe thead th {\n",
       "        text-align: right;\n",
       "    }\n",
       "</style>\n",
       "<table border=\"1\" class=\"dataframe\">\n",
       "  <thead>\n",
       "    <tr style=\"text-align: right;\">\n",
       "      <th>status_debt</th>\n",
       "      <th>children</th>\n",
       "      <th>family_status</th>\n",
       "      <th>Задолженности нет</th>\n",
       "      <th>Имеется задолженность</th>\n",
       "      <th>All</th>\n",
       "      <th>Доля</th>\n",
       "    </tr>\n",
       "  </thead>\n",
       "  <tbody>\n",
       "    <tr>\n",
       "      <td>0</td>\n",
       "      <td>есть дети</td>\n",
       "      <td>Не женат / не замужем</td>\n",
       "      <td>484</td>\n",
       "      <td>64</td>\n",
       "      <td>548</td>\n",
       "      <td>11.68%</td>\n",
       "    </tr>\n",
       "    <tr>\n",
       "      <td>1</td>\n",
       "      <td>есть дети</td>\n",
       "      <td>в разводе</td>\n",
       "      <td>381</td>\n",
       "      <td>30</td>\n",
       "      <td>411</td>\n",
       "      <td>7.30%</td>\n",
       "    </tr>\n",
       "    <tr>\n",
       "      <td>2</td>\n",
       "      <td>есть дети</td>\n",
       "      <td>вдовец / вдова</td>\n",
       "      <td>102</td>\n",
       "      <td>10</td>\n",
       "      <td>112</td>\n",
       "      <td>8.93%</td>\n",
       "    </tr>\n",
       "    <tr>\n",
       "      <td>3</td>\n",
       "      <td>есть дети</td>\n",
       "      <td>гражданский брак</td>\n",
       "      <td>1262</td>\n",
       "      <td>159</td>\n",
       "      <td>1421</td>\n",
       "      <td>11.19%</td>\n",
       "    </tr>\n",
       "    <tr>\n",
       "      <td>4</td>\n",
       "      <td>есть дети</td>\n",
       "      <td>женат / замужем</td>\n",
       "      <td>4456</td>\n",
       "      <td>415</td>\n",
       "      <td>4871</td>\n",
       "      <td>8.52%</td>\n",
       "    </tr>\n",
       "    <tr>\n",
       "      <td>5</td>\n",
       "      <td>нет детей</td>\n",
       "      <td>Не женат / не замужем</td>\n",
       "      <td>2052</td>\n",
       "      <td>210</td>\n",
       "      <td>2262</td>\n",
       "      <td>9.28%</td>\n",
       "    </tr>\n",
       "    <tr>\n",
       "      <td>6</td>\n",
       "      <td>нет детей</td>\n",
       "      <td>в разводе</td>\n",
       "      <td>729</td>\n",
       "      <td>55</td>\n",
       "      <td>784</td>\n",
       "      <td>7.02%</td>\n",
       "    </tr>\n",
       "    <tr>\n",
       "      <td>7</td>\n",
       "      <td>нет детей</td>\n",
       "      <td>вдовец / вдова</td>\n",
       "      <td>794</td>\n",
       "      <td>53</td>\n",
       "      <td>847</td>\n",
       "      <td>6.26%</td>\n",
       "    </tr>\n",
       "    <tr>\n",
       "      <td>8</td>\n",
       "      <td>нет детей</td>\n",
       "      <td>гражданский брак</td>\n",
       "      <td>2501</td>\n",
       "      <td>229</td>\n",
       "      <td>2730</td>\n",
       "      <td>8.39%</td>\n",
       "    </tr>\n",
       "    <tr>\n",
       "      <td>9</td>\n",
       "      <td>нет детей</td>\n",
       "      <td>женат / замужем</td>\n",
       "      <td>6952</td>\n",
       "      <td>516</td>\n",
       "      <td>7468</td>\n",
       "      <td>6.91%</td>\n",
       "    </tr>\n",
       "    <tr>\n",
       "      <td>10</td>\n",
       "      <td>All</td>\n",
       "      <td></td>\n",
       "      <td>19713</td>\n",
       "      <td>1741</td>\n",
       "      <td>21454</td>\n",
       "      <td>8.12%</td>\n",
       "    </tr>\n",
       "  </tbody>\n",
       "</table>\n",
       "</div>"
      ],
      "text/plain": [
       "status_debt   children          family_status  Задолженности нет  \\\n",
       "0            есть дети  Не женат / не замужем                484   \n",
       "1            есть дети              в разводе                381   \n",
       "2            есть дети         вдовец / вдова                102   \n",
       "3            есть дети       гражданский брак               1262   \n",
       "4            есть дети        женат / замужем               4456   \n",
       "5            нет детей  Не женат / не замужем               2052   \n",
       "6            нет детей              в разводе                729   \n",
       "7            нет детей         вдовец / вдова                794   \n",
       "8            нет детей       гражданский брак               2501   \n",
       "9            нет детей        женат / замужем               6952   \n",
       "10                 All                                     19713   \n",
       "\n",
       "status_debt  Имеется задолженность    All    Доля  \n",
       "0                               64    548  11.68%  \n",
       "1                               30    411   7.30%  \n",
       "2                               10    112   8.93%  \n",
       "3                              159   1421  11.19%  \n",
       "4                              415   4871   8.52%  \n",
       "5                              210   2262   9.28%  \n",
       "6                               55    784   7.02%  \n",
       "7                               53    847   6.26%  \n",
       "8                              229   2730   8.39%  \n",
       "9                              516   7468   6.91%  \n",
       "10                            1741  21454   8.12%  "
      ]
     },
     "execution_count": 566,
     "metadata": {},
     "output_type": "execute_result"
    }
   ],
   "source": [
    "data_children_family_status_pivot.reset_index()"
   ]
  },
  {
   "cell_type": "markdown",
   "metadata": {},
   "source": [
    "Развернутый анализ в соответствии с количеством детей и семейным положением"
   ]
  },
  {
   "cell_type": "code",
   "execution_count": 567,
   "metadata": {},
   "outputs": [],
   "source": [
    "data_education_status_pivot=data.pivot_table(index=['education','family_status'],columns='status_debt',values='debt',aggfunc='count',fill_value=0, margins=True)"
   ]
  },
  {
   "cell_type": "code",
   "execution_count": 568,
   "metadata": {},
   "outputs": [],
   "source": [
    "data_education_status_pivot['Доля'] = (data_education_status_pivot['Имеется задолженность']/data_education_status_pivot['All'])"
   ]
  },
  {
   "cell_type": "code",
   "execution_count": 569,
   "metadata": {},
   "outputs": [],
   "source": [
    "data_education_status_pivot['Доля'] = data_education_status_pivot['Доля'].apply(lambda x: '{:.2%}'.format(x))"
   ]
  },
  {
   "cell_type": "code",
   "execution_count": 570,
   "metadata": {},
   "outputs": [],
   "source": [
    "data_education_status_pivot2=data.pivot_table(index=['education'],columns='status_debt',values='debt',aggfunc='count',fill_value=0, margins=True)"
   ]
  },
  {
   "cell_type": "code",
   "execution_count": 571,
   "metadata": {},
   "outputs": [],
   "source": [
    "data_education_status_pivot2['Доля'] = (data_education_status_pivot2['Имеется задолженность']/data_education_status_pivot2['All'])"
   ]
  },
  {
   "cell_type": "code",
   "execution_count": 572,
   "metadata": {},
   "outputs": [],
   "source": [
    "data_education_status_pivot2['Доля'] = data_education_status_pivot2['Доля'].apply(lambda x: '{:.2%}'.format(x))"
   ]
  },
  {
   "cell_type": "code",
   "execution_count": 573,
   "metadata": {},
   "outputs": [
    {
     "data": {
      "text/html": [
       "<div>\n",
       "<style scoped>\n",
       "    .dataframe tbody tr th:only-of-type {\n",
       "        vertical-align: middle;\n",
       "    }\n",
       "\n",
       "    .dataframe tbody tr th {\n",
       "        vertical-align: top;\n",
       "    }\n",
       "\n",
       "    .dataframe thead th {\n",
       "        text-align: right;\n",
       "    }\n",
       "</style>\n",
       "<table border=\"1\" class=\"dataframe\">\n",
       "  <thead>\n",
       "    <tr style=\"text-align: right;\">\n",
       "      <th>status_debt</th>\n",
       "      <th>education</th>\n",
       "      <th>Задолженности нет</th>\n",
       "      <th>Имеется задолженность</th>\n",
       "      <th>All</th>\n",
       "      <th>Доля</th>\n",
       "    </tr>\n",
       "  </thead>\n",
       "  <tbody>\n",
       "    <tr>\n",
       "      <td>0</td>\n",
       "      <td>высшее</td>\n",
       "      <td>4972</td>\n",
       "      <td>278</td>\n",
       "      <td>5250</td>\n",
       "      <td>5.30%</td>\n",
       "    </tr>\n",
       "    <tr>\n",
       "      <td>1</td>\n",
       "      <td>начальное</td>\n",
       "      <td>251</td>\n",
       "      <td>31</td>\n",
       "      <td>282</td>\n",
       "      <td>10.99%</td>\n",
       "    </tr>\n",
       "    <tr>\n",
       "      <td>2</td>\n",
       "      <td>неоконченное высшее</td>\n",
       "      <td>676</td>\n",
       "      <td>68</td>\n",
       "      <td>744</td>\n",
       "      <td>9.14%</td>\n",
       "    </tr>\n",
       "    <tr>\n",
       "      <td>3</td>\n",
       "      <td>среднее</td>\n",
       "      <td>13808</td>\n",
       "      <td>1364</td>\n",
       "      <td>15172</td>\n",
       "      <td>8.99%</td>\n",
       "    </tr>\n",
       "    <tr>\n",
       "      <td>4</td>\n",
       "      <td>ученая степень</td>\n",
       "      <td>6</td>\n",
       "      <td>0</td>\n",
       "      <td>6</td>\n",
       "      <td>0.00%</td>\n",
       "    </tr>\n",
       "    <tr>\n",
       "      <td>5</td>\n",
       "      <td>All</td>\n",
       "      <td>19713</td>\n",
       "      <td>1741</td>\n",
       "      <td>21454</td>\n",
       "      <td>8.12%</td>\n",
       "    </tr>\n",
       "  </tbody>\n",
       "</table>\n",
       "</div>"
      ],
      "text/plain": [
       "status_debt            education  Задолженности нет  Имеется задолженность  \\\n",
       "0                         высшее               4972                    278   \n",
       "1                      начальное                251                     31   \n",
       "2            неоконченное высшее                676                     68   \n",
       "3                        среднее              13808                   1364   \n",
       "4                 ученая степень                  6                      0   \n",
       "5                            All              19713                   1741   \n",
       "\n",
       "status_debt    All    Доля  \n",
       "0             5250   5.30%  \n",
       "1              282  10.99%  \n",
       "2              744   9.14%  \n",
       "3            15172   8.99%  \n",
       "4                6   0.00%  \n",
       "5            21454   8.12%  "
      ]
     },
     "execution_count": 573,
     "metadata": {},
     "output_type": "execute_result"
    }
   ],
   "source": [
    "data_education_status_pivot2.reset_index()"
   ]
  },
  {
   "cell_type": "markdown",
   "metadata": {},
   "source": [
    "Клиенты с высшим образованием имеют самый низкий процент невозврат, а с ученой степенью невозвраты вообще отсутствуют."
   ]
  },
  {
   "cell_type": "code",
   "execution_count": 574,
   "metadata": {},
   "outputs": [
    {
     "data": {
      "text/html": [
       "<div>\n",
       "<style scoped>\n",
       "    .dataframe tbody tr th:only-of-type {\n",
       "        vertical-align: middle;\n",
       "    }\n",
       "\n",
       "    .dataframe tbody tr th {\n",
       "        vertical-align: top;\n",
       "    }\n",
       "\n",
       "    .dataframe thead th {\n",
       "        text-align: right;\n",
       "    }\n",
       "</style>\n",
       "<table border=\"1\" class=\"dataframe\">\n",
       "  <thead>\n",
       "    <tr style=\"text-align: right;\">\n",
       "      <th>status_debt</th>\n",
       "      <th>education</th>\n",
       "      <th>family_status</th>\n",
       "      <th>Задолженности нет</th>\n",
       "      <th>Имеется задолженность</th>\n",
       "      <th>All</th>\n",
       "      <th>Доля</th>\n",
       "    </tr>\n",
       "  </thead>\n",
       "  <tbody>\n",
       "    <tr>\n",
       "      <td>0</td>\n",
       "      <td>высшее</td>\n",
       "      <td>Не женат / не замужем</td>\n",
       "      <td>759</td>\n",
       "      <td>46</td>\n",
       "      <td>805</td>\n",
       "      <td>5.71%</td>\n",
       "    </tr>\n",
       "    <tr>\n",
       "      <td>1</td>\n",
       "      <td>высшее</td>\n",
       "      <td>в разводе</td>\n",
       "      <td>301</td>\n",
       "      <td>15</td>\n",
       "      <td>316</td>\n",
       "      <td>4.75%</td>\n",
       "    </tr>\n",
       "    <tr>\n",
       "      <td>2</td>\n",
       "      <td>высшее</td>\n",
       "      <td>вдовец / вдова</td>\n",
       "      <td>129</td>\n",
       "      <td>7</td>\n",
       "      <td>136</td>\n",
       "      <td>5.15%</td>\n",
       "    </tr>\n",
       "    <tr>\n",
       "      <td>3</td>\n",
       "      <td>высшее</td>\n",
       "      <td>гражданский брак</td>\n",
       "      <td>898</td>\n",
       "      <td>55</td>\n",
       "      <td>953</td>\n",
       "      <td>5.77%</td>\n",
       "    </tr>\n",
       "    <tr>\n",
       "      <td>4</td>\n",
       "      <td>высшее</td>\n",
       "      <td>женат / замужем</td>\n",
       "      <td>2885</td>\n",
       "      <td>155</td>\n",
       "      <td>3040</td>\n",
       "      <td>5.10%</td>\n",
       "    </tr>\n",
       "    <tr>\n",
       "      <td>5</td>\n",
       "      <td>начальное</td>\n",
       "      <td>Не женат / не замужем</td>\n",
       "      <td>31</td>\n",
       "      <td>3</td>\n",
       "      <td>34</td>\n",
       "      <td>8.82%</td>\n",
       "    </tr>\n",
       "    <tr>\n",
       "      <td>6</td>\n",
       "      <td>начальное</td>\n",
       "      <td>в разводе</td>\n",
       "      <td>18</td>\n",
       "      <td>2</td>\n",
       "      <td>20</td>\n",
       "      <td>10.00%</td>\n",
       "    </tr>\n",
       "    <tr>\n",
       "      <td>7</td>\n",
       "      <td>начальное</td>\n",
       "      <td>вдовец / вдова</td>\n",
       "      <td>31</td>\n",
       "      <td>0</td>\n",
       "      <td>31</td>\n",
       "      <td>0.00%</td>\n",
       "    </tr>\n",
       "    <tr>\n",
       "      <td>8</td>\n",
       "      <td>начальное</td>\n",
       "      <td>гражданский брак</td>\n",
       "      <td>45</td>\n",
       "      <td>11</td>\n",
       "      <td>56</td>\n",
       "      <td>19.64%</td>\n",
       "    </tr>\n",
       "    <tr>\n",
       "      <td>9</td>\n",
       "      <td>начальное</td>\n",
       "      <td>женат / замужем</td>\n",
       "      <td>126</td>\n",
       "      <td>15</td>\n",
       "      <td>141</td>\n",
       "      <td>10.64%</td>\n",
       "    </tr>\n",
       "    <tr>\n",
       "      <td>10</td>\n",
       "      <td>неоконченное высшее</td>\n",
       "      <td>Не женат / не замужем</td>\n",
       "      <td>175</td>\n",
       "      <td>18</td>\n",
       "      <td>193</td>\n",
       "      <td>9.33%</td>\n",
       "    </tr>\n",
       "    <tr>\n",
       "      <td>11</td>\n",
       "      <td>неоконченное высшее</td>\n",
       "      <td>в разводе</td>\n",
       "      <td>27</td>\n",
       "      <td>4</td>\n",
       "      <td>31</td>\n",
       "      <td>12.90%</td>\n",
       "    </tr>\n",
       "    <tr>\n",
       "      <td>12</td>\n",
       "      <td>неоконченное высшее</td>\n",
       "      <td>вдовец / вдова</td>\n",
       "      <td>11</td>\n",
       "      <td>2</td>\n",
       "      <td>13</td>\n",
       "      <td>15.38%</td>\n",
       "    </tr>\n",
       "    <tr>\n",
       "      <td>13</td>\n",
       "      <td>неоконченное высшее</td>\n",
       "      <td>гражданский брак</td>\n",
       "      <td>152</td>\n",
       "      <td>14</td>\n",
       "      <td>166</td>\n",
       "      <td>8.43%</td>\n",
       "    </tr>\n",
       "    <tr>\n",
       "      <td>14</td>\n",
       "      <td>неоконченное высшее</td>\n",
       "      <td>женат / замужем</td>\n",
       "      <td>311</td>\n",
       "      <td>30</td>\n",
       "      <td>341</td>\n",
       "      <td>8.80%</td>\n",
       "    </tr>\n",
       "    <tr>\n",
       "      <td>15</td>\n",
       "      <td>среднее</td>\n",
       "      <td>Не женат / не замужем</td>\n",
       "      <td>1570</td>\n",
       "      <td>207</td>\n",
       "      <td>1777</td>\n",
       "      <td>11.65%</td>\n",
       "    </tr>\n",
       "    <tr>\n",
       "      <td>16</td>\n",
       "      <td>среднее</td>\n",
       "      <td>в разводе</td>\n",
       "      <td>763</td>\n",
       "      <td>64</td>\n",
       "      <td>827</td>\n",
       "      <td>7.74%</td>\n",
       "    </tr>\n",
       "    <tr>\n",
       "      <td>17</td>\n",
       "      <td>среднее</td>\n",
       "      <td>вдовец / вдова</td>\n",
       "      <td>725</td>\n",
       "      <td>54</td>\n",
       "      <td>779</td>\n",
       "      <td>6.93%</td>\n",
       "    </tr>\n",
       "    <tr>\n",
       "      <td>18</td>\n",
       "      <td>среднее</td>\n",
       "      <td>гражданский брак</td>\n",
       "      <td>2668</td>\n",
       "      <td>308</td>\n",
       "      <td>2976</td>\n",
       "      <td>10.35%</td>\n",
       "    </tr>\n",
       "    <tr>\n",
       "      <td>19</td>\n",
       "      <td>среднее</td>\n",
       "      <td>женат / замужем</td>\n",
       "      <td>8082</td>\n",
       "      <td>731</td>\n",
       "      <td>8813</td>\n",
       "      <td>8.29%</td>\n",
       "    </tr>\n",
       "    <tr>\n",
       "      <td>20</td>\n",
       "      <td>ученая степень</td>\n",
       "      <td>Не женат / не замужем</td>\n",
       "      <td>1</td>\n",
       "      <td>0</td>\n",
       "      <td>1</td>\n",
       "      <td>0.00%</td>\n",
       "    </tr>\n",
       "    <tr>\n",
       "      <td>21</td>\n",
       "      <td>ученая степень</td>\n",
       "      <td>в разводе</td>\n",
       "      <td>1</td>\n",
       "      <td>0</td>\n",
       "      <td>1</td>\n",
       "      <td>0.00%</td>\n",
       "    </tr>\n",
       "    <tr>\n",
       "      <td>22</td>\n",
       "      <td>ученая степень</td>\n",
       "      <td>женат / замужем</td>\n",
       "      <td>4</td>\n",
       "      <td>0</td>\n",
       "      <td>4</td>\n",
       "      <td>0.00%</td>\n",
       "    </tr>\n",
       "    <tr>\n",
       "      <td>23</td>\n",
       "      <td>All</td>\n",
       "      <td></td>\n",
       "      <td>19713</td>\n",
       "      <td>1741</td>\n",
       "      <td>21454</td>\n",
       "      <td>8.12%</td>\n",
       "    </tr>\n",
       "  </tbody>\n",
       "</table>\n",
       "</div>"
      ],
      "text/plain": [
       "status_debt            education          family_status  Задолженности нет  \\\n",
       "0                         высшее  Не женат / не замужем                759   \n",
       "1                         высшее              в разводе                301   \n",
       "2                         высшее         вдовец / вдова                129   \n",
       "3                         высшее       гражданский брак                898   \n",
       "4                         высшее        женат / замужем               2885   \n",
       "5                      начальное  Не женат / не замужем                 31   \n",
       "6                      начальное              в разводе                 18   \n",
       "7                      начальное         вдовец / вдова                 31   \n",
       "8                      начальное       гражданский брак                 45   \n",
       "9                      начальное        женат / замужем                126   \n",
       "10           неоконченное высшее  Не женат / не замужем                175   \n",
       "11           неоконченное высшее              в разводе                 27   \n",
       "12           неоконченное высшее         вдовец / вдова                 11   \n",
       "13           неоконченное высшее       гражданский брак                152   \n",
       "14           неоконченное высшее        женат / замужем                311   \n",
       "15                       среднее  Не женат / не замужем               1570   \n",
       "16                       среднее              в разводе                763   \n",
       "17                       среднее         вдовец / вдова                725   \n",
       "18                       среднее       гражданский брак               2668   \n",
       "19                       среднее        женат / замужем               8082   \n",
       "20                ученая степень  Не женат / не замужем                  1   \n",
       "21                ученая степень              в разводе                  1   \n",
       "22                ученая степень        женат / замужем                  4   \n",
       "23                           All                                     19713   \n",
       "\n",
       "status_debt  Имеется задолженность    All    Доля  \n",
       "0                               46    805   5.71%  \n",
       "1                               15    316   4.75%  \n",
       "2                                7    136   5.15%  \n",
       "3                               55    953   5.77%  \n",
       "4                              155   3040   5.10%  \n",
       "5                                3     34   8.82%  \n",
       "6                                2     20  10.00%  \n",
       "7                                0     31   0.00%  \n",
       "8                               11     56  19.64%  \n",
       "9                               15    141  10.64%  \n",
       "10                              18    193   9.33%  \n",
       "11                               4     31  12.90%  \n",
       "12                               2     13  15.38%  \n",
       "13                              14    166   8.43%  \n",
       "14                              30    341   8.80%  \n",
       "15                             207   1777  11.65%  \n",
       "16                              64    827   7.74%  \n",
       "17                              54    779   6.93%  \n",
       "18                             308   2976  10.35%  \n",
       "19                             731   8813   8.29%  \n",
       "20                               0      1   0.00%  \n",
       "21                               0      1   0.00%  \n",
       "22                               0      4   0.00%  \n",
       "23                            1741  21454   8.12%  "
      ]
     },
     "execution_count": 574,
     "metadata": {},
     "output_type": "execute_result"
    }
   ],
   "source": [
    "data_education_status_pivot.reset_index()"
   ]
  },
  {
   "cell_type": "markdown",
   "metadata": {},
   "source": [
    "   "
   ]
  },
  {
   "cell_type": "code",
   "execution_count": 575,
   "metadata": {},
   "outputs": [],
   "source": [
    "def total_income_debt (data):\n",
    "    if data['total_income'] <= 30000:\n",
    "        return 'низкий доход'\n",
    "    elif 30000 < data['total_income'] <= 80000:\n",
    "        return 'средний доход'\n",
    "    elif 80000 < data['total_income'] <= 150000:\n",
    "        return 'высокий доход'\n",
    "    else:\n",
    "        return 'сверхдоход'"
   ]
  },
  {
   "cell_type": "code",
   "execution_count": 576,
   "metadata": {},
   "outputs": [
    {
     "data": {
      "text/html": [
       "<div>\n",
       "<style scoped>\n",
       "    .dataframe tbody tr th:only-of-type {\n",
       "        vertical-align: middle;\n",
       "    }\n",
       "\n",
       "    .dataframe tbody tr th {\n",
       "        vertical-align: top;\n",
       "    }\n",
       "\n",
       "    .dataframe thead th {\n",
       "        text-align: right;\n",
       "    }\n",
       "</style>\n",
       "<table border=\"1\" class=\"dataframe\">\n",
       "  <thead>\n",
       "    <tr style=\"text-align: right;\">\n",
       "      <th></th>\n",
       "      <th>debt</th>\n",
       "    </tr>\n",
       "    <tr>\n",
       "      <th>total_income_debt</th>\n",
       "      <th></th>\n",
       "    </tr>\n",
       "  </thead>\n",
       "  <tbody>\n",
       "    <tr>\n",
       "      <td>средний доход</td>\n",
       "      <td>0.076309</td>\n",
       "    </tr>\n",
       "    <tr>\n",
       "      <td>сверхдоход</td>\n",
       "      <td>0.078984</td>\n",
       "    </tr>\n",
       "    <tr>\n",
       "      <td>высокий доход</td>\n",
       "      <td>0.085297</td>\n",
       "    </tr>\n",
       "    <tr>\n",
       "      <td>низкий доход</td>\n",
       "      <td>0.090909</td>\n",
       "    </tr>\n",
       "  </tbody>\n",
       "</table>\n",
       "</div>"
      ],
      "text/plain": [
       "                       debt\n",
       "total_income_debt          \n",
       "средний доход      0.076309\n",
       "сверхдоход         0.078984\n",
       "высокий доход      0.085297\n",
       "низкий доход       0.090909"
      ]
     },
     "execution_count": 576,
     "metadata": {},
     "output_type": "execute_result"
    }
   ],
   "source": [
    "data['total_income_debt']=data.apply(total_income_debt, axis=1)\n",
    "def rezyltat (categoria):\n",
    "    return data.groupby(categoria)['debt'].mean().to_frame().sort_values(by='debt')\n",
    "rezyltat ('total_income_debt')"
   ]
  },
  {
   "cell_type": "code",
   "execution_count": 577,
   "metadata": {},
   "outputs": [
    {
     "data": {
      "text/html": [
       "<div>\n",
       "<style scoped>\n",
       "    .dataframe tbody tr th:only-of-type {\n",
       "        vertical-align: middle;\n",
       "    }\n",
       "\n",
       "    .dataframe tbody tr th {\n",
       "        vertical-align: top;\n",
       "    }\n",
       "\n",
       "    .dataframe thead th {\n",
       "        text-align: right;\n",
       "    }\n",
       "</style>\n",
       "<table border=\"1\" class=\"dataframe\">\n",
       "  <thead>\n",
       "    <tr style=\"text-align: right;\">\n",
       "      <th></th>\n",
       "      <th></th>\n",
       "      <th>status_debt</th>\n",
       "      <th>total_income</th>\n",
       "    </tr>\n",
       "    <tr>\n",
       "      <th>income_type</th>\n",
       "      <th>status_debt</th>\n",
       "      <th></th>\n",
       "      <th></th>\n",
       "    </tr>\n",
       "  </thead>\n",
       "  <tbody>\n",
       "    <tr>\n",
       "      <td rowspan=\"2\" valign=\"top\">безработный</td>\n",
       "      <td>Задолженности нет</td>\n",
       "      <td>1</td>\n",
       "      <td>202722.000000</td>\n",
       "    </tr>\n",
       "    <tr>\n",
       "      <td>Имеется задолженность</td>\n",
       "      <td>1</td>\n",
       "      <td>59956.000000</td>\n",
       "    </tr>\n",
       "    <tr>\n",
       "      <td>в декрете</td>\n",
       "      <td>Имеется задолженность</td>\n",
       "      <td>1</td>\n",
       "      <td>53829.000000</td>\n",
       "    </tr>\n",
       "    <tr>\n",
       "      <td rowspan=\"2\" valign=\"top\">госслужащий</td>\n",
       "      <td>Задолженности нет</td>\n",
       "      <td>1371</td>\n",
       "      <td>171977.783370</td>\n",
       "    </tr>\n",
       "    <tr>\n",
       "      <td>Имеется задолженность</td>\n",
       "      <td>86</td>\n",
       "      <td>153681.162791</td>\n",
       "    </tr>\n",
       "    <tr>\n",
       "      <td rowspan=\"2\" valign=\"top\">компаньон</td>\n",
       "      <td>Задолженности нет</td>\n",
       "      <td>4702</td>\n",
       "      <td>202910.361123</td>\n",
       "    </tr>\n",
       "    <tr>\n",
       "      <td>Имеется задолженность</td>\n",
       "      <td>376</td>\n",
       "      <td>196246.976064</td>\n",
       "    </tr>\n",
       "    <tr>\n",
       "      <td rowspan=\"2\" valign=\"top\">пенсионер</td>\n",
       "      <td>Задолженности нет</td>\n",
       "      <td>3613</td>\n",
       "      <td>136991.019098</td>\n",
       "    </tr>\n",
       "    <tr>\n",
       "      <td>Имеется задолженность</td>\n",
       "      <td>216</td>\n",
       "      <td>139401.069444</td>\n",
       "    </tr>\n",
       "    <tr>\n",
       "      <td>предприниматель</td>\n",
       "      <td>Задолженности нет</td>\n",
       "      <td>2</td>\n",
       "      <td>499163.000000</td>\n",
       "    </tr>\n",
       "    <tr>\n",
       "      <td rowspan=\"2\" valign=\"top\">сотрудник</td>\n",
       "      <td>Задолженности нет</td>\n",
       "      <td>10023</td>\n",
       "      <td>161812.744089</td>\n",
       "    </tr>\n",
       "    <tr>\n",
       "      <td>Имеется задолженность</td>\n",
       "      <td>1061</td>\n",
       "      <td>157289.673893</td>\n",
       "    </tr>\n",
       "    <tr>\n",
       "      <td>студент</td>\n",
       "      <td>Задолженности нет</td>\n",
       "      <td>1</td>\n",
       "      <td>98201.000000</td>\n",
       "    </tr>\n",
       "  </tbody>\n",
       "</table>\n",
       "</div>"
      ],
      "text/plain": [
       "                                       status_debt   total_income\n",
       "income_type     status_debt                                      \n",
       "безработный     Задолженности нет                1  202722.000000\n",
       "                Имеется задолженность            1   59956.000000\n",
       "в декрете       Имеется задолженность            1   53829.000000\n",
       "госслужащий     Задолженности нет             1371  171977.783370\n",
       "                Имеется задолженность           86  153681.162791\n",
       "компаньон       Задолженности нет             4702  202910.361123\n",
       "                Имеется задолженность          376  196246.976064\n",
       "пенсионер       Задолженности нет             3613  136991.019098\n",
       "                Имеется задолженность          216  139401.069444\n",
       "предприниматель Задолженности нет                2  499163.000000\n",
       "сотрудник       Задолженности нет            10023  161812.744089\n",
       "                Имеется задолженность         1061  157289.673893\n",
       "студент         Задолженности нет                1   98201.000000"
      ]
     },
     "execution_count": 577,
     "metadata": {},
     "output_type": "execute_result"
    }
   ],
   "source": [
    "status_income=data.groupby(['income_type', 'status_debt']).agg({'status_debt':'count','total_income':'mean'})\n",
    "status_income"
   ]
  },
  {
   "cell_type": "markdown",
   "metadata": {},
   "source": [
    "Вывод: Для оценки факторов погашения кредитов осуществляем исходя из финансовых возможностей клиента (его ежемесячного дохода). Кредиты в нашей модели выдавались по следующим типам занятости, представленные выше. При этом мы наблюдаем и выделяем для себя четыре группы (сотрудник, компаньон, пенсионер и госслужащий). Три из которых имеют устойчивый и постоянный тип дохода. Как видно резкого перепада в значениях нет и носит индивидуальный характер. Это показатель платежеспособности клиента выплачивать кредит. К построению нашей модели я его б не относил, а как фактор получения кредита он будет использоваться.   "
   ]
  },
  {
   "cell_type": "markdown",
   "metadata": {},
   "source": [
    "### Лемматизация"
   ]
  },
  {
   "cell_type": "markdown",
   "metadata": {},
   "source": [
    "### В проекте есть столбец purpose в котором указаны цели получения кредита. В нем содержатся похожие цели, но в разно сочетании слов. Необходимо выяснить уникальные цели (леммы) и добавить их в новый столбец"
   ]
  },
  {
   "cell_type": "code",
   "execution_count": 578,
   "metadata": {},
   "outputs": [],
   "source": [
    "from pymystem3 import Mystem\n",
    "m=Mystem()"
   ]
  },
  {
   "cell_type": "code",
   "execution_count": 579,
   "metadata": {},
   "outputs": [],
   "source": [
    "my_list=data.loc[:,'purpose'].tolist()"
   ]
  },
  {
   "cell_type": "code",
   "execution_count": 580,
   "metadata": {},
   "outputs": [],
   "source": [
    "text = ','.join(my_list)"
   ]
  },
  {
   "cell_type": "code",
   "execution_count": 581,
   "metadata": {},
   "outputs": [],
   "source": [
    "lemmas=m.lemmatize(text)"
   ]
  },
  {
   "cell_type": "code",
   "execution_count": 582,
   "metadata": {},
   "outputs": [],
   "source": [
    "#print(lemmas)"
   ]
  },
  {
   "cell_type": "code",
   "execution_count": 583,
   "metadata": {},
   "outputs": [],
   "source": [
    "from collections import Counter"
   ]
  },
  {
   "cell_type": "markdown",
   "metadata": {},
   "source": [
    "### Выводим список (рейтинг) уникальных целей"
   ]
  },
  {
   "cell_type": "code",
   "execution_count": 584,
   "metadata": {},
   "outputs": [
    {
     "name": "stdout",
     "output_type": "stream",
     "text": [
      "Counter({' ': 33570, ',': 21453, 'недвижимость': 6351, 'покупка': 5897, 'жилье': 4460, 'автомобиль': 4306, 'образование': 4013, 'с': 2918, 'операция': 2604, 'свадьба': 2324, 'свой': 2230, 'на': 2222, 'строительство': 1878, 'высокий': 1374, 'получение': 1314, 'коммерческий': 1311, 'для': 1289, 'жилой': 1230, 'сделка': 941, 'дополнительный': 906, 'заниматься': 904, 'подержать': 853, 'проведение': 768, 'сыграть': 765, 'сдача': 651, 'семья': 638, 'собственный': 635, 'со': 627, 'ремонт': 607, 'приобретение': 461, 'профильный': 436, 'подержанный': 111, '\\n': 1})\n"
     ]
    }
   ],
   "source": [
    "print(Counter(lemmas))"
   ]
  },
  {
   "cell_type": "code",
   "execution_count": 585,
   "metadata": {},
   "outputs": [
    {
     "data": {
      "text/plain": [
       "[(' ', 33570),\n",
       " ('\\n', 21454),\n",
       " ('недвижимость', 6351),\n",
       " ('покупка', 5897),\n",
       " ('жилье', 4460),\n",
       " ('автомобиль', 4306),\n",
       " ('образование', 4013),\n",
       " ('с', 2918),\n",
       " ('операция', 2604),\n",
       " ('свадьба', 2324),\n",
       " ('свой', 2230),\n",
       " ('на', 2222),\n",
       " ('строительство', 1878),\n",
       " ('высокий', 1374),\n",
       " ('получение', 1314),\n",
       " ('коммерческий', 1311),\n",
       " ('для', 1289),\n",
       " ('жилой', 1230),\n",
       " ('сделка', 941),\n",
       " ('дополнительный', 906),\n",
       " ('заниматься', 904),\n",
       " ('проведение', 768),\n",
       " ('сыграть', 765),\n",
       " ('сдача', 651),\n",
       " ('семья', 638),\n",
       " ('собственный', 635),\n",
       " ('со', 627),\n",
       " ('ремонт', 607),\n",
       " ('подержанный', 486),\n",
       " ('подержать', 478),\n",
       " ('приобретение', 461),\n",
       " ('профильный', 436)]"
      ]
     },
     "execution_count": 585,
     "metadata": {},
     "output_type": "execute_result"
    }
   ],
   "source": [
    "data['purpose_lemma'] = data['purpose'].apply(m.lemmatize)\n",
    "text=Counter(data['purpose_lemma'].sum())\n",
    "text.most_common()"
   ]
  },
  {
   "cell_type": "code",
   "execution_count": 586,
   "metadata": {},
   "outputs": [],
   "source": [
    "def purpose_lemma (data):\n",
    "    data=data['purpose_lemma']\n",
    "    try:\n",
    "        if ('жилье' in data) or ('недвижимость' in data):\n",
    "            return 'недвижимость'\n",
    "        if 'автомобиль' in data:\n",
    "            return 'автомобиль'\n",
    "        if 'образование' in data:\n",
    "            return 'образование'\n",
    "        if 'свадьба' in data:\n",
    "            return 'свадьба'\n",
    "        else:\n",
    "            return 'нет данных'\n",
    "    except:\n",
    "        return 'ошибка'"
   ]
  },
  {
   "cell_type": "code",
   "execution_count": 587,
   "metadata": {},
   "outputs": [
    {
     "data": {
      "text/html": [
       "<div>\n",
       "<style scoped>\n",
       "    .dataframe tbody tr th:only-of-type {\n",
       "        vertical-align: middle;\n",
       "    }\n",
       "\n",
       "    .dataframe tbody tr th {\n",
       "        vertical-align: top;\n",
       "    }\n",
       "\n",
       "    .dataframe thead th {\n",
       "        text-align: right;\n",
       "    }\n",
       "</style>\n",
       "<table border=\"1\" class=\"dataframe\">\n",
       "  <thead>\n",
       "    <tr style=\"text-align: right;\">\n",
       "      <th></th>\n",
       "      <th>debt</th>\n",
       "    </tr>\n",
       "    <tr>\n",
       "      <th>purpose_lemma</th>\n",
       "      <th></th>\n",
       "    </tr>\n",
       "  </thead>\n",
       "  <tbody>\n",
       "    <tr>\n",
       "      <td>недвижимость</td>\n",
       "      <td>0.072334</td>\n",
       "    </tr>\n",
       "    <tr>\n",
       "      <td>свадьба</td>\n",
       "      <td>0.080034</td>\n",
       "    </tr>\n",
       "    <tr>\n",
       "      <td>образование</td>\n",
       "      <td>0.092200</td>\n",
       "    </tr>\n",
       "    <tr>\n",
       "      <td>автомобиль</td>\n",
       "      <td>0.093590</td>\n",
       "    </tr>\n",
       "  </tbody>\n",
       "</table>\n",
       "</div>"
      ],
      "text/plain": [
       "                   debt\n",
       "purpose_lemma          \n",
       "недвижимость   0.072334\n",
       "свадьба        0.080034\n",
       "образование    0.092200\n",
       "автомобиль     0.093590"
      ]
     },
     "execution_count": 587,
     "metadata": {},
     "output_type": "execute_result"
    }
   ],
   "source": [
    "data['purpose_lemma']=data.apply(purpose_lemma, axis=1)\n",
    "def rezyltat (categoria):\n",
    "    return data.groupby(categoria)['debt'].mean().to_frame().sort_values(by='debt')\n",
    "rezyltat ('purpose_lemma')"
   ]
  },
  {
   "cell_type": "markdown",
   "metadata": {},
   "source": [
    "### Шаг 3. Ответьте на вопросы"
   ]
  },
  {
   "cell_type": "markdown",
   "metadata": {},
   "source": [
    "- Есть ли зависимость между наличием детей и возвратом кредита в срок?"
   ]
  },
  {
   "cell_type": "markdown",
   "metadata": {},
   "source": [
    "Вывод: Клиенты без детей берут чаще кредиты и при этом процент невозврата у них меньше.\n",
    "       Наблюдается устойчивая теденция влияния количества детей на возврат кредита.\n",
    "       Клиенты без детей имеют большие доходы и как следствие быстрее возвратить кредит.\n",
    "       В нашем случае можно присвоить баллы для оценки данной модели следующего значения:\n",
    "       Нет детей           - 100б.\n",
    "       Один ребенок        - 50б.\n",
    "       Два ребенка         - 40б.\n",
    "       В остальных случаях - 20б.  "
   ]
  },
  {
   "cell_type": "markdown",
   "metadata": {},
   "source": [
    "### Вывод"
   ]
  },
  {
   "cell_type": "markdown",
   "metadata": {},
   "source": []
  },
  {
   "cell_type": "markdown",
   "metadata": {},
   "source": [
    "- Есть ли зависимость между семейным положением и возвратом кредита в срок?"
   ]
  },
  {
   "cell_type": "markdown",
   "metadata": {},
   "source": [
    "Вывод: Женатые (замужние) клиентов процент невозврата кредита меньше чему у не женатых (не замужних) \n",
    "       меньше на 2,2%, а по сравнению с гражданским браком - на 1,8%. При том, что кредитов у женатых \n",
    "       больше. Ниже процент невозврата только у клиентов в разводе и у вдовцов (вдова), но и \n",
    "       количество данных кредитов меньше примерно в 10 раз."
   ]
  },
  {
   "cell_type": "markdown",
   "metadata": {},
   "source": [
    "### Вывод"
   ]
  },
  {
   "cell_type": "markdown",
   "metadata": {},
   "source": [
    "- Есть ли зависимость между уровнем дохода и возвратом кредита в срок?"
   ]
  },
  {
   "cell_type": "markdown",
   "metadata": {},
   "source": [
    "### У клиентов со средним доходом самый низкий процент невозврата кредитов (7,6%), затем идет клиенты со сверхдоходом (7,9%), потом с высоким доходом (8,5%) и самый большой невозврат кредитов у клиентов с низким доходом (9,1%). В целом мы получили общепризнанную статистику:\n",
    "### Клиенты со средним доходом из большего стараются отдать кредит в оговоренные банком сроки\n",
    "### Клиенты со сверхдоходом просчитывают свое финансовое состояние и,  следовательно, планируют возвраты кредита вовремя\n",
    "### С высоким и низким доходом – это две самые рискованные группы. "
   ]
  },
  {
   "cell_type": "markdown",
   "metadata": {},
   "source": [
    "### Вывод"
   ]
  },
  {
   "cell_type": "markdown",
   "metadata": {},
   "source": [
    "- Как разные цели кредита влияют на его возврат в срок?"
   ]
  },
  {
   "cell_type": "markdown",
   "metadata": {},
   "source": [
    "### Мы получили четыре основные цели получения кредита - это недвижимость (в том числе жилье), приобретение автомобиля, образование и свадьба. На цели кредита образование и покупка автомобиля присутствует самый большой невозврат кредита и составляет чуть больше 9%."
   ]
  },
  {
   "cell_type": "markdown",
   "metadata": {},
   "source": [
    "### Шаг 4. Общий вывод"
   ]
  },
  {
   "cell_type": "markdown",
   "metadata": {},
   "source": [
    "## Самые надежные клиенты банка - это женатые/замужние (или в гражданском браке, или в разводе) с ученой степенью (или с высшим образованием), конечно без детей и цель получения кредита операции с недвижимостью. "
   ]
  }
 ],
 "metadata": {
  "kernelspec": {
   "display_name": "Python 3",
   "language": "python",
   "name": "python3"
  },
  "language_info": {
   "codemirror_mode": {
    "name": "ipython",
    "version": 3
   },
   "file_extension": ".py",
   "mimetype": "text/x-python",
   "name": "python",
   "nbconvert_exporter": "python",
   "pygments_lexer": "ipython3",
   "version": "3.7.6"
  }
 },
 "nbformat": 4,
 "nbformat_minor": 2
}
